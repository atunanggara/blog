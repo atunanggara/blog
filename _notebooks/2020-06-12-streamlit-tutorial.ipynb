{
 "cells": [
  {
   "cell_type": "markdown",
   "metadata": {},
   "source": [
    "# Streamlit Tutorial      \n",
    "> A tutorial for streamlit platform and heroku deployment\n",
    "\n",
    "- toc: true  \n",
    "- badges: true  \n",
    "- categories: [python, streamlit]  \n",
    "- image: images/thumbnails/streamlit_logo.png"
   ]
  },
  {
   "cell_type": "markdown",
   "metadata": {},
   "source": [
    "# Summary  \n",
    "\n",
    "Expanding on streamlit's [tutorial](https://docs.streamlit.io/en/latest/getting_started.html), I created [a streamlit app on heroku](https://streamlit-tutorial-extended.herokuapp.com/). "
   ]
  },
  {
   "cell_type": "markdown",
   "metadata": {},
   "source": [
    "# Interlude"
   ]
  },
  {
   "cell_type": "markdown",
   "metadata": {},
   "source": [
    "It has been a tough couple of weeks for me to grapple with [events](https://en.wikipedia.org/wiki/Killing_of_George_Floyd) that unfolded about 30 minutes away from where I live. This Martin Luther King Jr. quote that I read on [Chris Damian's blog post](https://chrisdamian.net/2020/05/29/reflections-on-a-second-night-of-fires/) resonated with me:    \n",
    "\n",
    "> “Let me say as I’ve always said, and I will always continue to say, that riots are socially destructive and self-defeating. … But in the final analysis, a riot is the language of the unheard. And what is it that America has failed to hear? It has failed to hear that the plight of the Negro poor has worsened over the last few years. It has failed to hear that the promises of freedom and justice have not been met. And it has failed to hear that large segments of white society are more concerned about tranquility and the status quo than about justice, equality, and humanity. And so in a real sense our nation’s summers of riots are caused by our nation’s winters of delay. And as long as America postpones justice, we stand in the position of having these recurrences of violence and riots over and over again.”\n",
    "> \n",
    "> Excerpt from Martin Luther King Jr.’s speech “The Other America,” 1967 at Stanford University.  \n",
    "\n",
    "Curious on the context of the quote, I ended up listening to the whole speech on YouTube:  "
   ]
  },
  {
   "cell_type": "markdown",
   "metadata": {},
   "source": [
    "> youtube: https://youtu.be/dOWDtDUKz-U   \n",
    "\n",
    "I hope that the words of MLK Jr. provided a context on the institutional racism that pervades the world in which we live in. May we have a more just and kind society.  "
   ]
  },
  {
   "cell_type": "markdown",
   "metadata": {},
   "source": [
    "# Introduction  "
   ]
  },
  {
   "cell_type": "markdown",
   "metadata": {},
   "source": [
    "I first heard about [streamlit](https://www.streamlit.io/) from a data scientist in the area. Supposedly, it can create an interactive web python app in a simplified manner. So, I went ahead and run through the [tutorial](https://docs.streamlit.io/en/latest/getting_started.html) to understand more on its capability. Since I am familiar with [flask](https://flask.palletsprojects.com/en/1.1.x/), I am going to compare it with streamlit in this introduction. \n",
    "\n",
    "First off, compared to [flask](https://flask.palletsprojects.com/en/1.1.x/), [streamlit](https://www.streamlit.io/) is simpler when it comes to creating a dynamic web app. In flask, it is recommended to save the python file in `.py` files in root and the [html](https://www.w3schools.com/html/html_intro.asp) file in `.html` files in `templates` folder. This is partly due to html being a verbose markup language. On the other hand, streamlit uses [GitHub flavored markdown](https://github.github.com/gfm/) and both python and markdown co-exist in one single python file. Markdown syntax can render rich formatted content in a concise manner. Of course, combining python with markdown texts can be confusing at first. But, if one is already familiar with [jupyter notebook](https://jupyter.org/), this format should come naturally."
   ]
  },
  {
   "cell_type": "markdown",
   "metadata": {},
   "source": [
    "Streamlit is created with fast deployment in mind. If one wants to have a perfect platform with all the bells and whistles, [flask](https://flask.palletsprojects.com/en/1.1.x/) and [django](https://www.djangoproject.com/) should be considered. However, if we want to keep things simple and get quick feedback from other teams, streamlit should be the way to go.  \n",
    "\n",
    "With that in mind, let's get to the [streamlit tutorial](https://docs.streamlit.io/en/latest/getting_started.html)."
   ]
  },
  {
   "cell_type": "markdown",
   "metadata": {},
   "source": [
    "# Streamlit tutorial  \n",
    "\n",
    "[My streamlit tutorial](https://streamlit-tutorial-extended.herokuapp.com/) is deployed on [heroku](https://www.heroku.com/).  The tutorial can be loosely divided into:  \n",
    "\n",
    "1. Interactive DataFrame  \n",
    "2. Drawing charts and maps   \n",
    "3. Add interactivity with Widgets  \n",
    "4. Show progress \n",
    "5. Record a screencast  \n",
    "\n",
    "Feel free to take a look at the [github repository](https://github.com/atunanggara/streamlit-tutorial-extended) to look into the `tutorial_streamlit.py` Python code. \n",
    "\n",
    "## Heroku deployment  \n",
    "\n",
    "For deploying the streamlit code into heroku, I followed along this YouTube video:  \n",
    "\n",
    "> youtube: https://youtu.be/skpiLtEN3yk   \n",
    "\n",
    "\n",
    "However, there are two deviations from the video:  \n",
    "\n",
    "1. For the virtual environment, using my old `pyenv` resulted in `heroku` crashing during the deployment. So, I created a new `pyenv` specifically to deploy the streamlit to heroku.  \n",
    "2. For [my](https://github.com/atunanggara/streamlit-tutorial-extended/blob/master/setup.sh) `setup.sh`, I stripped away all the backslashes and the newline characters as recommended on [the streamlit's forum](https://discuss.streamlit.io/t/deploying-heroku-error/1310):  \n",
    "```  \n",
    "mkdir -p ~/.streamlit \n",
    "```\n",
    "```\n",
    "echo \"[server]  \n",
    "headless = true  \n",
    "port = $PORT  \n",
    "enableCORS = false  \n",
    "\" > ~/.streamlit/config.toml  \n",
    "```"
   ]
  },
  {
   "cell_type": "markdown",
   "metadata": {},
   "source": [
    "# Concluding thoughts  \n",
    "\n"
   ]
  },
  {
   "cell_type": "markdown",
   "metadata": {},
   "source": [
    "Streamlit package is a simple way to deploy data driven app on the internet. I am excited to use this in creating a nice interactive machine learning web app in the future!  "
   ]
  },
  {
   "cell_type": "code",
   "execution_count": null,
   "metadata": {},
   "outputs": [],
   "source": []
  }
 ],
 "metadata": {
  "kernelspec": {
   "display_name": "Python 3",
   "language": "python",
   "name": "python3"
  },
  "language_info": {
   "codemirror_mode": {
    "name": "ipython",
    "version": 3
   },
   "file_extension": ".py",
   "mimetype": "text/x-python",
   "name": "python",
   "nbconvert_exporter": "python",
   "pygments_lexer": "ipython3",
   "version": "3.7.6"
  }
 },
 "nbformat": 4,
 "nbformat_minor": 2
}
