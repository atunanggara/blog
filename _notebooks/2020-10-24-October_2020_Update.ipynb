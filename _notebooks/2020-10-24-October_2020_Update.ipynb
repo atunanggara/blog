{
 "cells": [
  {
   "cell_type": "markdown",
   "metadata": {},
   "source": [
    "# October 2020 Update      \n",
    "> A couple of links worth sharing\n",
    "\n",
    "- toc: true  \n",
    "- badges: false  \n",
    "- categories: [python, streamlit, reflection]  \n",
    "- image: images/thumbnails/Reflection.jpg"
   ]
  },
  {
   "cell_type": "markdown",
   "metadata": {},
   "source": [
    "# Summary  \n",
    "\n",
    "Just a quick update from my October 2020 self."
   ]
  },
  {
   "cell_type": "markdown",
   "metadata": {},
   "source": [
    "# Introduction  \n",
    "\n",
    "It has been so long since I update this blog. Earlier this week, github warned me about the possibility of its action being disabled soon due to inactivity in this repository. So, _that_ is enough of a nudge for me to update this site. I want to tell my own self, via this post, \"I am still learning.\"\n",
    "\n",
    "As [Rachel Thomas](https://www.fast.ai/2019/05/13/blogging-advice/) wrote, _\"I usually advise new bloggers that your target audience could be you-6-months-ago.\"_ So, what have I learned since April 24, 2020? \n",
    "\n",
    "\n",
    "<img src=\"../images/thumbnails/Reflection.jpg\" style=\"width: 400px;\"/>  \n",
    "<p style=\"text-align: center;\"> <small> Credit: Photo by <a href=\"https://unsplash.com/@fcornish\"> Faye Cornish</a> on <a href=\"https://unsplash.com/s/photos/reflection\"> Unsplash </a> </small></p>  \n",
    "\n",
    "\n"
   ]
  },
  {
   "cell_type": "markdown",
   "metadata": {},
   "source": [
    "# Community of Learners  \n",
    "\n",
    "What I have appreciated most looking back to my-6-months-ago self is the opportunity to learn. The concept of continuous learning has always been embedded in my training as a PhD, in which I am grateful for. But learning alone can be though. So, I am thankful for the community of learners in the Twin Cities area, particularly in [Deep Learning](https://www.meetup.com/Twin-Cities-Deep-Learning-Study-Group/) and [R](https://www.meetup.com/AnalyzeThis/). I would recommend you to find those community in your area as well!    \n",
    "\n",
    "I was also given the opportunity to present on several different machine learning topics through these two communities. It has been a wonderful learning experience to distill them [\"as simple as possible, but not simpler\"](https://quoteinvestigator.com/2011/05/13/einstein-simple/) and transpired it to others.  \n",
    "\n",
    "In sharing the topics, I often use [streamlit](https://www.streamlit.io/) as my UI of choice. If you are interested in learning more about it, feel free to look at both [my earlier blog post](https://atunanggara.github.io/blog/python/streamlit/2020/06/12/streamlit-tutorial.html) and this [simple TensorFlow tutorial on sentiment analysis using deep learning in my repository](https://github.com/atunanggara/simple_dl_sentiment_analysis_lecture).  \n",
    "\n",
    "\n",
    "# Type-hinting in Python  \n",
    "\n",
    "In the past 6 months, I have grown to embrace [type hinting](https://www.python.org/dev/peps/pep-0484/) in my Python code writing. As someone who works with data, providing `hints` on the kind of input(s) and output(s) of my code really helps me with streamlining my process and my code writing. Definitely check it out and follow along this [excellent tutorial](https://realpython.com/python-type-checking/) if you are interested.  \n",
    "\n",
    "# A blog recommendation  \n",
    "\n",
    "I highly recommend [Vicki Boykis's takes on tech news that are rooted in humanism, nuance, context, rationality, and a little fun](https://vicki.substack.com/). Her latest writing, [The rise of the non-expert expert](https://vicki.substack.com/p/the-rise-of-the-non-expert-expert), is quite insightful in realizing the importance of the fundamentals in tech. She will be one of the keynote speaker for [rstudio::global(2021)](https://blog.rstudio.com/2020/10/16/rstudio-global-2021/). Plus, [she](https://vicki.substack.com/p/the-average-opinion-of-10k-people) introduced me to [bardcore](https://www.youtube.com/watch?v=Kbj4bulZX2Y)! "
   ]
  },
  {
   "cell_type": "markdown",
   "metadata": {},
   "source": [
    "# Concluding Thoughts  \n",
    "\n",
    "Lastly, there is less than two weeks before the US election. If you can, please vote! "
   ]
  },
  {
   "cell_type": "code",
   "execution_count": null,
   "metadata": {},
   "outputs": [],
   "source": []
  }
 ],
 "metadata": {
  "kernelspec": {
   "display_name": "Python 3",
   "language": "python",
   "name": "python3"
  },
  "language_info": {
   "codemirror_mode": {
    "name": "ipython",
    "version": 3
   },
   "file_extension": ".py",
   "mimetype": "text/x-python",
   "name": "python",
   "nbconvert_exporter": "python",
   "pygments_lexer": "ipython3",
   "version": "3.7.6"
  }
 },
 "nbformat": 4,
 "nbformat_minor": 2
}
