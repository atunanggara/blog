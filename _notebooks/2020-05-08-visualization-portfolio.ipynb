{
 "cells": [
  {
   "cell_type": "markdown",
   "metadata": {},
   "source": [
    "# Visualization Portfolio  \n",
    "> Relevant visualization projects using Python and R\n",
    "   \n",
    "\n",
    "- toc: false  \n",
    "- badges: false  \n",
    "- comments: false    \n",
    "- permalink: /:title\n",
    "- hide: true  \n",
    "- search_exclude: true  "
   ]
  },
  {
   "cell_type": "markdown",
   "metadata": {},
   "source": [
    "Here are examples of works that I have done in the past for your review:    \n",
    "\n",
    "## [Visualizing Covid-19 patients number in the State of Minnesota](https://atunanggara.github.io/blog/jupyter/covid-19/altair/2020/04/02/covid-19-dataset.html)  \n",
    "I queried data from [the New York Times github repository](\\href{https://github.com/nytimes/covid-19-data), manipulated it, and visualized it using interactive [altair](https://altair-viz.github.io/) package in Jupyter notebook and published it on my website using [fastpages](https://fastpages.fast.ai/).    \n",
    "\n",
    "## [Finding a new pet store location around St. Paul, MN region](https://github.com/atunanggara/Coursera_Capstone/tree/master/Capstone-PetStore)  \n",
    "I queried data from [Yelp](https://www.yelp.com/developers/documentation/v3) and [FourSquare API](https://developer.foursquare.com/docs/places-api/), manipulated it, and visualized the data using [matplotlib](https://matplotlib.org/) and [folium](https://python-visualization.github.io/folium/) in Python; used k-means clustering method implemented in [scikit-learn](https://scikit-learn.org/stable/) to find the best location in finding a new place to open a new pet store around St. Paul, MN area.  \n",
    "\n",
    "## [Text Classification with Naive Bayes](https://nbviewer.jupyter.org/github/atunanggara/nbayes_mp/blob/master/Mini_Project_Naive_Bayes.ipynb)  \n",
    "I queried data from [Rotten Tomatoes Dataset](https://www.kaggle.com/ayushkalla1/rotten-tomatoes-movie-database), manipulated it, and visualized the average ratings using [matplotlib](https://matplotlib.org/) in Python. I classified the reviews to be \"rotten\" or \"fresh\" using Naive Bayes classification in [scikit-learn](https://scikit-learn.org/stable/). For topic modeling, I used [NLTK](https://www.nltk.org/) and [gensim](https://radimrehurek.com/gensim/) packages. \n",
    "\n",
    "## [Grade breakdown using R Shiny app](https://atunanggara.shinyapps.io/FinalGradeBreakdown/)  \n",
    "I used [R Shiny](https://shiny.rstudio.com/) app to interactively help students in seeing their grade projection. I added dials for exams, homework, lab, and participation grade. By manipulating these knobs, one can predict what the final letter grade would be by the end of the semester.   \n",
    "\n",
    "## [YouTube video of Python flask work on n-gram analysis](https://youtu.be/nYaPs1XQBnM)  \n",
    "I used [matplotlib](https://matplotlib.org/) and [flask](https://flask.palletsprojects.com/en/1.1.x/) to create an end-to-end visualization work to show for a conference presentation.  "
   ]
  },
  {
   "cell_type": "code",
   "execution_count": null,
   "metadata": {},
   "outputs": [],
   "source": []
  }
 ],
 "metadata": {
  "kernelspec": {
   "display_name": "Python 3",
   "language": "python",
   "name": "python3"
  },
  "language_info": {
   "codemirror_mode": {
    "name": "ipython",
    "version": 3
   },
   "file_extension": ".py",
   "mimetype": "text/x-python",
   "name": "python",
   "nbconvert_exporter": "python",
   "pygments_lexer": "ipython3",
   "version": "3.7.6"
  }
 },
 "nbformat": 4,
 "nbformat_minor": 2
}
