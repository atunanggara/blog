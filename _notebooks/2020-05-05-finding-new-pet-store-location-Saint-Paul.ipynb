{
 "cells": [
  {
   "cell_type": "markdown",
   "metadata": {},
   "source": [
    "# Finding a New Pet Store Location in St. Paul, MN  \n",
    "> Using k-means clustering in finding a new Pet Store location using Yelp and FourSquare API. _The original analysis was done in [September 2019](https://github.com/atunanggara/Coursera_Capstone/tree/master/Capstone-PetStore) and updated on May 2020 for blog publication._  \n",
    "   \n",
    "\n",
    "- toc: true  \n",
    "- badges: true  \n",
    "- comments: true  \n",
    "- categories: [portfolio, jupyter, unlabeled data]\n",
    "- image: images/thumbnails/elbow_method_k-means.png  \n",
    "- permalink: /portfolio/:year/:month/:day/:title\n",
    "- hide: true  \n",
    "- search_exclude: true  "
   ]
  },
  {
   "cell_type": "markdown",
   "metadata": {},
   "source": [
    "# Summary  \n",
    "\n",
    "I recommend Juan Doe to open up a new pet store in three different zip codes around the St. Paul, MN region:  \n",
    "1. First is the [Macalester-Groveland neighborhood](https://www.unitedstateszipcodes.org/55105/) (55105).  \n",
    "They have high median income with many pet services and only one other pet store in the area. In order to succeed, John Doe needs to make sure that the type of items sold in the pet stores are different enough than the ones sold in grocery stores and the other pet store.  \n",
    "\n",
    "2. Second is the [Falcon Heights area](https://www.unitedstateszipcodes.org/55108/) (55108).  \n",
    "They do not have a pet store, but veterinarian hospitals and animal shelters are in the area. \n",
    "\n",
    "3. Third is the [Battle Creek neighborhood](https://www.unitedstateszipcodes.org/55119/) (55119).  \n",
    "They have a similar make up as the Falcon Heights and a dog park nearby. "
   ]
  },
  {
   "cell_type": "markdown",
   "metadata": {},
   "source": [
    "## Introduction "
   ]
  },
  {
   "cell_type": "markdown",
   "metadata": {},
   "source": [
    "Sometime on March 2019, my wife and I decided to adopt a 10 year old dog named Filbert from the Animal Humane Society. Here is him in his natural habitat:  \n",
    "\n",
    "<img src=\"../images/jupyter_posts/pet_store/Filbert_rectangle.jpg\" style=\"width: 300px;\"/>\n",
    "\n",
    "\n",
    "To ensure his happiness, we go to pet stores in our area for foods and treats quite regularly. On the other hand, I have also been trying to brush up on my k-means clustering algorithm understanding via IBM data science specialization. So I took it upon myself to do some research and came up with finding a new pet store location around St. Paul, MN area for my capstone project.   \n",
    "\n",
    "Unbeknown to me, US residents spent [more than $36 billion](https://www.americanpetproducts.org/press_industrytrends.asp) for pet food and treats in 2019. So, pet store is a lucrative business to get into. \n"
   ]
  },
  {
   "cell_type": "markdown",
   "metadata": {},
   "source": [
    "## Target Audience"
   ]
  },
  {
   "cell_type": "markdown",
   "metadata": {},
   "source": [
    "Our friend, Juan Doe, wants to open a new pet store in St. Paul, MN area, and has asked me to help finding a location for it. Cost of doing business in a metropolis city like St. Paul can be stratospheric. Therefore, market share analysis can be helpful in figuring out a good location / locations and reduce the risk of opening a store in a saturated area. "
   ]
  },
  {
   "cell_type": "markdown",
   "metadata": {},
   "source": [
    "## Data and Methodology\n",
    "\n",
    "To run the analysis, I pulled several data from various sources: "
   ]
  },
  {
   "cell_type": "markdown",
   "metadata": {},
   "source": [
    "- Zipcode data from [uszipcode](https://uszipcode.readthedocs.io/index.html#) Python package.  \n",
    "It provides data for the **latitude and longitude** of all zipcode in the St. Paul, MN area along with the **median household income**."
   ]
  },
  {
   "cell_type": "code",
   "execution_count": 30,
   "metadata": {},
   "outputs": [],
   "source": [
    "# hide \n",
    "import pandas as pd\n",
    "import numpy as np\n",
    "from uszipcode import SearchEngine\n",
    "from geopy.geocoders import Nominatim \n",
    "import altair as alt\n",
    "import requests\n",
    "import json \n",
    "\n",
    "import matplotlib.cm as cm\n",
    "import matplotlib.colors as colors\n",
    "import matplotlib.pyplot as plt\n",
    "\n",
    "from sklearn.cluster import KMeans\n",
    "from sklearn.metrics import silhouette_score\n",
    "\n",
    "import folium "
   ]
  },
  {
   "cell_type": "code",
   "execution_count": 2,
   "metadata": {},
   "outputs": [],
   "source": [
    "#hide\n",
    "# using the uszipcode python package\n",
    "searchzip = SearchEngine(simple_zipcode=False) # set simple_zipcode=False to use rich info database\n",
    "# get the zip code from the surrounding St. Paul, MN area:\n",
    "res = searchzip.by_city_and_state(\"Saint Paul\", \"MN\", returns=40)\n",
    "# Let's create a dataframe containing all the zipcodes for St. Paul, MN area:\n",
    "zipStPaul = pd.DataFrame(columns = ['zipcode','med_income','latitude','longitude'])\n",
    "for data in res:\n",
    "    zipStPaul = zipStPaul.append({'zipcode': data.zipcode,\n",
    "                                 'med_income': data.median_household_income,\n",
    "                                 'latitude': data.lat,\n",
    "                                 'longitude': data.lng},\n",
    "                                 ignore_index=True)"
   ]
  },
  {
   "cell_type": "code",
   "execution_count": 3,
   "metadata": {},
   "outputs": [
    {
     "data": {
      "text/html": [
       "<div>\n",
       "<style scoped>\n",
       "    .dataframe tbody tr th:only-of-type {\n",
       "        vertical-align: middle;\n",
       "    }\n",
       "\n",
       "    .dataframe tbody tr th {\n",
       "        vertical-align: top;\n",
       "    }\n",
       "\n",
       "    .dataframe thead th {\n",
       "        text-align: right;\n",
       "    }\n",
       "</style>\n",
       "<table border=\"1\" class=\"dataframe\">\n",
       "  <thead>\n",
       "    <tr style=\"text-align: right;\">\n",
       "      <th></th>\n",
       "      <th>zipcode</th>\n",
       "      <th>med_income</th>\n",
       "      <th>latitude</th>\n",
       "      <th>longitude</th>\n",
       "    </tr>\n",
       "  </thead>\n",
       "  <tbody>\n",
       "    <tr>\n",
       "      <th>0</th>\n",
       "      <td>55101</td>\n",
       "      <td>40300</td>\n",
       "      <td>44.95</td>\n",
       "      <td>-93.09</td>\n",
       "    </tr>\n",
       "    <tr>\n",
       "      <th>1</th>\n",
       "      <td>55102</td>\n",
       "      <td>46255</td>\n",
       "      <td>44.93</td>\n",
       "      <td>-93.12</td>\n",
       "    </tr>\n",
       "    <tr>\n",
       "      <th>2</th>\n",
       "      <td>55103</td>\n",
       "      <td>28899</td>\n",
       "      <td>44.97</td>\n",
       "      <td>-93.13</td>\n",
       "    </tr>\n",
       "    <tr>\n",
       "      <th>3</th>\n",
       "      <td>55104</td>\n",
       "      <td>44629</td>\n",
       "      <td>44.96</td>\n",
       "      <td>-93.17</td>\n",
       "    </tr>\n",
       "    <tr>\n",
       "      <th>4</th>\n",
       "      <td>55105</td>\n",
       "      <td>76472</td>\n",
       "      <td>44.93</td>\n",
       "      <td>-93.16</td>\n",
       "    </tr>\n",
       "  </tbody>\n",
       "</table>\n",
       "</div>"
      ],
      "text/plain": [
       "  zipcode med_income  latitude  longitude\n",
       "0   55101      40300     44.95     -93.09\n",
       "1   55102      46255     44.93     -93.12\n",
       "2   55103      28899     44.97     -93.13\n",
       "3   55104      44629     44.96     -93.17\n",
       "4   55105      76472     44.93     -93.16"
      ]
     },
     "execution_count": 3,
     "metadata": {},
     "output_type": "execute_result"
    }
   ],
   "source": [
    "#hide_input\n",
    "zipStPaul.head()"
   ]
  },
  {
   "cell_type": "code",
   "execution_count": 4,
   "metadata": {
    "scrolled": false
   },
   "outputs": [
    {
     "data": {
      "text/plain": [
       "(30, 4)"
      ]
     },
     "execution_count": 4,
     "metadata": {},
     "output_type": "execute_result"
    }
   ],
   "source": [
    "#hide\n",
    "zipStPaul.shape"
   ]
  },
  {
   "cell_type": "code",
   "execution_count": 57,
   "metadata": {},
   "outputs": [],
   "source": [
    "#hide\n",
    "mn_zipcode = \"https://raw.githubusercontent.com/OpenDataDE/State-zip-code-GeoJSON/master/mn_minnesota_zip_codes_geo.min.json\"\n",
    "mn_json = requests.get(mn_zipcode).json()\n",
    "mn_zip = pd.json_normalize(mn_json['features'])\n",
    "mn_zip = mn_zip[[\"properties.ZCTA5CE10\",\"geometry.coordinates\"]]\n",
    "mn_zip.columns = ['zipcode','topojson']\n",
    "# mn_zip.head()"
   ]
  },
  {
   "cell_type": "code",
   "execution_count": 56,
   "metadata": {},
   "outputs": [
    {
     "data": {
      "text/html": [
       "<div>\n",
       "<style scoped>\n",
       "    .dataframe tbody tr th:only-of-type {\n",
       "        vertical-align: middle;\n",
       "    }\n",
       "\n",
       "    .dataframe tbody tr th {\n",
       "        vertical-align: top;\n",
       "    }\n",
       "\n",
       "    .dataframe thead th {\n",
       "        text-align: right;\n",
       "    }\n",
       "</style>\n",
       "<table border=\"1\" class=\"dataframe\">\n",
       "  <thead>\n",
       "    <tr style=\"text-align: right;\">\n",
       "      <th></th>\n",
       "      <th>zipcode</th>\n",
       "      <th>med_income</th>\n",
       "      <th>latitude</th>\n",
       "      <th>longitude</th>\n",
       "      <th>topojson</th>\n",
       "    </tr>\n",
       "  </thead>\n",
       "  <tbody>\n",
       "    <tr>\n",
       "      <th>0</th>\n",
       "      <td>55101</td>\n",
       "      <td>40300</td>\n",
       "      <td>44.95</td>\n",
       "      <td>-93.09</td>\n",
       "      <td>[[[-93.099277, 44.950702], [-93.099357, 44.950...</td>\n",
       "    </tr>\n",
       "    <tr>\n",
       "      <th>1</th>\n",
       "      <td>55102</td>\n",
       "      <td>46255</td>\n",
       "      <td>44.93</td>\n",
       "      <td>-93.12</td>\n",
       "      <td>[[[-93.126235, 44.943427], [-93.126245, 44.944...</td>\n",
       "    </tr>\n",
       "    <tr>\n",
       "      <th>2</th>\n",
       "      <td>55103</td>\n",
       "      <td>28899</td>\n",
       "      <td>44.97</td>\n",
       "      <td>-93.13</td>\n",
       "      <td>[[[-93.126327, 44.95163], [-93.126328, 44.9518...</td>\n",
       "    </tr>\n",
       "    <tr>\n",
       "      <th>3</th>\n",
       "      <td>55104</td>\n",
       "      <td>44629</td>\n",
       "      <td>44.96</td>\n",
       "      <td>-93.17</td>\n",
       "      <td>[[[-93.126327, 44.95163], [-93.126325, 44.9512...</td>\n",
       "    </tr>\n",
       "    <tr>\n",
       "      <th>4</th>\n",
       "      <td>55105</td>\n",
       "      <td>76472</td>\n",
       "      <td>44.93</td>\n",
       "      <td>-93.16</td>\n",
       "      <td>[[[-93.150174, 44.926947], [-93.15172, 44.9269...</td>\n",
       "    </tr>\n",
       "  </tbody>\n",
       "</table>\n",
       "</div>"
      ],
      "text/plain": [
       "  zipcode med_income  latitude  longitude  \\\n",
       "0   55101      40300     44.95     -93.09   \n",
       "1   55102      46255     44.93     -93.12   \n",
       "2   55103      28899     44.97     -93.13   \n",
       "3   55104      44629     44.96     -93.17   \n",
       "4   55105      76472     44.93     -93.16   \n",
       "\n",
       "                                            topojson  \n",
       "0  [[[-93.099277, 44.950702], [-93.099357, 44.950...  \n",
       "1  [[[-93.126235, 44.943427], [-93.126245, 44.944...  \n",
       "2  [[[-93.126327, 44.95163], [-93.126328, 44.9518...  \n",
       "3  [[[-93.126327, 44.95163], [-93.126325, 44.9512...  \n",
       "4  [[[-93.150174, 44.926947], [-93.15172, 44.9269...  "
      ]
     },
     "execution_count": 56,
     "metadata": {},
     "output_type": "execute_result"
    }
   ],
   "source": [
    "#hide\n",
    "stpaul_zip_merge = pd.merge(zipStPaul, mn_zip, on='zipcode')\n",
    "stpaul_zip_merge.head()"
   ]
  },
  {
   "cell_type": "code",
   "execution_count": 58,
   "metadata": {},
   "outputs": [
    {
     "data": {
      "text/plain": [
       "(30, 5)"
      ]
     },
     "execution_count": 58,
     "metadata": {},
     "output_type": "execute_result"
    }
   ],
   "source": [
    "stpaul_zip_merge.shape"
   ]
  },
  {
   "cell_type": "code",
   "execution_count": 59,
   "metadata": {},
   "outputs": [],
   "source": [
    "json_zip_stpaul = stpaul_zip_merge.to_json(orient='split')"
   ]
  },
  {
   "cell_type": "code",
   "execution_count": 65,
   "metadata": {},
   "outputs": [],
   "source": [
    "# mn_zipcodes = alt.topo_feature(url=json_zip_stpaul, feature='')\n",
    "\n",
    "# background = alt.Chart(mn_zipcodes).mark_geoshape(\n",
    "#     stroke='black'\n",
    "# ).encode(\n",
    "#     tooltip=['zipcode:N'],\n",
    "# ).properties(\n",
    "#     width=500,\n",
    "#     height=350,\n",
    "#     title=f'MN Zip Code'\n",
    "# ).project('albersUsa')\n",
    "\n",
    "# background\n",
    "# background\n",
    "# .transform_lookup(\n",
    "#     lookup='properties.ZCTA5CE10',\n",
    "#     from_=alt.LookupData(data=zipStPaul,key='zipcode',\n",
    "#                          fields=['zipcode','med_income'])\n",
    "# ).encode(\n",
    "#     color=alt.Color('med_income:Q',scale=alt.Scale(scheme='greenblue')),\n",
    "#     tooltip=['zipcode:Q','med_income:Q'],\n",
    "# )\n",
    "# .transform_lookup(\n",
    "#     lookup='properties.ZCTA5CE10',\n",
    "#     from_=alt.LookupData(data=dfmnlatest,key='fips',\n",
    "#                          fields=['county','cases','deaths','date'])\n",
    "# )"
   ]
  },
  {
   "cell_type": "markdown",
   "metadata": {},
   "source": [
    "To visualize the data, we are going to use choropleth map\n",
    "\n",
    "There are **thirty zip code** data that can be used for the FourSquare Places API.  \n",
    "We will use _folium_ Python package to visualize the data:"
   ]
  },
  {
   "cell_type": "markdown",
   "metadata": {},
   "source": [
    "First, we use geopy library to get the latitude and longitude values of St Paul, MN."
   ]
  },
  {
   "cell_type": "code",
   "execution_count": 43,
   "metadata": {},
   "outputs": [
    {
     "name": "stdout",
     "output_type": "stream",
     "text": [
      "The geograpical coordinate of St Paul, MN are 44.9504037, -93.1015026.\n"
     ]
    }
   ],
   "source": [
    "#hide\n",
    "address = 'Saint Paul, MN'\n",
    "\n",
    "geolocator = Nominatim(user_agent=\"spaul_explorer\")\n",
    "location = geolocator.geocode(address)\n",
    "latitude = location.latitude\n",
    "longitude = location.longitude\n",
    "# print('The geograpical coordinate of St Paul, MN are {}, {}.'.format(latitude, longitude))"
   ]
  },
  {
   "cell_type": "code",
   "execution_count": 44,
   "metadata": {},
   "outputs": [
    {
     "data": {
      "text/html": [
       "<div style=\"width:100%;\"><div style=\"position:relative;width:100%;height:0;padding-bottom:60%;\"><iframe src=\"data:text/html;charset=utf-8;base64,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\" style=\"position:absolute;width:100%;height:100%;left:0;top:0;border:none !important;\" allowfullscreen webkitallowfullscreen mozallowfullscreen></iframe></div></div>"
      ],
      "text/plain": [
       "<folium.folium.Map at 0x18d2ddd90>"
      ]
     },
     "execution_count": 44,
     "metadata": {},
     "output_type": "execute_result"
    }
   ],
   "source": [
    "#hide_input\n",
    "# create map of St. Paul using latitude and longitude values\n",
    "map_stPaul = folium.Map(location=[latitude, longitude], zoom_start=10)\n",
    "\n",
    "# add markers to map\n",
    "for lat, lng, zipcode, medincome in zip(zipStPaul['latitude'], zipStPaul['longitude'], zipStPaul['zipcode'],zipStPaul['med_income']):\n",
    "    label = '{}, {}'.format(zipcode, medincome)\n",
    "    label = folium.Popup(label, parse_html=True)\n",
    "    folium.CircleMarker(\n",
    "        [lat, lng],\n",
    "        radius=5,\n",
    "        popup=label,\n",
    "        color='blue',\n",
    "        fill=True,\n",
    "        fill_color='#3186cc',\n",
    "        fill_opacity=0.7,\n",
    "        parse_html=False).add_to(map_stPaul)  \n",
    "    \n",
    "map_stPaul"
   ]
  },
  {
   "cell_type": "code",
   "execution_count": 66,
   "metadata": {
    "scrolled": false
   },
   "outputs": [],
   "source": [
    "# map_stPaul = folium.Map(location=[latitude, longitude], zoom_start=10)\n",
    "\n",
    "# folium.Choropleth(\n",
    "#     geo_data=mn_zipcode,\n",
    "#     name='MN zip code',\n",
    "# ).add_to(map_stPaul)\n",
    "\n",
    "# folium.LayerControl().add_to(map_stPaul)\n",
    "\n",
    "# map_stPaul"
   ]
  },
  {
   "cell_type": "markdown",
   "metadata": {},
   "source": [
    "#### Removing zip codes that are far awar from St. Paul area\n",
    "\n",
    "I am going to remove zip codes that are far away from the St. Paul area:  \n",
    "``55109``, ``55110``, ``55111``, ``55112``, ``55115``, ``55118``, ``55120``, ``55121``, ``55122``, ``55123``, ``55124``, ``55125``, ``55126``,``55127``,``55128``, ``55129``"
   ]
  },
  {
   "cell_type": "code",
   "execution_count": 10,
   "metadata": {},
   "outputs": [],
   "source": [
    "dropziplist = ['55109','55110','55111','55112', \n",
    "               '55115', '55118', '55120', '55121', \n",
    "               '55122', '55123', '55124', '55125', \n",
    "               '55126','55127','55128', '55129']\n",
    "\n",
    "zipStPaul = zipStPaul[~zipStPaul['zipcode'].isin(dropziplist)]"
   ]
  },
  {
   "cell_type": "code",
   "execution_count": 11,
   "metadata": {},
   "outputs": [],
   "source": [
    "# saving the dataframe for presentation\n",
    "zipStPaul.to_csv('zipStPaul.csv',index=False)"
   ]
  },
  {
   "cell_type": "markdown",
   "metadata": {},
   "source": [
    "## FourSquare data from FourSquare [Places API](https://developer.foursquare.com/docs/api). \n",
    "\n",
    "I will utilize the explore function to get venue recommendations and zone in on the pet related categories (e.g. pet store, dog park, dog friendly restaurants) "
   ]
  },
  {
   "cell_type": "code",
   "execution_count": 12,
   "metadata": {},
   "outputs": [],
   "source": [
    "# get the ID and secret from the obfuscated file \n",
    "CLIENT_ID = pd.read_csv('../../Coursera_Capstone/FSclientID.txt',header=None)[0][0] # your Foursquare ID\n",
    "CLIENT_SECRET = pd.read_csv('../../Coursera_Capstone/FSclientSecret.txt',header=None)[0][0] # your Foursquare Secret\n",
    "VERSION = '20180605' # Foursquare API version"
   ]
  },
  {
   "cell_type": "code",
   "execution_count": 13,
   "metadata": {},
   "outputs": [],
   "source": [
    "# modified from previous work:\n",
    "def getNearbyVenues(zipcode, latitudes, longitudes, radius=500):\n",
    "    \n",
    "    venues_list=[]\n",
    "    for zipcode, lat, lng in zip(zipcode, latitudes, longitudes):\n",
    "        # print(name)\n",
    "            \n",
    "        # create the API request URL\n",
    "        url = 'https://api.foursquare.com/v2/venues/explore?&client_id={}&client_secret={}&v={}&ll={},{}&radius={}&limit={}'.format(\n",
    "            CLIENT_ID, \n",
    "            CLIENT_SECRET, \n",
    "            VERSION, \n",
    "            lat, \n",
    "            lng, \n",
    "            radius, \n",
    "            LIMIT)\n",
    "            \n",
    "        # make the GET request\n",
    "        results = requests.get(url).json()\n",
    "        results2 = results[\"response\"]['groups'][0]['items']\n",
    "        \n",
    "        # return only relevant information for each nearby venue\n",
    "        venues_list.append([(\n",
    "            results['response']['headerLocation'], \n",
    "            zipcode,\n",
    "            lat, \n",
    "            lng, \n",
    "            v['venue']['name'], \n",
    "            v['venue']['location']['lat'], \n",
    "            v['venue']['location']['lng'], \n",
    "            v['venue']['location'].get('postalCode',0),\n",
    "            v['venue']['categories'][0]['name']) for v in results2])\n",
    "\n",
    "    nearby_venues = pd.DataFrame([item for venue_list in venues_list for item in venue_list])\n",
    "    nearby_venues.columns = ['Neighborhood',\n",
    "                             'Zipcode',\n",
    "                             'Neighborhood Latitude', \n",
    "                             'Neighborhood Longitude', \n",
    "                             'Venue', \n",
    "                             'Venue Latitude', \n",
    "                             'Venue Longitude',\n",
    "                             'Venue Zipcode',\n",
    "                             'Venue Category']\n",
    "    \n",
    "    return(nearby_venues)"
   ]
  },
  {
   "cell_type": "code",
   "execution_count": 14,
   "metadata": {},
   "outputs": [],
   "source": [
    "LIMIT = 100"
   ]
  },
  {
   "cell_type": "code",
   "execution_count": 16,
   "metadata": {},
   "outputs": [],
   "source": [
    "stpaul_venues = getNearbyVenues(zipcode=zipStPaul['zipcode'],latitudes=zipStPaul['latitude'],\n",
    "                               longitudes=zipStPaul['longitude'],\n",
    "                               radius=4000)"
   ]
  },
  {
   "cell_type": "code",
   "execution_count": 17,
   "metadata": {},
   "outputs": [
    {
     "data": {
      "text/html": [
       "<div>\n",
       "<style scoped>\n",
       "    .dataframe tbody tr th:only-of-type {\n",
       "        vertical-align: middle;\n",
       "    }\n",
       "\n",
       "    .dataframe tbody tr th {\n",
       "        vertical-align: top;\n",
       "    }\n",
       "\n",
       "    .dataframe thead th {\n",
       "        text-align: right;\n",
       "    }\n",
       "</style>\n",
       "<table border=\"1\" class=\"dataframe\">\n",
       "  <thead>\n",
       "    <tr style=\"text-align: right;\">\n",
       "      <th></th>\n",
       "      <th>Neighborhood</th>\n",
       "      <th>Zipcode</th>\n",
       "      <th>Neighborhood Latitude</th>\n",
       "      <th>Neighborhood Longitude</th>\n",
       "      <th>Venue</th>\n",
       "      <th>Venue Latitude</th>\n",
       "      <th>Venue Longitude</th>\n",
       "      <th>Venue Zipcode</th>\n",
       "      <th>Venue Category</th>\n",
       "    </tr>\n",
       "  </thead>\n",
       "  <tbody>\n",
       "    <tr>\n",
       "      <th>0</th>\n",
       "      <td>Saint Paul</td>\n",
       "      <td>55101</td>\n",
       "      <td>44.95</td>\n",
       "      <td>-93.09</td>\n",
       "      <td>Barrel Theory Beer Company</td>\n",
       "      <td>44.951021</td>\n",
       "      <td>-93.088258</td>\n",
       "      <td>55101</td>\n",
       "      <td>Brewery</td>\n",
       "    </tr>\n",
       "    <tr>\n",
       "      <th>1</th>\n",
       "      <td>Saint Paul</td>\n",
       "      <td>55101</td>\n",
       "      <td>44.95</td>\n",
       "      <td>-93.09</td>\n",
       "      <td>Mears Park</td>\n",
       "      <td>44.949371</td>\n",
       "      <td>-93.087920</td>\n",
       "      <td>55101</td>\n",
       "      <td>Park</td>\n",
       "    </tr>\n",
       "    <tr>\n",
       "      <th>2</th>\n",
       "      <td>Saint Paul</td>\n",
       "      <td>55101</td>\n",
       "      <td>44.95</td>\n",
       "      <td>-93.09</td>\n",
       "      <td>The Buttered Tin</td>\n",
       "      <td>44.950857</td>\n",
       "      <td>-93.088679</td>\n",
       "      <td>55101</td>\n",
       "      <td>Bakery</td>\n",
       "    </tr>\n",
       "    <tr>\n",
       "      <th>3</th>\n",
       "      <td>Saint Paul</td>\n",
       "      <td>55101</td>\n",
       "      <td>44.95</td>\n",
       "      <td>-93.09</td>\n",
       "      <td>CHS Field</td>\n",
       "      <td>44.950619</td>\n",
       "      <td>-93.084789</td>\n",
       "      <td>55101</td>\n",
       "      <td>Baseball Stadium</td>\n",
       "    </tr>\n",
       "    <tr>\n",
       "      <th>4</th>\n",
       "      <td>Saint Paul</td>\n",
       "      <td>55101</td>\n",
       "      <td>44.95</td>\n",
       "      <td>-93.09</td>\n",
       "      <td>St. Paul Farmers' Market</td>\n",
       "      <td>44.949620</td>\n",
       "      <td>-93.085131</td>\n",
       "      <td>55101</td>\n",
       "      <td>Farmers Market</td>\n",
       "    </tr>\n",
       "  </tbody>\n",
       "</table>\n",
       "</div>"
      ],
      "text/plain": [
       "  Neighborhood Zipcode  Neighborhood Latitude  Neighborhood Longitude  \\\n",
       "0   Saint Paul   55101                  44.95                  -93.09   \n",
       "1   Saint Paul   55101                  44.95                  -93.09   \n",
       "2   Saint Paul   55101                  44.95                  -93.09   \n",
       "3   Saint Paul   55101                  44.95                  -93.09   \n",
       "4   Saint Paul   55101                  44.95                  -93.09   \n",
       "\n",
       "                        Venue  Venue Latitude  Venue Longitude Venue Zipcode  \\\n",
       "0  Barrel Theory Beer Company       44.951021       -93.088258         55101   \n",
       "1                  Mears Park       44.949371       -93.087920         55101   \n",
       "2            The Buttered Tin       44.950857       -93.088679         55101   \n",
       "3                   CHS Field       44.950619       -93.084789         55101   \n",
       "4    St. Paul Farmers' Market       44.949620       -93.085131         55101   \n",
       "\n",
       "     Venue Category  \n",
       "0           Brewery  \n",
       "1              Park  \n",
       "2            Bakery  \n",
       "3  Baseball Stadium  \n",
       "4    Farmers Market  "
      ]
     },
     "execution_count": 17,
     "metadata": {},
     "output_type": "execute_result"
    }
   ],
   "source": [
    "stpaul_venues.head()"
   ]
  },
  {
   "cell_type": "code",
   "execution_count": 18,
   "metadata": {},
   "outputs": [
    {
     "data": {
      "text/plain": [
       "(1400, 9)"
      ]
     },
     "execution_count": 18,
     "metadata": {},
     "output_type": "execute_result"
    }
   ],
   "source": [
    "stpaul_venues.shape"
   ]
  },
  {
   "cell_type": "markdown",
   "metadata": {},
   "source": [
    "#### Cleaning up the `petstpaul_venues` data\n",
    "\n",
    "I clean up the stpaul_venues data through the following methods:  \n",
    "- Based on the `Venue` column, separate the unique and duplicated values into two\n",
    "- In unique dataframe, fill in the `Venue Zipcode` column with the `Zipcode` column \n",
    "- In duplicated dataframe, separate them into zero `Venue Zipcode` and non-zero `Venue Zipcode` dataframe:\n",
    "    - for non-zero `Venue Zipcode` dataframe, only keep the values where `Venue Zipcode` and `Zipcode` column matches\n",
    "    - for zero `Venue Zipcode` dataframe, search manually and fill in the missing zipcode value"
   ]
  },
  {
   "cell_type": "markdown",
   "metadata": {},
   "source": [
    "##### Separate the unique and duplicated values into two:"
   ]
  },
  {
   "cell_type": "code",
   "execution_count": 19,
   "metadata": {},
   "outputs": [],
   "source": [
    "unique_stpaul_venues = stpaul_venues[~stpaul_venues.duplicated(subset='Venue',keep=False)]\n",
    "duplicated_stpaul_venues = stpaul_venues[stpaul_venues.duplicated(subset='Venue',keep=False)]"
   ]
  },
  {
   "cell_type": "markdown",
   "metadata": {},
   "source": [
    "##### In unique dataframe, fill in the `Venue Zipcode` column with the `Zipcode` column "
   ]
  },
  {
   "cell_type": "code",
   "execution_count": 20,
   "metadata": {},
   "outputs": [],
   "source": [
    "unique_stpaul_venues = unique_stpaul_venues.reset_index(drop=True)\n",
    "for i in range(len(unique_stpaul_venues)):\n",
    "    if unique_stpaul_venues.loc[i,'Venue Zipcode'] == 0:\n",
    "        unique_stpaul_venues.loc[i,'Venue Zipcode'] = unique_stpaul_venues.loc[i,'Zipcode']"
   ]
  },
  {
   "cell_type": "markdown",
   "metadata": {},
   "source": [
    "##### In duplicated dataframe, separate them into zero `Venue Zipcode` and non-zero `Venue Zipcode` dataframe:"
   ]
  },
  {
   "cell_type": "code",
   "execution_count": 29,
   "metadata": {},
   "outputs": [],
   "source": [
    "duplicated_stpaul_venues = duplicated_stpaul_venues.sort_values(by='Venue')\n",
    "zero_duplicated_stpaul_venues = duplicated_stpaul_venues[duplicated_stpaul_venues['Venue Zipcode']==0]\n",
    "nonzero_duplicated_stpaul_venues = duplicated_stpaul_venues[~(duplicated_stpaul_venues['Venue Zipcode']==0)]"
   ]
  },
  {
   "cell_type": "markdown",
   "metadata": {},
   "source": [
    "##### for non-zero `Venue Zipcode` dataframe, only keep the values where `Venue Zipcode` and `Zipcode` column matches"
   ]
  },
  {
   "cell_type": "code",
   "execution_count": 30,
   "metadata": {},
   "outputs": [],
   "source": [
    "nonzero_duplicated_stpaul_venues = nonzero_duplicated_stpaul_venues.reset_index(drop=True)\n",
    "nonzero_duplicated_stpaul_venues = nonzero_duplicated_stpaul_venues[\n",
    "    nonzero_duplicated_stpaul_venues['Zipcode']==nonzero_duplicated_stpaul_venues['Venue Zipcode']]"
   ]
  },
  {
   "cell_type": "markdown",
   "metadata": {},
   "source": [
    "##### for zero `Venue Zipcode` dataframe, search manually and fill in the missing zipcode value"
   ]
  },
  {
   "cell_type": "code",
   "execution_count": 31,
   "metadata": {},
   "outputs": [
    {
     "data": {
      "text/plain": [
       "(33, 9)"
      ]
     },
     "execution_count": 31,
     "metadata": {},
     "output_type": "execute_result"
    }
   ],
   "source": [
    "zero_duplicated_stpaul_venues = zero_duplicated_stpaul_venues.reset_index(drop=True)\n",
    "zero_duplicated_stpaul_venues.shape"
   ]
  },
  {
   "cell_type": "code",
   "execution_count": 35,
   "metadata": {},
   "outputs": [
    {
     "data": {
      "text/html": [
       "<div>\n",
       "<style scoped>\n",
       "    .dataframe tbody tr th:only-of-type {\n",
       "        vertical-align: middle;\n",
       "    }\n",
       "\n",
       "    .dataframe tbody tr th {\n",
       "        vertical-align: top;\n",
       "    }\n",
       "\n",
       "    .dataframe thead th {\n",
       "        text-align: right;\n",
       "    }\n",
       "</style>\n",
       "<table border=\"1\" class=\"dataframe\">\n",
       "  <thead>\n",
       "    <tr style=\"text-align: right;\">\n",
       "      <th></th>\n",
       "      <th>Neighborhood</th>\n",
       "      <th>Zipcode</th>\n",
       "      <th>Neighborhood Latitude</th>\n",
       "      <th>Neighborhood Longitude</th>\n",
       "      <th>Venue</th>\n",
       "      <th>Venue Latitude</th>\n",
       "      <th>Venue Longitude</th>\n",
       "      <th>Venue Zipcode</th>\n",
       "      <th>Venue Category</th>\n",
       "    </tr>\n",
       "  </thead>\n",
       "  <tbody>\n",
       "    <tr>\n",
       "      <th>29</th>\n",
       "      <td>Saint Paul</td>\n",
       "      <td>55106</td>\n",
       "      <td>44.94</td>\n",
       "      <td>-93.05</td>\n",
       "      <td>Subtext Books</td>\n",
       "      <td>44.945629</td>\n",
       "      <td>-93.094695</td>\n",
       "      <td>0</td>\n",
       "      <td>Bookstore</td>\n",
       "    </tr>\n",
       "    <tr>\n",
       "      <th>30</th>\n",
       "      <td>Saint Paul</td>\n",
       "      <td>55130</td>\n",
       "      <td>44.97</td>\n",
       "      <td>-93.09</td>\n",
       "      <td>Subtext Books</td>\n",
       "      <td>44.945629</td>\n",
       "      <td>-93.094695</td>\n",
       "      <td>0</td>\n",
       "      <td>Bookstore</td>\n",
       "    </tr>\n",
       "    <tr>\n",
       "      <th>31</th>\n",
       "      <td>Saint Paul</td>\n",
       "      <td>55107</td>\n",
       "      <td>44.93</td>\n",
       "      <td>-93.09</td>\n",
       "      <td>Subtext Books</td>\n",
       "      <td>44.945629</td>\n",
       "      <td>-93.094695</td>\n",
       "      <td>0</td>\n",
       "      <td>Bookstore</td>\n",
       "    </tr>\n",
       "    <tr>\n",
       "      <th>32</th>\n",
       "      <td>Saint Paul</td>\n",
       "      <td>55101</td>\n",
       "      <td>44.95</td>\n",
       "      <td>-93.09</td>\n",
       "      <td>Subtext Books</td>\n",
       "      <td>44.945629</td>\n",
       "      <td>-93.094695</td>\n",
       "      <td>0</td>\n",
       "      <td>Bookstore</td>\n",
       "    </tr>\n",
       "  </tbody>\n",
       "</table>\n",
       "</div>"
      ],
      "text/plain": [
       "   Neighborhood Zipcode  Neighborhood Latitude  Neighborhood Longitude  \\\n",
       "29   Saint Paul   55106                  44.94                  -93.05   \n",
       "30   Saint Paul   55130                  44.97                  -93.09   \n",
       "31   Saint Paul   55107                  44.93                  -93.09   \n",
       "32   Saint Paul   55101                  44.95                  -93.09   \n",
       "\n",
       "            Venue  Venue Latitude  Venue Longitude Venue Zipcode  \\\n",
       "29  Subtext Books       44.945629       -93.094695             0   \n",
       "30  Subtext Books       44.945629       -93.094695             0   \n",
       "31  Subtext Books       44.945629       -93.094695             0   \n",
       "32  Subtext Books       44.945629       -93.094695             0   \n",
       "\n",
       "   Venue Category  \n",
       "29      Bookstore  \n",
       "30      Bookstore  \n",
       "31      Bookstore  \n",
       "32      Bookstore  "
      ]
     },
     "execution_count": 35,
     "metadata": {},
     "output_type": "execute_result"
    }
   ],
   "source": [
    "zero_duplicated_stpaul_venues.loc[29:33]"
   ]
  },
  {
   "cell_type": "code",
   "execution_count": 36,
   "metadata": {},
   "outputs": [],
   "source": [
    "# Carl's Gizmo\n",
    "zero_duplicated_stpaul_venues.at[1,'Venue Zipcode'] = '55108'\n",
    "# Falcon Heights Community Park\n",
    "zero_duplicated_stpaul_venues.at[3,'Venue Zipcode'] = '55113'\n",
    "# Leinie Lodge Bandshell\n",
    "zero_duplicated_stpaul_venues.at[6,'Venue Zipcode'] = '55108'\n",
    "# Lulu's Public House\n",
    "zero_duplicated_stpaul_venues.at[8,'Venue Zipcode'] = '55108'\n",
    "# machinery hills\n",
    "zero_duplicated_stpaul_venues.at[13,'Venue Zipcode'] = '55108'\n",
    "# mighty midway\n",
    "zero_duplicated_stpaul_venues.at[17, 'Venue Zipcode'] = '55113'\n",
    "# minneaple pie\n",
    "zero_duplicated_stpaul_venues.at[19, 'Venue Zipcode'] = '55108'\n",
    "# real meal deli\n",
    "zero_duplicated_stpaul_venues.at[24, 'Venue Zipcode'] = '55101'\n",
    "# redbox - Maplewood\n",
    "zero_duplicated_stpaul_venues.at[26, 'Venue Zipcode'] = '55117'\n",
    "# redbox - St Paul\n",
    "zero_duplicated_stpaul_venues.at[27, 'Venue Zipcode'] = '55119'\n",
    "# redbox - Maplewood\n",
    "zero_duplicated_stpaul_venues.at[28, 'Venue Zipcode'] = '55117'\n",
    "# subtext books\n",
    "zero_duplicated_stpaul_venues.at[29, 'Venue Zipcode'] = '55102'\n",
    "# subtext books\n",
    "zero_duplicated_stpaul_venues.at[29, 'Zipcode'] = '55102'\n",
    "\n",
    "zero_duplicated_stpaul_venues = zero_duplicated_stpaul_venues[\n",
    "    zero_duplicated_stpaul_venues['Zipcode']==zero_duplicated_stpaul_venues['Venue Zipcode']]"
   ]
  },
  {
   "cell_type": "code",
   "execution_count": 37,
   "metadata": {},
   "outputs": [
    {
     "data": {
      "text/html": [
       "<div>\n",
       "<style scoped>\n",
       "    .dataframe tbody tr th:only-of-type {\n",
       "        vertical-align: middle;\n",
       "    }\n",
       "\n",
       "    .dataframe tbody tr th {\n",
       "        vertical-align: top;\n",
       "    }\n",
       "\n",
       "    .dataframe thead th {\n",
       "        text-align: right;\n",
       "    }\n",
       "</style>\n",
       "<table border=\"1\" class=\"dataframe\">\n",
       "  <thead>\n",
       "    <tr style=\"text-align: right;\">\n",
       "      <th></th>\n",
       "      <th>Neighborhood</th>\n",
       "      <th>Zipcode</th>\n",
       "      <th>Neighborhood Latitude</th>\n",
       "      <th>Neighborhood Longitude</th>\n",
       "      <th>Venue</th>\n",
       "      <th>Venue Latitude</th>\n",
       "      <th>Venue Longitude</th>\n",
       "      <th>Venue Zipcode</th>\n",
       "      <th>Venue Category</th>\n",
       "    </tr>\n",
       "  </thead>\n",
       "  <tbody>\n",
       "    <tr>\n",
       "      <th>1</th>\n",
       "      <td>Falcon Heights</td>\n",
       "      <td>55108</td>\n",
       "      <td>44.98</td>\n",
       "      <td>-93.18</td>\n",
       "      <td>Carl's Gizmo</td>\n",
       "      <td>44.986444</td>\n",
       "      <td>-93.169245</td>\n",
       "      <td>55108</td>\n",
       "      <td>Sandwich Place</td>\n",
       "    </tr>\n",
       "    <tr>\n",
       "      <th>3</th>\n",
       "      <td>Roseville</td>\n",
       "      <td>55113</td>\n",
       "      <td>45.01</td>\n",
       "      <td>-93.16</td>\n",
       "      <td>Falcon Heights Community Park</td>\n",
       "      <td>44.998524</td>\n",
       "      <td>-93.185745</td>\n",
       "      <td>55113</td>\n",
       "      <td>Park</td>\n",
       "    </tr>\n",
       "    <tr>\n",
       "      <th>6</th>\n",
       "      <td>Falcon Heights</td>\n",
       "      <td>55108</td>\n",
       "      <td>44.98</td>\n",
       "      <td>-93.18</td>\n",
       "      <td>Leinie Lodge Bandshell - Minnesota State Fair</td>\n",
       "      <td>44.979990</td>\n",
       "      <td>-93.168811</td>\n",
       "      <td>55108</td>\n",
       "      <td>Concert Hall</td>\n",
       "    </tr>\n",
       "    <tr>\n",
       "      <th>8</th>\n",
       "      <td>Falcon Heights</td>\n",
       "      <td>55108</td>\n",
       "      <td>44.98</td>\n",
       "      <td>-93.18</td>\n",
       "      <td>Lulu's Public House</td>\n",
       "      <td>44.981229</td>\n",
       "      <td>-93.177533</td>\n",
       "      <td>55108</td>\n",
       "      <td>Southern / Soul Food Restaurant</td>\n",
       "    </tr>\n",
       "    <tr>\n",
       "      <th>13</th>\n",
       "      <td>Falcon Heights</td>\n",
       "      <td>55108</td>\n",
       "      <td>44.98</td>\n",
       "      <td>-93.18</td>\n",
       "      <td>Machinery Hill - Minnesota State Fair</td>\n",
       "      <td>44.985519</td>\n",
       "      <td>-93.169700</td>\n",
       "      <td>55108</td>\n",
       "      <td>Electronics Store</td>\n",
       "    </tr>\n",
       "    <tr>\n",
       "      <th>17</th>\n",
       "      <td>Roseville</td>\n",
       "      <td>55113</td>\n",
       "      <td>45.01</td>\n",
       "      <td>-93.16</td>\n",
       "      <td>Mighty Midway</td>\n",
       "      <td>44.980074</td>\n",
       "      <td>-93.175349</td>\n",
       "      <td>55113</td>\n",
       "      <td>Theme Park Ride / Attraction</td>\n",
       "    </tr>\n",
       "    <tr>\n",
       "      <th>19</th>\n",
       "      <td>Falcon Heights</td>\n",
       "      <td>55108</td>\n",
       "      <td>44.98</td>\n",
       "      <td>-93.18</td>\n",
       "      <td>Minneapple Pie</td>\n",
       "      <td>44.978595</td>\n",
       "      <td>-93.171173</td>\n",
       "      <td>55108</td>\n",
       "      <td>Diner</td>\n",
       "    </tr>\n",
       "    <tr>\n",
       "      <th>24</th>\n",
       "      <td>Saint Paul</td>\n",
       "      <td>55101</td>\n",
       "      <td>44.95</td>\n",
       "      <td>-93.09</td>\n",
       "      <td>Real Meal Delicatessen</td>\n",
       "      <td>44.947036</td>\n",
       "      <td>-93.090568</td>\n",
       "      <td>55101</td>\n",
       "      <td>American Restaurant</td>\n",
       "    </tr>\n",
       "    <tr>\n",
       "      <th>26</th>\n",
       "      <td>Maplewood</td>\n",
       "      <td>55117</td>\n",
       "      <td>45.00</td>\n",
       "      <td>-93.10</td>\n",
       "      <td>Redbox</td>\n",
       "      <td>44.976818</td>\n",
       "      <td>-93.067060</td>\n",
       "      <td>55117</td>\n",
       "      <td>Video Store</td>\n",
       "    </tr>\n",
       "    <tr>\n",
       "      <th>27</th>\n",
       "      <td>Saint Paul</td>\n",
       "      <td>55119</td>\n",
       "      <td>44.94</td>\n",
       "      <td>-93.01</td>\n",
       "      <td>Redbox</td>\n",
       "      <td>44.962580</td>\n",
       "      <td>-92.984799</td>\n",
       "      <td>55119</td>\n",
       "      <td>Video Store</td>\n",
       "    </tr>\n",
       "    <tr>\n",
       "      <th>28</th>\n",
       "      <td>Maplewood</td>\n",
       "      <td>55117</td>\n",
       "      <td>45.00</td>\n",
       "      <td>-93.10</td>\n",
       "      <td>Redbox</td>\n",
       "      <td>44.987457</td>\n",
       "      <td>-93.105877</td>\n",
       "      <td>55117</td>\n",
       "      <td>Video Store</td>\n",
       "    </tr>\n",
       "    <tr>\n",
       "      <th>29</th>\n",
       "      <td>Saint Paul</td>\n",
       "      <td>55102</td>\n",
       "      <td>44.94</td>\n",
       "      <td>-93.05</td>\n",
       "      <td>Subtext Books</td>\n",
       "      <td>44.945629</td>\n",
       "      <td>-93.094695</td>\n",
       "      <td>55102</td>\n",
       "      <td>Bookstore</td>\n",
       "    </tr>\n",
       "  </tbody>\n",
       "</table>\n",
       "</div>"
      ],
      "text/plain": [
       "      Neighborhood Zipcode  Neighborhood Latitude  Neighborhood Longitude  \\\n",
       "1   Falcon Heights   55108                  44.98                  -93.18   \n",
       "3        Roseville   55113                  45.01                  -93.16   \n",
       "6   Falcon Heights   55108                  44.98                  -93.18   \n",
       "8   Falcon Heights   55108                  44.98                  -93.18   \n",
       "13  Falcon Heights   55108                  44.98                  -93.18   \n",
       "17       Roseville   55113                  45.01                  -93.16   \n",
       "19  Falcon Heights   55108                  44.98                  -93.18   \n",
       "24      Saint Paul   55101                  44.95                  -93.09   \n",
       "26       Maplewood   55117                  45.00                  -93.10   \n",
       "27      Saint Paul   55119                  44.94                  -93.01   \n",
       "28       Maplewood   55117                  45.00                  -93.10   \n",
       "29      Saint Paul   55102                  44.94                  -93.05   \n",
       "\n",
       "                                            Venue  Venue Latitude  \\\n",
       "1                                    Carl's Gizmo       44.986444   \n",
       "3                   Falcon Heights Community Park       44.998524   \n",
       "6   Leinie Lodge Bandshell - Minnesota State Fair       44.979990   \n",
       "8                             Lulu's Public House       44.981229   \n",
       "13          Machinery Hill - Minnesota State Fair       44.985519   \n",
       "17                                  Mighty Midway       44.980074   \n",
       "19                                 Minneapple Pie       44.978595   \n",
       "24                         Real Meal Delicatessen       44.947036   \n",
       "26                                         Redbox       44.976818   \n",
       "27                                         Redbox       44.962580   \n",
       "28                                         Redbox       44.987457   \n",
       "29                                  Subtext Books       44.945629   \n",
       "\n",
       "    Venue Longitude Venue Zipcode                   Venue Category  \n",
       "1        -93.169245         55108                   Sandwich Place  \n",
       "3        -93.185745         55113                             Park  \n",
       "6        -93.168811         55108                     Concert Hall  \n",
       "8        -93.177533         55108  Southern / Soul Food Restaurant  \n",
       "13       -93.169700         55108                Electronics Store  \n",
       "17       -93.175349         55113     Theme Park Ride / Attraction  \n",
       "19       -93.171173         55108                            Diner  \n",
       "24       -93.090568         55101              American Restaurant  \n",
       "26       -93.067060         55117                      Video Store  \n",
       "27       -92.984799         55119                      Video Store  \n",
       "28       -93.105877         55117                      Video Store  \n",
       "29       -93.094695         55102                        Bookstore  "
      ]
     },
     "execution_count": 37,
     "metadata": {},
     "output_type": "execute_result"
    }
   ],
   "source": [
    "zero_duplicated_stpaul_venues"
   ]
  },
  {
   "cell_type": "markdown",
   "metadata": {},
   "source": [
    "##### Combining them all back"
   ]
  },
  {
   "cell_type": "code",
   "execution_count": 38,
   "metadata": {},
   "outputs": [],
   "source": [
    "stpaul_venues = pd.concat([nonzero_duplicated_stpaul_venues,zero_duplicated_stpaul_venues, unique_stpaul_venues])"
   ]
  },
  {
   "cell_type": "markdown",
   "metadata": {},
   "source": [
    "##### Ensuring the venues are all located in St. Paul region zipcode"
   ]
  },
  {
   "cell_type": "code",
   "execution_count": 39,
   "metadata": {},
   "outputs": [
    {
     "data": {
      "text/plain": [
       "(562, 9)"
      ]
     },
     "execution_count": 39,
     "metadata": {},
     "output_type": "execute_result"
    }
   ],
   "source": [
    "# set Venue Zipcode column into integer so that I can sort it by values\n",
    "stpaul_venues['Venue Zipcode'] = stpaul_venues['Venue Zipcode'].astype(int)\n",
    "# sort by Venue Zipcode value\n",
    "stpaul_venues = stpaul_venues.sort_values(by='Venue Zipcode')\n",
    "# ensure that venues are located in the zipStPaul['zipcode']\n",
    "stpaul_venues = stpaul_venues[stpaul_venues['Venue Zipcode'].isin(zipStPaul['zipcode'])]\n",
    "# reset the index\n",
    "stpaul_venues = stpaul_venues.reset_index(drop=True)\n",
    "# see what the shape look like\n",
    "stpaul_venues.shape"
   ]
  },
  {
   "cell_type": "markdown",
   "metadata": {},
   "source": [
    "##### Let's save the queries into a csv file:"
   ]
  },
  {
   "cell_type": "code",
   "execution_count": 40,
   "metadata": {},
   "outputs": [],
   "source": [
    "stpaul_venues.to_csv('stpaul_venues.csv',index=False)"
   ]
  },
  {
   "cell_type": "markdown",
   "metadata": {},
   "source": [
    "##### Let's inspect the different categories"
   ]
  },
  {
   "cell_type": "code",
   "execution_count": 41,
   "metadata": {
    "scrolled": true
   },
   "outputs": [
    {
     "data": {
      "text/plain": [
       "array(['Pizza Place', 'Southern / Soul Food Restaurant', 'Dessert Shop',\n",
       "       'Brewery', 'New American Restaurant', 'Breakfast Spot',\n",
       "       'Baseball Stadium', 'Gym / Fitness Center', 'Dive Bar',\n",
       "       'Asian Restaurant', 'Train Station', 'Sandwich Place', 'Bakery',\n",
       "       'Liquor Store', 'Coffee Shop', 'Hotel', 'Farmers Market',\n",
       "       'Theater', 'Gym', 'Thai Restaurant', 'Café', 'Supermarket', 'Bar',\n",
       "       'Beer Bar', 'Trail', 'American Restaurant', 'Park',\n",
       "       'Italian Restaurant', 'Non-Profit', 'Mexican Restaurant', 'Spa',\n",
       "       'Restaurant', 'French Restaurant', 'Lounge', 'Scenic Lookout',\n",
       "       'Museum', \"Men's Store\", 'Movie Theater', 'Performing Arts Venue',\n",
       "       'Eastern European Restaurant', 'Organic Grocery', 'Music Venue',\n",
       "       'Cocktail Bar', 'History Museum', 'Diner', 'Athletics & Sports',\n",
       "       'Steakhouse', 'Burger Joint', 'Sporting Goods Shop', 'Market',\n",
       "       'Science Museum', 'Wine Shop', 'Dog Run', 'Gastropub',\n",
       "       'Donut Shop', 'Residential Building (Apartment / Condo)',\n",
       "       'Candy Store', 'Bookstore', 'Jazz Club', 'Hockey Arena',\n",
       "       'Clothing Store', 'African Restaurant', 'Pub',\n",
       "       'Vietnamese Restaurant', 'Garden', 'Zoo Exhibit', 'Lake',\n",
       "       'Noodle House', 'Zoo', 'Theme Park', 'Korean Restaurant',\n",
       "       'Mini Golf', 'Chinese Restaurant', 'Soccer Stadium',\n",
       "       'Turkish Restaurant', 'Gift Shop', 'Bistro',\n",
       "       'Ethiopian Restaurant', 'Vegetarian / Vegan Restaurant', 'Pool',\n",
       "       'Garden Center', 'Thrift / Vintage Store', 'Toy / Game Store',\n",
       "       'Ramen Restaurant', 'BBQ Joint', 'Rock Club', 'Hobby Shop',\n",
       "       'Boutique', 'Bubble Tea Shop', 'Arts & Crafts Store',\n",
       "       'Music Store', 'Salon / Barbershop', 'Grocery Store', 'Wine Bar',\n",
       "       'Butcher', 'Cheese Shop', 'Sushi Restaurant',\n",
       "       'Mediterranean Restaurant', 'Gourmet Shop', 'Smoke Shop',\n",
       "       'Taco Place', 'Juice Bar', 'Ice Cream Shop', \"Women's Store\",\n",
       "       'Yoga Studio', 'Cosmetics Shop', 'Seafood Restaurant',\n",
       "       'Fast Food Restaurant', 'Church', 'Indie Theater',\n",
       "       'Basketball Court', 'Sports Bar', 'Motel', 'Burrito Place',\n",
       "       'Harbor / Marina', 'Automotive Shop', 'Electronics Store',\n",
       "       'Scandinavian Restaurant', 'Event Space', 'Exhibit',\n",
       "       'General College & University', 'Concert Hall',\n",
       "       'General Entertainment', 'Caribbean Restaurant', 'Bagel Shop',\n",
       "       'Stadium', 'Snack Place', 'Campground', 'Beer Garden', 'Casino',\n",
       "       'Kitchen Supply Store', 'Shoe Store', 'German Restaurant',\n",
       "       'Department Store', 'Golf Course', 'Jewelry Store',\n",
       "       'Mobile Phone Shop', 'Disc Golf', 'Indian Restaurant',\n",
       "       'Shopping Mall', 'Lingerie Store', 'Skating Rink',\n",
       "       'Furniture / Home Store', 'Bike Shop', 'Greek Restaurant',\n",
       "       'Miscellaneous Shop', 'Big Box Store', 'Pet Store',\n",
       "       'Theme Park Ride / Attraction', 'Middle Eastern Restaurant',\n",
       "       'Antique Shop', 'Record Shop', 'Tea Room', 'Massage Studio',\n",
       "       'Deli / Bodega', 'Frozen Yogurt Shop', 'Hookah Bar',\n",
       "       'Discount Store', 'Soccer Field', 'Gas Station', 'Beach',\n",
       "       'Tex-Mex Restaurant', 'Video Store', 'Veterinarian',\n",
       "       'Baseball Field', 'Coworking Space', 'Bowling Alley', 'ATM',\n",
       "       'Pharmacy', 'Supplement Shop'], dtype=object)"
      ]
     },
     "execution_count": 41,
     "metadata": {},
     "output_type": "execute_result"
    }
   ],
   "source": [
    "stpaul_venues['Venue Category'].unique()"
   ]
  },
  {
   "cell_type": "markdown",
   "metadata": {},
   "source": [
    "Category of interests are:  \n",
    "- Dog Run\n",
    "- Pet Store\n",
    "- Veterinarian\n",
    "\n",
    "How many of them are there in the dataset?"
   ]
  },
  {
   "cell_type": "code",
   "execution_count": 42,
   "metadata": {},
   "outputs": [
    {
     "data": {
      "text/html": [
       "<div>\n",
       "<style scoped>\n",
       "    .dataframe tbody tr th:only-of-type {\n",
       "        vertical-align: middle;\n",
       "    }\n",
       "\n",
       "    .dataframe tbody tr th {\n",
       "        vertical-align: top;\n",
       "    }\n",
       "\n",
       "    .dataframe thead th {\n",
       "        text-align: right;\n",
       "    }\n",
       "</style>\n",
       "<table border=\"1\" class=\"dataframe\">\n",
       "  <thead>\n",
       "    <tr style=\"text-align: right;\">\n",
       "      <th></th>\n",
       "      <th>Neighborhood</th>\n",
       "      <th>Zipcode</th>\n",
       "      <th>Neighborhood Latitude</th>\n",
       "      <th>Neighborhood Longitude</th>\n",
       "      <th>Venue</th>\n",
       "      <th>Venue Latitude</th>\n",
       "      <th>Venue Longitude</th>\n",
       "      <th>Venue Zipcode</th>\n",
       "      <th>Venue Category</th>\n",
       "    </tr>\n",
       "  </thead>\n",
       "  <tbody>\n",
       "    <tr>\n",
       "      <th>0</th>\n",
       "      <td>Saint Paul</td>\n",
       "      <td>55102</td>\n",
       "      <td>44.93</td>\n",
       "      <td>-93.12</td>\n",
       "      <td>High Bridge Dog Park</td>\n",
       "      <td>44.935525</td>\n",
       "      <td>-93.106320</td>\n",
       "      <td>55102</td>\n",
       "      <td>Dog Run</td>\n",
       "    </tr>\n",
       "    <tr>\n",
       "      <th>1</th>\n",
       "      <td>Roseville</td>\n",
       "      <td>55113</td>\n",
       "      <td>45.01</td>\n",
       "      <td>-93.16</td>\n",
       "      <td>Chuck &amp; Don's Pet Food Outlet</td>\n",
       "      <td>45.024081</td>\n",
       "      <td>-93.169918</td>\n",
       "      <td>55113</td>\n",
       "      <td>Pet Store</td>\n",
       "    </tr>\n",
       "    <tr>\n",
       "      <th>2</th>\n",
       "      <td>Saint Paul</td>\n",
       "      <td>55114</td>\n",
       "      <td>44.97</td>\n",
       "      <td>-93.20</td>\n",
       "      <td>Twin Cities Reptiles</td>\n",
       "      <td>44.963767</td>\n",
       "      <td>-93.196522</td>\n",
       "      <td>55114</td>\n",
       "      <td>Pet Store</td>\n",
       "    </tr>\n",
       "    <tr>\n",
       "      <th>3</th>\n",
       "      <td>Saint Paul</td>\n",
       "      <td>55116</td>\n",
       "      <td>44.91</td>\n",
       "      <td>-93.17</td>\n",
       "      <td>Chuck &amp; Don's Pet Food Outlet</td>\n",
       "      <td>44.916832</td>\n",
       "      <td>-93.189630</td>\n",
       "      <td>55116</td>\n",
       "      <td>Pet Store</td>\n",
       "    </tr>\n",
       "    <tr>\n",
       "      <th>4</th>\n",
       "      <td>Saint Paul</td>\n",
       "      <td>55116</td>\n",
       "      <td>44.91</td>\n",
       "      <td>-93.17</td>\n",
       "      <td>Petco</td>\n",
       "      <td>44.918520</td>\n",
       "      <td>-93.196697</td>\n",
       "      <td>55116</td>\n",
       "      <td>Pet Store</td>\n",
       "    </tr>\n",
       "    <tr>\n",
       "      <th>5</th>\n",
       "      <td>Maplewood</td>\n",
       "      <td>55117</td>\n",
       "      <td>45.00</td>\n",
       "      <td>-93.10</td>\n",
       "      <td>Como Park Animal Hospital</td>\n",
       "      <td>44.971809</td>\n",
       "      <td>-93.125984</td>\n",
       "      <td>55117</td>\n",
       "      <td>Veterinarian</td>\n",
       "    </tr>\n",
       "    <tr>\n",
       "      <th>6</th>\n",
       "      <td>Saint Paul</td>\n",
       "      <td>55119</td>\n",
       "      <td>44.94</td>\n",
       "      <td>-93.01</td>\n",
       "      <td>Battle Creek Dog Park</td>\n",
       "      <td>44.939410</td>\n",
       "      <td>-93.001641</td>\n",
       "      <td>55119</td>\n",
       "      <td>Dog Run</td>\n",
       "    </tr>\n",
       "    <tr>\n",
       "      <th>7</th>\n",
       "      <td>Saint Paul</td>\n",
       "      <td>55130</td>\n",
       "      <td>44.97</td>\n",
       "      <td>-93.09</td>\n",
       "      <td>Arlington Arkwright Dog Park</td>\n",
       "      <td>44.982032</td>\n",
       "      <td>-93.083346</td>\n",
       "      <td>55130</td>\n",
       "      <td>Dog Run</td>\n",
       "    </tr>\n",
       "  </tbody>\n",
       "</table>\n",
       "</div>"
      ],
      "text/plain": [
       "  Neighborhood Zipcode  Neighborhood Latitude  Neighborhood Longitude  \\\n",
       "0   Saint Paul   55102                  44.93                  -93.12   \n",
       "1    Roseville   55113                  45.01                  -93.16   \n",
       "2   Saint Paul   55114                  44.97                  -93.20   \n",
       "3   Saint Paul   55116                  44.91                  -93.17   \n",
       "4   Saint Paul   55116                  44.91                  -93.17   \n",
       "5    Maplewood   55117                  45.00                  -93.10   \n",
       "6   Saint Paul   55119                  44.94                  -93.01   \n",
       "7   Saint Paul   55130                  44.97                  -93.09   \n",
       "\n",
       "                           Venue  Venue Latitude  Venue Longitude  \\\n",
       "0           High Bridge Dog Park       44.935525       -93.106320   \n",
       "1  Chuck & Don's Pet Food Outlet       45.024081       -93.169918   \n",
       "2           Twin Cities Reptiles       44.963767       -93.196522   \n",
       "3  Chuck & Don's Pet Food Outlet       44.916832       -93.189630   \n",
       "4                          Petco       44.918520       -93.196697   \n",
       "5      Como Park Animal Hospital       44.971809       -93.125984   \n",
       "6          Battle Creek Dog Park       44.939410       -93.001641   \n",
       "7   Arlington Arkwright Dog Park       44.982032       -93.083346   \n",
       "\n",
       "   Venue Zipcode Venue Category  \n",
       "0          55102        Dog Run  \n",
       "1          55113      Pet Store  \n",
       "2          55114      Pet Store  \n",
       "3          55116      Pet Store  \n",
       "4          55116      Pet Store  \n",
       "5          55117   Veterinarian  \n",
       "6          55119        Dog Run  \n",
       "7          55130        Dog Run  "
      ]
     },
     "execution_count": 42,
     "metadata": {},
     "output_type": "execute_result"
    }
   ],
   "source": [
    "# listing all the category of interest:\n",
    "catInt = ['Dog Run','Pet Store','Veterinarian']\n",
    "# subsetting the data\n",
    "justpetfoursquare= stpaul_venues[stpaul_venues['Venue Category'].isin(catInt)]\n",
    "# resetting the index:\n",
    "justpetfoursquare = justpetfoursquare.reset_index(drop=True)\n",
    "justpetfoursquare"
   ]
  },
  {
   "cell_type": "markdown",
   "metadata": {},
   "source": [
    "There are only 8 values and there should be more. So, I will augment the values from FourSquare API with values from **yelp API**."
   ]
  },
  {
   "cell_type": "markdown",
   "metadata": {},
   "source": [
    "### Yelp API  "
   ]
  },
  {
   "cell_type": "code",
   "execution_count": 43,
   "metadata": {},
   "outputs": [],
   "source": [
    "# get the ID and secret from the obfuscated file \n",
    "APIkey = pd.read_csv('../../brainstorming/yelp-cred/APIkey',header=None)[0][0] # my yelp APIkey\n",
    "headers = {'Authorization': 'Bearer %s' % APIkey}"
   ]
  },
  {
   "cell_type": "code",
   "execution_count": 44,
   "metadata": {},
   "outputs": [],
   "source": [
    "# yelp has a limit of 50 for their query\n",
    "LIMIT = 50"
   ]
  },
  {
   "cell_type": "code",
   "execution_count": 45,
   "metadata": {},
   "outputs": [],
   "source": [
    "# modified from the earlier function to match the yelp API\n",
    "def getQueryVenues(query, zipcode, latitudes, longitudes, radius=500):\n",
    "    \n",
    "    venues_list=[]\n",
    "    for zipcode, lat, lng in zip(zipcode, latitudes, longitudes):\n",
    "        \n",
    "        # create the API request URL\n",
    "        url = 'https://api.yelp.com/v3/businesses/search?term={}&latitude={}&longitude={}&radius={}&limit={}'.format(\n",
    "            query,\n",
    "            lat, \n",
    "            lng, \n",
    "            radius, \n",
    "            LIMIT)\n",
    "            \n",
    "        # make the GET request\n",
    "        results = requests.get(url, headers=headers).json()['businesses']\n",
    "        \n",
    "        \n",
    "        # return only relevant information for each nearby venue\n",
    "        venues_list.append([(\n",
    "            zipcode, \n",
    "            lat, \n",
    "            lng, \n",
    "            v['name'], \n",
    "            v['location']['zip_code'],\n",
    "            v['coordinates']['latitude'], \n",
    "            v['coordinates']['longitude'],  \n",
    "            v['categories'][0]['title']) for v in results])\n",
    "\n",
    "    nearby_venues = pd.DataFrame([item for venue_list in venues_list for item in venue_list])\n",
    "    nearby_venues.columns = ['zip_code', \n",
    "                  'Zipcode Latitude', \n",
    "                  'Zipcode Longitude', \n",
    "                  'Venue',\n",
    "                  'Venue Zipcode',\n",
    "                  'Venue Latitude', \n",
    "                  'Venue Longitude', \n",
    "                  'Venue Category']\n",
    "    return(nearby_venues)"
   ]
  },
  {
   "cell_type": "code",
   "execution_count": 46,
   "metadata": {},
   "outputs": [
    {
     "data": {
      "text/plain": [
       "(660, 8)"
      ]
     },
     "execution_count": 46,
     "metadata": {},
     "output_type": "execute_result"
    }
   ],
   "source": [
    "petstpaul_venues = getQueryVenues(query='pet',\n",
    "                                  zipcode=zipStPaul['zipcode'],\n",
    "                                  latitudes=zipStPaul['latitude'],\n",
    "                                  longitudes=zipStPaul['longitude'],\n",
    "                                  radius=4000)\n",
    "petstpaul_venues.shape"
   ]
  },
  {
   "cell_type": "code",
   "execution_count": 47,
   "metadata": {},
   "outputs": [],
   "source": [
    "# limit only to the zipcode from what we queried in zipStPaul:\n",
    "petstpaul_venues = petstpaul_venues[petstpaul_venues['Venue Zipcode'].isin(zipStPaul['zipcode'])]"
   ]
  },
  {
   "cell_type": "markdown",
   "metadata": {},
   "source": [
    "#### Cleaning up the `petstpaul_venues` data\n",
    "\n",
    "I clean up the `petstpaul_venues` data through the following methods:  \n",
    "- Based on the `Venue` column, separate the unique and duplicated values into two\n",
    "- In unique dataframe, they are all set!\n",
    "- In duplicated dataframe, separate them into rows where `Venue Zipcode` and `Zipcode` are the same and rows where they are not:\n",
    "    - Keep all the values when `Venue Zipcode` and `Zipcode` are the same\n",
    "    - Remove the duplicates when `Venue Zipcode` and `Zipcode` are not the same"
   ]
  },
  {
   "cell_type": "markdown",
   "metadata": {},
   "source": [
    "##### Based on the `Venue` column, separate the unique and duplicated values into two"
   ]
  },
  {
   "cell_type": "code",
   "execution_count": 48,
   "metadata": {},
   "outputs": [
    {
     "data": {
      "text/html": [
       "<div>\n",
       "<style scoped>\n",
       "    .dataframe tbody tr th:only-of-type {\n",
       "        vertical-align: middle;\n",
       "    }\n",
       "\n",
       "    .dataframe tbody tr th {\n",
       "        vertical-align: top;\n",
       "    }\n",
       "\n",
       "    .dataframe thead th {\n",
       "        text-align: right;\n",
       "    }\n",
       "</style>\n",
       "<table border=\"1\" class=\"dataframe\">\n",
       "  <thead>\n",
       "    <tr style=\"text-align: right;\">\n",
       "      <th></th>\n",
       "      <th>zip_code</th>\n",
       "      <th>Zipcode Latitude</th>\n",
       "      <th>Zipcode Longitude</th>\n",
       "      <th>Venue</th>\n",
       "      <th>Venue Zipcode</th>\n",
       "      <th>Venue Latitude</th>\n",
       "      <th>Venue Longitude</th>\n",
       "      <th>Venue Category</th>\n",
       "    </tr>\n",
       "  </thead>\n",
       "  <tbody>\n",
       "    <tr>\n",
       "      <th>301</th>\n",
       "      <td>55107</td>\n",
       "      <td>44.93</td>\n",
       "      <td>-93.09</td>\n",
       "      <td>The Day Spaw</td>\n",
       "      <td>55107</td>\n",
       "      <td>44.882454</td>\n",
       "      <td>-93.076205</td>\n",
       "      <td>Pet Groomers</td>\n",
       "    </tr>\n",
       "    <tr>\n",
       "      <th>382</th>\n",
       "      <td>55113</td>\n",
       "      <td>45.01</td>\n",
       "      <td>-93.16</td>\n",
       "      <td>Metro Pet Spa</td>\n",
       "      <td>55113</td>\n",
       "      <td>45.032089</td>\n",
       "      <td>-93.176186</td>\n",
       "      <td>Pet Sitting</td>\n",
       "    </tr>\n",
       "    <tr>\n",
       "      <th>570</th>\n",
       "      <td>55119</td>\n",
       "      <td>44.94</td>\n",
       "      <td>-93.01</td>\n",
       "      <td>Funtastic K9 Training</td>\n",
       "      <td>55119</td>\n",
       "      <td>44.949660</td>\n",
       "      <td>-93.017220</td>\n",
       "      <td>Pet Training</td>\n",
       "    </tr>\n",
       "    <tr>\n",
       "      <th>574</th>\n",
       "      <td>55119</td>\n",
       "      <td>44.94</td>\n",
       "      <td>-93.01</td>\n",
       "      <td>Century Animal Clinic</td>\n",
       "      <td>55119</td>\n",
       "      <td>44.966652</td>\n",
       "      <td>-92.985361</td>\n",
       "      <td>Veterinarians</td>\n",
       "    </tr>\n",
       "  </tbody>\n",
       "</table>\n",
       "</div>"
      ],
      "text/plain": [
       "    zip_code  Zipcode Latitude  Zipcode Longitude                  Venue  \\\n",
       "301    55107             44.93             -93.09           The Day Spaw   \n",
       "382    55113             45.01             -93.16          Metro Pet Spa   \n",
       "570    55119             44.94             -93.01  Funtastic K9 Training   \n",
       "574    55119             44.94             -93.01  Century Animal Clinic   \n",
       "\n",
       "    Venue Zipcode  Venue Latitude  Venue Longitude Venue Category  \n",
       "301         55107       44.882454       -93.076205   Pet Groomers  \n",
       "382         55113       45.032089       -93.176186    Pet Sitting  \n",
       "570         55119       44.949660       -93.017220   Pet Training  \n",
       "574         55119       44.966652       -92.985361  Veterinarians  "
      ]
     },
     "execution_count": 48,
     "metadata": {},
     "output_type": "execute_result"
    }
   ],
   "source": [
    "unique_petstpaul_venues = petstpaul_venues[~petstpaul_venues.duplicated(subset='Venue',keep=False)]\n",
    "duplicated_petstpaul_venues = petstpaul_venues[petstpaul_venues.duplicated(subset='Venue',keep=False)]\n",
    "# see the unique values:\n",
    "unique_petstpaul_venues"
   ]
  },
  {
   "cell_type": "markdown",
   "metadata": {},
   "source": [
    "##### In unique dataframe, they are all set!"
   ]
  },
  {
   "cell_type": "markdown",
   "metadata": {},
   "source": [
    "##### In duplicated dataframe, separate them into rows where `Venue Zipcode` and `Zipcode` are the same and rows where they are not:\n",
    "##### Keep all the values when `Venue Zipcode` and `Zipcode` are the same"
   ]
  },
  {
   "cell_type": "code",
   "execution_count": 49,
   "metadata": {},
   "outputs": [
    {
     "data": {
      "text/plain": [
       "(65, 8)"
      ]
     },
     "execution_count": 49,
     "metadata": {},
     "output_type": "execute_result"
    }
   ],
   "source": [
    "duplicated_petstpaul_venues = duplicated_petstpaul_venues.sort_values(by='Venue')\n",
    "duplicated_petstpaul_venues = duplicated_petstpaul_venues.reset_index(drop=True)\n",
    "value_duplicated_petstpaul_venues = duplicated_petstpaul_venues[\n",
    "    duplicated_petstpaul_venues['zip_code']==duplicated_petstpaul_venues['Venue Zipcode']]\n",
    "value_duplicated_petstpaul_venues = value_duplicated_petstpaul_venues.reset_index(drop=True)\n",
    "value_duplicated_petstpaul_venues.shape"
   ]
  },
  {
   "cell_type": "markdown",
   "metadata": {},
   "source": [
    "##### Remove the duplicates when `Venue Zipcode` and `Zipcode` are not the same"
   ]
  },
  {
   "cell_type": "code",
   "execution_count": 50,
   "metadata": {},
   "outputs": [
    {
     "data": {
      "text/html": [
       "<div>\n",
       "<style scoped>\n",
       "    .dataframe tbody tr th:only-of-type {\n",
       "        vertical-align: middle;\n",
       "    }\n",
       "\n",
       "    .dataframe tbody tr th {\n",
       "        vertical-align: top;\n",
       "    }\n",
       "\n",
       "    .dataframe thead th {\n",
       "        text-align: right;\n",
       "    }\n",
       "</style>\n",
       "<table border=\"1\" class=\"dataframe\">\n",
       "  <thead>\n",
       "    <tr style=\"text-align: right;\">\n",
       "      <th></th>\n",
       "      <th>zip_code</th>\n",
       "      <th>Zipcode Latitude</th>\n",
       "      <th>Zipcode Longitude</th>\n",
       "      <th>Venue</th>\n",
       "      <th>Venue Zipcode</th>\n",
       "      <th>Venue Latitude</th>\n",
       "      <th>Venue Longitude</th>\n",
       "      <th>Venue Category</th>\n",
       "    </tr>\n",
       "  </thead>\n",
       "  <tbody>\n",
       "    <tr>\n",
       "      <th>12</th>\n",
       "      <td>55130</td>\n",
       "      <td>44.97</td>\n",
       "      <td>-93.09</td>\n",
       "      <td>Animal House Pet Styling</td>\n",
       "      <td>55113</td>\n",
       "      <td>45.019765</td>\n",
       "      <td>-93.105945</td>\n",
       "      <td>Pet Services</td>\n",
       "    </tr>\n",
       "    <tr>\n",
       "      <th>261</th>\n",
       "      <td>55130</td>\n",
       "      <td>44.97</td>\n",
       "      <td>-93.09</td>\n",
       "      <td>The Woof Room</td>\n",
       "      <td>55113</td>\n",
       "      <td>45.002530</td>\n",
       "      <td>-93.106430</td>\n",
       "      <td>Pet Sitting</td>\n",
       "    </tr>\n",
       "  </tbody>\n",
       "</table>\n",
       "</div>"
      ],
      "text/plain": [
       "    zip_code  Zipcode Latitude  Zipcode Longitude                     Venue  \\\n",
       "12     55130             44.97             -93.09  Animal House Pet Styling   \n",
       "261    55130             44.97             -93.09             The Woof Room   \n",
       "\n",
       "    Venue Zipcode  Venue Latitude  Venue Longitude Venue Category  \n",
       "12          55113       45.019765       -93.105945   Pet Services  \n",
       "261         55113       45.002530       -93.106430    Pet Sitting  "
      ]
     },
     "execution_count": 50,
     "metadata": {},
     "output_type": "execute_result"
    }
   ],
   "source": [
    "pickled_duplicated_petstpaul_venues = duplicated_petstpaul_venues[\n",
    "    ~(duplicated_petstpaul_venues['Venue'].isin(value_duplicated_petstpaul_venues['Venue']))]\n",
    "pickled_duplicated_petstpaul_venues = pickled_duplicated_petstpaul_venues.drop_duplicates(subset='Venue')\n",
    "pickled_duplicated_petstpaul_venues"
   ]
  },
  {
   "cell_type": "markdown",
   "metadata": {},
   "source": [
    "##### Combining all the values"
   ]
  },
  {
   "cell_type": "code",
   "execution_count": 51,
   "metadata": {},
   "outputs": [
    {
     "data": {
      "text/plain": [
       "(71, 8)"
      ]
     },
     "execution_count": 51,
     "metadata": {},
     "output_type": "execute_result"
    }
   ],
   "source": [
    "petstpaul_venues = pd.concat([unique_petstpaul_venues,\n",
    "                              value_duplicated_petstpaul_venues, \n",
    "                              pickled_duplicated_petstpaul_venues])\n",
    "petstpaul_venues.shape"
   ]
  },
  {
   "cell_type": "markdown",
   "metadata": {},
   "source": [
    "##### resetting the index"
   ]
  },
  {
   "cell_type": "code",
   "execution_count": 52,
   "metadata": {},
   "outputs": [],
   "source": [
    "petstpaul_venues['Venue Zipcode'] = petstpaul_venues['Venue Zipcode'].astype(int)\n",
    "petstpaul_venues = petstpaul_venues.sort_values(by='Venue Zipcode')\n",
    "petstpaul_venues = petstpaul_venues.reset_index(drop=True)"
   ]
  },
  {
   "cell_type": "code",
   "execution_count": 53,
   "metadata": {
    "scrolled": true
   },
   "outputs": [
    {
     "data": {
      "text/plain": [
       "array(['Dog Walkers', 'Pet Groomers', 'Veterinarians', 'Pet Sitting',\n",
       "       'Pet Stores', 'Pet Training', 'Pet Services', 'Animal Shelters',\n",
       "       'Event Photography', 'Pet Photography', 'Cremation Services',\n",
       "       'Bird Shops'], dtype=object)"
      ]
     },
     "execution_count": 53,
     "metadata": {},
     "output_type": "execute_result"
    }
   ],
   "source": [
    "petstpaul_venues['Venue Category'].unique()"
   ]
  },
  {
   "cell_type": "code",
   "execution_count": 54,
   "metadata": {},
   "outputs": [],
   "source": [
    "# saving the dataframe for presentation\n",
    "petstpaul_venues.to_csv('petstpaul_venues.csv',index=False)"
   ]
  },
  {
   "cell_type": "markdown",
   "metadata": {},
   "source": [
    "In order to make life a bit easier, we are going to focus on dogs and cats services, so the categories that we are going to consider are:\n",
    "- Dog Walkers\n",
    "- Veterinarians \n",
    "- Pet Groomers\n",
    "- Pet Sitting\n",
    "- Pet Stores\n",
    "- Pet Training\n",
    "- Pet Services\n",
    "- Animal Shelters"
   ]
  },
  {
   "cell_type": "code",
   "execution_count": 55,
   "metadata": {},
   "outputs": [],
   "source": [
    "catInt2 = ['Dog Walkers','Veterinarians','Pet Groomers','Pet Sitting',\n",
    "           'Pet Stores','Pet Training','Pet Services','Animal Shelters']"
   ]
  },
  {
   "cell_type": "code",
   "execution_count": 56,
   "metadata": {},
   "outputs": [
    {
     "data": {
      "text/plain": [
       "(67, 8)"
      ]
     },
     "execution_count": 56,
     "metadata": {},
     "output_type": "execute_result"
    }
   ],
   "source": [
    "justpetyelp= petstpaul_venues[petstpaul_venues['Venue Category'].isin(catInt2)]\n",
    "justpetyelp.shape"
   ]
  },
  {
   "cell_type": "code",
   "execution_count": 57,
   "metadata": {},
   "outputs": [
    {
     "data": {
      "text/html": [
       "<div>\n",
       "<style scoped>\n",
       "    .dataframe tbody tr th:only-of-type {\n",
       "        vertical-align: middle;\n",
       "    }\n",
       "\n",
       "    .dataframe tbody tr th {\n",
       "        vertical-align: top;\n",
       "    }\n",
       "\n",
       "    .dataframe thead th {\n",
       "        text-align: right;\n",
       "    }\n",
       "</style>\n",
       "<table border=\"1\" class=\"dataframe\">\n",
       "  <thead>\n",
       "    <tr style=\"text-align: right;\">\n",
       "      <th></th>\n",
       "      <th>zip_code</th>\n",
       "      <th>Zipcode Latitude</th>\n",
       "      <th>Zipcode Longitude</th>\n",
       "      <th>Venue</th>\n",
       "      <th>Venue Zipcode</th>\n",
       "      <th>Venue Latitude</th>\n",
       "      <th>Venue Longitude</th>\n",
       "      <th>Venue Category</th>\n",
       "    </tr>\n",
       "  </thead>\n",
       "  <tbody>\n",
       "    <tr>\n",
       "      <th>0</th>\n",
       "      <td>55101</td>\n",
       "      <td>44.95</td>\n",
       "      <td>-93.09</td>\n",
       "      <td>Wags Professional Pet Services</td>\n",
       "      <td>55101</td>\n",
       "      <td>44.948967</td>\n",
       "      <td>-93.084534</td>\n",
       "      <td>Dog Walkers</td>\n",
       "    </tr>\n",
       "    <tr>\n",
       "      <th>1</th>\n",
       "      <td>55101</td>\n",
       "      <td>44.95</td>\n",
       "      <td>-93.09</td>\n",
       "      <td>Lofty Dogs</td>\n",
       "      <td>55101</td>\n",
       "      <td>44.949890</td>\n",
       "      <td>-93.086370</td>\n",
       "      <td>Dog Walkers</td>\n",
       "    </tr>\n",
       "    <tr>\n",
       "      <th>2</th>\n",
       "      <td>55101</td>\n",
       "      <td>44.95</td>\n",
       "      <td>-93.09</td>\n",
       "      <td>Urban Animal Kingdom</td>\n",
       "      <td>55101</td>\n",
       "      <td>44.945536</td>\n",
       "      <td>-93.091914</td>\n",
       "      <td>Dog Walkers</td>\n",
       "    </tr>\n",
       "    <tr>\n",
       "      <th>3</th>\n",
       "      <td>55101</td>\n",
       "      <td>44.95</td>\n",
       "      <td>-93.09</td>\n",
       "      <td>Aska Pet Spa &amp; Boutique</td>\n",
       "      <td>55101</td>\n",
       "      <td>44.950398</td>\n",
       "      <td>-93.090086</td>\n",
       "      <td>Pet Groomers</td>\n",
       "    </tr>\n",
       "    <tr>\n",
       "      <th>4</th>\n",
       "      <td>55101</td>\n",
       "      <td>44.95</td>\n",
       "      <td>-93.09</td>\n",
       "      <td>Pomeroy's Animal Hospital &amp; Clinic</td>\n",
       "      <td>55101</td>\n",
       "      <td>44.950760</td>\n",
       "      <td>-93.091043</td>\n",
       "      <td>Veterinarians</td>\n",
       "    </tr>\n",
       "  </tbody>\n",
       "</table>\n",
       "</div>"
      ],
      "text/plain": [
       "  zip_code  Zipcode Latitude  Zipcode Longitude  \\\n",
       "0    55101             44.95             -93.09   \n",
       "1    55101             44.95             -93.09   \n",
       "2    55101             44.95             -93.09   \n",
       "3    55101             44.95             -93.09   \n",
       "4    55101             44.95             -93.09   \n",
       "\n",
       "                                Venue  Venue Zipcode  Venue Latitude  \\\n",
       "0      Wags Professional Pet Services          55101       44.948967   \n",
       "1                          Lofty Dogs          55101       44.949890   \n",
       "2                Urban Animal Kingdom          55101       44.945536   \n",
       "3             Aska Pet Spa & Boutique          55101       44.950398   \n",
       "4  Pomeroy's Animal Hospital & Clinic          55101       44.950760   \n",
       "\n",
       "   Venue Longitude Venue Category  \n",
       "0       -93.084534    Dog Walkers  \n",
       "1       -93.086370    Dog Walkers  \n",
       "2       -93.091914    Dog Walkers  \n",
       "3       -93.090086   Pet Groomers  \n",
       "4       -93.091043  Veterinarians  "
      ]
     },
     "execution_count": 57,
     "metadata": {},
     "output_type": "execute_result"
    }
   ],
   "source": [
    "justpetyelp.head()"
   ]
  },
  {
   "cell_type": "markdown",
   "metadata": {},
   "source": [
    "#### Combining ``stpaul_venues`` and ``justpetyelp`` and cleaning up the `combined_df` data\n",
    "\n",
    "I combine the two dataframe and named it `combined_df`. I cleaned up the `combined_df` data through the following methods:  \n",
    "- Separate the dataframe in two based on the categories in the `stpaul_venues` and `justpetyelp`: `check_one` and `check_two`\n",
    "- We will keep the dataframe without the categories in the `stpaul_venues` and `justpetyelp` (`check_two`) intact\n",
    "- In `check_one` dataframe, separate them into rows where there are duplicates in `Venue` and rows where they are not (`duplicated_check_one` and `unique_check_one`):\n",
    "    - Check manually and remove the duplicates on `duplicated_check_one` \n",
    "    - Remove the duplicates when `Venue Zipcode` and `Zipcode` are not the same"
   ]
  },
  {
   "cell_type": "code",
   "execution_count": 58,
   "metadata": {},
   "outputs": [
    {
     "data": {
      "text/plain": [
       "(629, 5)"
      ]
     },
     "execution_count": 58,
     "metadata": {},
     "output_type": "execute_result"
    }
   ],
   "source": [
    "# combining the two dataframes:\n",
    "onecomb = stpaul_venues.loc[:,['Venue','Venue Zipcode', 'Venue Latitude','Venue Longitude','Venue Category']]\n",
    "twocomb = justpetyelp.loc[:,['Venue','Venue Zipcode', 'Venue Latitude','Venue Longitude','Venue Category']]\n",
    "combined_df = pd.concat([onecomb,twocomb])\n",
    "combined_df = combined_df.sort_values(by='Venue Zipcode')\n",
    "combined_df = combined_df.reset_index(drop=True)\n",
    "combined_df.shape"
   ]
  },
  {
   "cell_type": "markdown",
   "metadata": {},
   "source": [
    "##### Separate the dataframe in two based on the categories in the `stpaul_venues` and `justpetyelp`"
   ]
  },
  {
   "cell_type": "code",
   "execution_count": 59,
   "metadata": {},
   "outputs": [],
   "source": [
    "check_one = combined_df[combined_df['Venue Category'].isin(catInt + list(set(catInt2) - set(catInt)))]\n",
    "check_two = combined_df[~combined_df['Venue Category'].isin(catInt + list(set(catInt2) - set(catInt)))]\n",
    "# keep check_two intact"
   ]
  },
  {
   "cell_type": "markdown",
   "metadata": {},
   "source": [
    "##### In `check_one` dataframe, separate them into rows where there are duplicates in `Venue` and rows where they are not (`duplicated_check_one` and `unique_check_one`)"
   ]
  },
  {
   "cell_type": "code",
   "execution_count": 60,
   "metadata": {},
   "outputs": [],
   "source": [
    "duplicated_check_one = check_one[check_one.duplicated(subset='Venue',keep=False)].sort_values(by='Venue')\n",
    "unique_check_one = check_one[~check_one.duplicated(subset='Venue',keep=False)]"
   ]
  },
  {
   "cell_type": "markdown",
   "metadata": {},
   "source": [
    "##### Check manually and remove the duplicates on `duplicated_check_one` \n",
    "\n",
    "The duplicated values are Chuck and Don's, Como Park, Pet Supplies Plus, and Twin Cities Reptiles"
   ]
  },
  {
   "cell_type": "code",
   "execution_count": 61,
   "metadata": {},
   "outputs": [
    {
     "data": {
      "text/html": [
       "<div>\n",
       "<style scoped>\n",
       "    .dataframe tbody tr th:only-of-type {\n",
       "        vertical-align: middle;\n",
       "    }\n",
       "\n",
       "    .dataframe tbody tr th {\n",
       "        vertical-align: top;\n",
       "    }\n",
       "\n",
       "    .dataframe thead th {\n",
       "        text-align: right;\n",
       "    }\n",
       "</style>\n",
       "<table border=\"1\" class=\"dataframe\">\n",
       "  <thead>\n",
       "    <tr style=\"text-align: right;\">\n",
       "      <th></th>\n",
       "      <th>Venue</th>\n",
       "      <th>Venue Zipcode</th>\n",
       "      <th>Venue Latitude</th>\n",
       "      <th>Venue Longitude</th>\n",
       "      <th>Venue Category</th>\n",
       "    </tr>\n",
       "  </thead>\n",
       "  <tbody>\n",
       "    <tr>\n",
       "      <th>0</th>\n",
       "      <td>Banfield Pet Hospital</td>\n",
       "      <td>55113</td>\n",
       "      <td>45.016502</td>\n",
       "      <td>-93.175787</td>\n",
       "      <td>Veterinarians</td>\n",
       "    </tr>\n",
       "    <tr>\n",
       "      <th>1</th>\n",
       "      <td>Banfield Pet Hospital</td>\n",
       "      <td>55116</td>\n",
       "      <td>44.917463</td>\n",
       "      <td>-93.186226</td>\n",
       "      <td>Veterinarians</td>\n",
       "    </tr>\n",
       "    <tr>\n",
       "      <th>2</th>\n",
       "      <td>Chuck &amp; Don's Pet Food &amp; Supplies</td>\n",
       "      <td>55113</td>\n",
       "      <td>45.021352</td>\n",
       "      <td>-93.170601</td>\n",
       "      <td>Pet Stores</td>\n",
       "    </tr>\n",
       "    <tr>\n",
       "      <th>3</th>\n",
       "      <td>Chuck &amp; Don's Pet Food &amp; Supplies</td>\n",
       "      <td>55116</td>\n",
       "      <td>44.917735</td>\n",
       "      <td>-93.189564</td>\n",
       "      <td>Pet Stores</td>\n",
       "    </tr>\n",
       "    <tr>\n",
       "      <th>4</th>\n",
       "      <td>Como Park Animal Hospital</td>\n",
       "      <td>55117</td>\n",
       "      <td>44.971808</td>\n",
       "      <td>-93.125987</td>\n",
       "      <td>Veterinarians</td>\n",
       "    </tr>\n",
       "    <tr>\n",
       "      <th>5</th>\n",
       "      <td>Petco</td>\n",
       "      <td>55113</td>\n",
       "      <td>45.018555</td>\n",
       "      <td>-93.178525</td>\n",
       "      <td>Pet Stores</td>\n",
       "    </tr>\n",
       "    <tr>\n",
       "      <th>7</th>\n",
       "      <td>Petco</td>\n",
       "      <td>55116</td>\n",
       "      <td>44.918520</td>\n",
       "      <td>-93.196697</td>\n",
       "      <td>Pet Store</td>\n",
       "    </tr>\n",
       "    <tr>\n",
       "      <th>8</th>\n",
       "      <td>Twin Cities Reptiles</td>\n",
       "      <td>55114</td>\n",
       "      <td>44.963989</td>\n",
       "      <td>-93.196365</td>\n",
       "      <td>Pet Stores</td>\n",
       "    </tr>\n",
       "  </tbody>\n",
       "</table>\n",
       "</div>"
      ],
      "text/plain": [
       "                               Venue  Venue Zipcode  Venue Latitude  \\\n",
       "0              Banfield Pet Hospital          55113       45.016502   \n",
       "1              Banfield Pet Hospital          55116       44.917463   \n",
       "2  Chuck & Don's Pet Food & Supplies          55113       45.021352   \n",
       "3  Chuck & Don's Pet Food & Supplies          55116       44.917735   \n",
       "4          Como Park Animal Hospital          55117       44.971808   \n",
       "5                              Petco          55113       45.018555   \n",
       "7                              Petco          55116       44.918520   \n",
       "8               Twin Cities Reptiles          55114       44.963989   \n",
       "\n",
       "   Venue Longitude Venue Category  \n",
       "0       -93.175787  Veterinarians  \n",
       "1       -93.186226  Veterinarians  \n",
       "2       -93.170601     Pet Stores  \n",
       "3       -93.189564     Pet Stores  \n",
       "4       -93.125987  Veterinarians  \n",
       "5       -93.178525     Pet Stores  \n",
       "7       -93.196697      Pet Store  \n",
       "8       -93.196365     Pet Stores  "
      ]
     },
     "execution_count": 61,
     "metadata": {},
     "output_type": "execute_result"
    }
   ],
   "source": [
    "strtodel = ['Chuck','Como','Pet Supplies Plus','Twin Cities Reptiles']\n",
    "for i in strtodel:\n",
    "    subsetvalue = duplicated_check_one[duplicated_check_one['Venue'].str.contains(i)]\n",
    "    duplicated_check_one.drop(subsetvalue[subsetvalue.duplicated(subset='Venue Zipcode')].index,inplace=True)\n",
    "duplicated_check_one = duplicated_check_one.reset_index(drop=True)\n",
    "# there are two Petco in 55116, delete index 6\n",
    "duplicated_check_one.drop(6,inplace=True)\n",
    "duplicated_check_one"
   ]
  },
  {
   "cell_type": "markdown",
   "metadata": {},
   "source": [
    "###### combined the three dataframes back into `combined_df`"
   ]
  },
  {
   "cell_type": "code",
   "execution_count": 62,
   "metadata": {},
   "outputs": [
    {
     "data": {
      "text/plain": [
       "(624, 5)"
      ]
     },
     "execution_count": 62,
     "metadata": {},
     "output_type": "execute_result"
    }
   ],
   "source": [
    "combined_df = pd.concat([duplicated_check_one,unique_check_one,check_two])\n",
    "combined_df = combined_df.sort_values(by='Venue Zipcode')\n",
    "combined_df = combined_df.reset_index(drop=True)\n",
    "combined_df.shape"
   ]
  },
  {
   "cell_type": "code",
   "execution_count": 63,
   "metadata": {},
   "outputs": [],
   "source": [
    "# saving the dataframe for presentation\n",
    "combined_df.to_csv('combined_df.csv',index=False)"
   ]
  },
  {
   "cell_type": "markdown",
   "metadata": {},
   "source": [
    "#### Methodology for k-means clustering machine learning"
   ]
  },
  {
   "cell_type": "markdown",
   "metadata": {},
   "source": [
    "##### Analyze Each Neighborhood"
   ]
  },
  {
   "cell_type": "code",
   "execution_count": 64,
   "metadata": {},
   "outputs": [
    {
     "data": {
      "text/html": [
       "<div>\n",
       "<style scoped>\n",
       "    .dataframe tbody tr th:only-of-type {\n",
       "        vertical-align: middle;\n",
       "    }\n",
       "\n",
       "    .dataframe tbody tr th {\n",
       "        vertical-align: top;\n",
       "    }\n",
       "\n",
       "    .dataframe thead th {\n",
       "        text-align: right;\n",
       "    }\n",
       "</style>\n",
       "<table border=\"1\" class=\"dataframe\">\n",
       "  <thead>\n",
       "    <tr style=\"text-align: right;\">\n",
       "      <th></th>\n",
       "      <th>Zipcode</th>\n",
       "      <th>ATM</th>\n",
       "      <th>African Restaurant</th>\n",
       "      <th>American Restaurant</th>\n",
       "      <th>Animal Shelters</th>\n",
       "      <th>Antique Shop</th>\n",
       "      <th>Arts &amp; Crafts Store</th>\n",
       "      <th>Asian Restaurant</th>\n",
       "      <th>Athletics &amp; Sports</th>\n",
       "      <th>Automotive Shop</th>\n",
       "      <th>...</th>\n",
       "      <th>Vegetarian / Vegan Restaurant</th>\n",
       "      <th>Veterinarians</th>\n",
       "      <th>Video Store</th>\n",
       "      <th>Vietnamese Restaurant</th>\n",
       "      <th>Wine Bar</th>\n",
       "      <th>Wine Shop</th>\n",
       "      <th>Women's Store</th>\n",
       "      <th>Yoga Studio</th>\n",
       "      <th>Zoo</th>\n",
       "      <th>Zoo Exhibit</th>\n",
       "    </tr>\n",
       "  </thead>\n",
       "  <tbody>\n",
       "    <tr>\n",
       "      <th>0</th>\n",
       "      <td>55101</td>\n",
       "      <td>0</td>\n",
       "      <td>0</td>\n",
       "      <td>0</td>\n",
       "      <td>0</td>\n",
       "      <td>0</td>\n",
       "      <td>0</td>\n",
       "      <td>0</td>\n",
       "      <td>0</td>\n",
       "      <td>0</td>\n",
       "      <td>...</td>\n",
       "      <td>0</td>\n",
       "      <td>0</td>\n",
       "      <td>0</td>\n",
       "      <td>0</td>\n",
       "      <td>0</td>\n",
       "      <td>0</td>\n",
       "      <td>0</td>\n",
       "      <td>0</td>\n",
       "      <td>0</td>\n",
       "      <td>0</td>\n",
       "    </tr>\n",
       "    <tr>\n",
       "      <th>1</th>\n",
       "      <td>55101</td>\n",
       "      <td>0</td>\n",
       "      <td>0</td>\n",
       "      <td>0</td>\n",
       "      <td>0</td>\n",
       "      <td>0</td>\n",
       "      <td>0</td>\n",
       "      <td>0</td>\n",
       "      <td>0</td>\n",
       "      <td>0</td>\n",
       "      <td>...</td>\n",
       "      <td>0</td>\n",
       "      <td>0</td>\n",
       "      <td>0</td>\n",
       "      <td>0</td>\n",
       "      <td>0</td>\n",
       "      <td>0</td>\n",
       "      <td>0</td>\n",
       "      <td>0</td>\n",
       "      <td>0</td>\n",
       "      <td>0</td>\n",
       "    </tr>\n",
       "    <tr>\n",
       "      <th>2</th>\n",
       "      <td>55101</td>\n",
       "      <td>0</td>\n",
       "      <td>0</td>\n",
       "      <td>0</td>\n",
       "      <td>0</td>\n",
       "      <td>0</td>\n",
       "      <td>0</td>\n",
       "      <td>0</td>\n",
       "      <td>0</td>\n",
       "      <td>0</td>\n",
       "      <td>...</td>\n",
       "      <td>0</td>\n",
       "      <td>0</td>\n",
       "      <td>0</td>\n",
       "      <td>0</td>\n",
       "      <td>0</td>\n",
       "      <td>0</td>\n",
       "      <td>0</td>\n",
       "      <td>0</td>\n",
       "      <td>0</td>\n",
       "      <td>0</td>\n",
       "    </tr>\n",
       "    <tr>\n",
       "      <th>3</th>\n",
       "      <td>55101</td>\n",
       "      <td>0</td>\n",
       "      <td>0</td>\n",
       "      <td>0</td>\n",
       "      <td>0</td>\n",
       "      <td>0</td>\n",
       "      <td>0</td>\n",
       "      <td>0</td>\n",
       "      <td>0</td>\n",
       "      <td>0</td>\n",
       "      <td>...</td>\n",
       "      <td>0</td>\n",
       "      <td>0</td>\n",
       "      <td>0</td>\n",
       "      <td>0</td>\n",
       "      <td>0</td>\n",
       "      <td>0</td>\n",
       "      <td>0</td>\n",
       "      <td>0</td>\n",
       "      <td>0</td>\n",
       "      <td>0</td>\n",
       "    </tr>\n",
       "    <tr>\n",
       "      <th>4</th>\n",
       "      <td>55101</td>\n",
       "      <td>0</td>\n",
       "      <td>0</td>\n",
       "      <td>0</td>\n",
       "      <td>0</td>\n",
       "      <td>0</td>\n",
       "      <td>0</td>\n",
       "      <td>0</td>\n",
       "      <td>0</td>\n",
       "      <td>0</td>\n",
       "      <td>...</td>\n",
       "      <td>0</td>\n",
       "      <td>0</td>\n",
       "      <td>0</td>\n",
       "      <td>0</td>\n",
       "      <td>0</td>\n",
       "      <td>0</td>\n",
       "      <td>0</td>\n",
       "      <td>0</td>\n",
       "      <td>0</td>\n",
       "      <td>0</td>\n",
       "    </tr>\n",
       "  </tbody>\n",
       "</table>\n",
       "<p>5 rows × 178 columns</p>\n",
       "</div>"
      ],
      "text/plain": [
       "   Zipcode  ATM  African Restaurant  American Restaurant  Animal Shelters  \\\n",
       "0    55101    0                   0                    0                0   \n",
       "1    55101    0                   0                    0                0   \n",
       "2    55101    0                   0                    0                0   \n",
       "3    55101    0                   0                    0                0   \n",
       "4    55101    0                   0                    0                0   \n",
       "\n",
       "   Antique Shop  Arts & Crafts Store  Asian Restaurant  Athletics & Sports  \\\n",
       "0             0                    0                 0                   0   \n",
       "1             0                    0                 0                   0   \n",
       "2             0                    0                 0                   0   \n",
       "3             0                    0                 0                   0   \n",
       "4             0                    0                 0                   0   \n",
       "\n",
       "   Automotive Shop     ...       Vegetarian / Vegan Restaurant  Veterinarians  \\\n",
       "0                0     ...                                   0              0   \n",
       "1                0     ...                                   0              0   \n",
       "2                0     ...                                   0              0   \n",
       "3                0     ...                                   0              0   \n",
       "4                0     ...                                   0              0   \n",
       "\n",
       "   Video Store  Vietnamese Restaurant  Wine Bar  Wine Shop  Women's Store  \\\n",
       "0            0                      0         0          0              0   \n",
       "1            0                      0         0          0              0   \n",
       "2            0                      0         0          0              0   \n",
       "3            0                      0         0          0              0   \n",
       "4            0                      0         0          0              0   \n",
       "\n",
       "   Yoga Studio  Zoo  Zoo Exhibit  \n",
       "0            0    0            0  \n",
       "1            0    0            0  \n",
       "2            0    0            0  \n",
       "3            0    0            0  \n",
       "4            0    0            0  \n",
       "\n",
       "[5 rows x 178 columns]"
      ]
     },
     "execution_count": 64,
     "metadata": {},
     "output_type": "execute_result"
    }
   ],
   "source": [
    "# one hot encoding\n",
    "stpaul_onehot = pd.get_dummies(combined_df[['Venue Category']], prefix=\"\", prefix_sep=\"\")\n",
    "\n",
    "# add neighborhood column back to dataframe\n",
    "stpaul_onehot['Zipcode'] = combined_df['Venue Zipcode'] \n",
    "\n",
    "# move neighborhood column to the first column\n",
    "fixed_columns = [stpaul_onehot.columns[-1]] + list(stpaul_onehot.columns[:-1])\n",
    "stpaul_onehot = stpaul_onehot[fixed_columns]\n",
    "\n",
    "stpaul_onehot.head()"
   ]
  },
  {
   "cell_type": "markdown",
   "metadata": {},
   "source": [
    "#### Next, let's group rows by neighborhood and by taking the mean of the frequency of occurrence of each category"
   ]
  },
  {
   "cell_type": "code",
   "execution_count": 65,
   "metadata": {},
   "outputs": [
    {
     "data": {
      "text/html": [
       "<div>\n",
       "<style scoped>\n",
       "    .dataframe tbody tr th:only-of-type {\n",
       "        vertical-align: middle;\n",
       "    }\n",
       "\n",
       "    .dataframe tbody tr th {\n",
       "        vertical-align: top;\n",
       "    }\n",
       "\n",
       "    .dataframe thead th {\n",
       "        text-align: right;\n",
       "    }\n",
       "</style>\n",
       "<table border=\"1\" class=\"dataframe\">\n",
       "  <thead>\n",
       "    <tr style=\"text-align: right;\">\n",
       "      <th></th>\n",
       "      <th>Zipcode</th>\n",
       "      <th>ATM</th>\n",
       "      <th>African Restaurant</th>\n",
       "      <th>American Restaurant</th>\n",
       "      <th>Animal Shelters</th>\n",
       "      <th>Antique Shop</th>\n",
       "      <th>Arts &amp; Crafts Store</th>\n",
       "      <th>Asian Restaurant</th>\n",
       "      <th>Athletics &amp; Sports</th>\n",
       "      <th>Automotive Shop</th>\n",
       "      <th>...</th>\n",
       "      <th>Vegetarian / Vegan Restaurant</th>\n",
       "      <th>Veterinarians</th>\n",
       "      <th>Video Store</th>\n",
       "      <th>Vietnamese Restaurant</th>\n",
       "      <th>Wine Bar</th>\n",
       "      <th>Wine Shop</th>\n",
       "      <th>Women's Store</th>\n",
       "      <th>Yoga Studio</th>\n",
       "      <th>Zoo</th>\n",
       "      <th>Zoo Exhibit</th>\n",
       "    </tr>\n",
       "  </thead>\n",
       "  <tbody>\n",
       "    <tr>\n",
       "      <th>0</th>\n",
       "      <td>55101</td>\n",
       "      <td>0.0</td>\n",
       "      <td>0.000000</td>\n",
       "      <td>0.020833</td>\n",
       "      <td>0.000000</td>\n",
       "      <td>0.0</td>\n",
       "      <td>0.000000</td>\n",
       "      <td>0.041667</td>\n",
       "      <td>0.000000</td>\n",
       "      <td>0.0</td>\n",
       "      <td>...</td>\n",
       "      <td>0.000000</td>\n",
       "      <td>0.020833</td>\n",
       "      <td>0.0</td>\n",
       "      <td>0.000000</td>\n",
       "      <td>0.000000</td>\n",
       "      <td>0.000000</td>\n",
       "      <td>0.000000</td>\n",
       "      <td>0.000000</td>\n",
       "      <td>0.000000</td>\n",
       "      <td>0.000000</td>\n",
       "    </tr>\n",
       "    <tr>\n",
       "      <th>1</th>\n",
       "      <td>55102</td>\n",
       "      <td>0.0</td>\n",
       "      <td>0.012987</td>\n",
       "      <td>0.051948</td>\n",
       "      <td>0.000000</td>\n",
       "      <td>0.0</td>\n",
       "      <td>0.000000</td>\n",
       "      <td>0.000000</td>\n",
       "      <td>0.012987</td>\n",
       "      <td>0.0</td>\n",
       "      <td>...</td>\n",
       "      <td>0.000000</td>\n",
       "      <td>0.038961</td>\n",
       "      <td>0.0</td>\n",
       "      <td>0.000000</td>\n",
       "      <td>0.000000</td>\n",
       "      <td>0.012987</td>\n",
       "      <td>0.000000</td>\n",
       "      <td>0.000000</td>\n",
       "      <td>0.000000</td>\n",
       "      <td>0.000000</td>\n",
       "    </tr>\n",
       "    <tr>\n",
       "      <th>2</th>\n",
       "      <td>55103</td>\n",
       "      <td>0.0</td>\n",
       "      <td>0.000000</td>\n",
       "      <td>0.000000</td>\n",
       "      <td>0.000000</td>\n",
       "      <td>0.0</td>\n",
       "      <td>0.000000</td>\n",
       "      <td>0.058824</td>\n",
       "      <td>0.000000</td>\n",
       "      <td>0.0</td>\n",
       "      <td>...</td>\n",
       "      <td>0.000000</td>\n",
       "      <td>0.000000</td>\n",
       "      <td>0.0</td>\n",
       "      <td>0.117647</td>\n",
       "      <td>0.000000</td>\n",
       "      <td>0.000000</td>\n",
       "      <td>0.000000</td>\n",
       "      <td>0.000000</td>\n",
       "      <td>0.058824</td>\n",
       "      <td>0.117647</td>\n",
       "    </tr>\n",
       "    <tr>\n",
       "      <th>3</th>\n",
       "      <td>55104</td>\n",
       "      <td>0.0</td>\n",
       "      <td>0.020833</td>\n",
       "      <td>0.000000</td>\n",
       "      <td>0.020833</td>\n",
       "      <td>0.0</td>\n",
       "      <td>0.000000</td>\n",
       "      <td>0.020833</td>\n",
       "      <td>0.000000</td>\n",
       "      <td>0.0</td>\n",
       "      <td>...</td>\n",
       "      <td>0.020833</td>\n",
       "      <td>0.020833</td>\n",
       "      <td>0.0</td>\n",
       "      <td>0.062500</td>\n",
       "      <td>0.000000</td>\n",
       "      <td>0.000000</td>\n",
       "      <td>0.000000</td>\n",
       "      <td>0.000000</td>\n",
       "      <td>0.000000</td>\n",
       "      <td>0.000000</td>\n",
       "    </tr>\n",
       "    <tr>\n",
       "      <th>4</th>\n",
       "      <td>55105</td>\n",
       "      <td>0.0</td>\n",
       "      <td>0.000000</td>\n",
       "      <td>0.013699</td>\n",
       "      <td>0.000000</td>\n",
       "      <td>0.0</td>\n",
       "      <td>0.027397</td>\n",
       "      <td>0.027397</td>\n",
       "      <td>0.000000</td>\n",
       "      <td>0.0</td>\n",
       "      <td>...</td>\n",
       "      <td>0.000000</td>\n",
       "      <td>0.027397</td>\n",
       "      <td>0.0</td>\n",
       "      <td>0.000000</td>\n",
       "      <td>0.013699</td>\n",
       "      <td>0.013699</td>\n",
       "      <td>0.013699</td>\n",
       "      <td>0.013699</td>\n",
       "      <td>0.000000</td>\n",
       "      <td>0.000000</td>\n",
       "    </tr>\n",
       "  </tbody>\n",
       "</table>\n",
       "<p>5 rows × 178 columns</p>\n",
       "</div>"
      ],
      "text/plain": [
       "   Zipcode  ATM  African Restaurant  American Restaurant  Animal Shelters  \\\n",
       "0    55101  0.0            0.000000             0.020833         0.000000   \n",
       "1    55102  0.0            0.012987             0.051948         0.000000   \n",
       "2    55103  0.0            0.000000             0.000000         0.000000   \n",
       "3    55104  0.0            0.020833             0.000000         0.020833   \n",
       "4    55105  0.0            0.000000             0.013699         0.000000   \n",
       "\n",
       "   Antique Shop  Arts & Crafts Store  Asian Restaurant  Athletics & Sports  \\\n",
       "0           0.0             0.000000          0.041667            0.000000   \n",
       "1           0.0             0.000000          0.000000            0.012987   \n",
       "2           0.0             0.000000          0.058824            0.000000   \n",
       "3           0.0             0.000000          0.020833            0.000000   \n",
       "4           0.0             0.027397          0.027397            0.000000   \n",
       "\n",
       "   Automotive Shop     ...       Vegetarian / Vegan Restaurant  Veterinarians  \\\n",
       "0              0.0     ...                            0.000000       0.020833   \n",
       "1              0.0     ...                            0.000000       0.038961   \n",
       "2              0.0     ...                            0.000000       0.000000   \n",
       "3              0.0     ...                            0.020833       0.020833   \n",
       "4              0.0     ...                            0.000000       0.027397   \n",
       "\n",
       "   Video Store  Vietnamese Restaurant  Wine Bar  Wine Shop  Women's Store  \\\n",
       "0          0.0               0.000000  0.000000   0.000000       0.000000   \n",
       "1          0.0               0.000000  0.000000   0.012987       0.000000   \n",
       "2          0.0               0.117647  0.000000   0.000000       0.000000   \n",
       "3          0.0               0.062500  0.000000   0.000000       0.000000   \n",
       "4          0.0               0.000000  0.013699   0.013699       0.013699   \n",
       "\n",
       "   Yoga Studio       Zoo  Zoo Exhibit  \n",
       "0     0.000000  0.000000     0.000000  \n",
       "1     0.000000  0.000000     0.000000  \n",
       "2     0.000000  0.058824     0.117647  \n",
       "3     0.000000  0.000000     0.000000  \n",
       "4     0.013699  0.000000     0.000000  \n",
       "\n",
       "[5 rows x 178 columns]"
      ]
     },
     "execution_count": 65,
     "metadata": {},
     "output_type": "execute_result"
    }
   ],
   "source": [
    "stpaul_grouped = stpaul_onehot.groupby('Zipcode').mean().reset_index()\n",
    "stpaul_grouped.head()"
   ]
  },
  {
   "cell_type": "markdown",
   "metadata": {},
   "source": [
    "Borrow the function to get the most common venue from previous works:"
   ]
  },
  {
   "cell_type": "code",
   "execution_count": 66,
   "metadata": {},
   "outputs": [],
   "source": [
    "def return_most_common_venues(row, num_top_venues):\n",
    "    row_categories = row.iloc[1:]\n",
    "    row_categories_sorted = row_categories.sort_values(ascending=False)\n",
    "    \n",
    "    return row_categories_sorted.index.values[0:num_top_venues]"
   ]
  },
  {
   "cell_type": "code",
   "execution_count": 67,
   "metadata": {},
   "outputs": [
    {
     "data": {
      "text/html": [
       "<div>\n",
       "<style scoped>\n",
       "    .dataframe tbody tr th:only-of-type {\n",
       "        vertical-align: middle;\n",
       "    }\n",
       "\n",
       "    .dataframe tbody tr th {\n",
       "        vertical-align: top;\n",
       "    }\n",
       "\n",
       "    .dataframe thead th {\n",
       "        text-align: right;\n",
       "    }\n",
       "</style>\n",
       "<table border=\"1\" class=\"dataframe\">\n",
       "  <thead>\n",
       "    <tr style=\"text-align: right;\">\n",
       "      <th></th>\n",
       "      <th>Zipcode</th>\n",
       "      <th>1st Most Common Venue</th>\n",
       "      <th>2nd Most Common Venue</th>\n",
       "      <th>3rd Most Common Venue</th>\n",
       "      <th>4th Most Common Venue</th>\n",
       "      <th>5th Most Common Venue</th>\n",
       "      <th>6th Most Common Venue</th>\n",
       "      <th>7th Most Common Venue</th>\n",
       "      <th>8th Most Common Venue</th>\n",
       "      <th>9th Most Common Venue</th>\n",
       "      <th>10th Most Common Venue</th>\n",
       "    </tr>\n",
       "  </thead>\n",
       "  <tbody>\n",
       "    <tr>\n",
       "      <th>0</th>\n",
       "      <td>55101</td>\n",
       "      <td>Brewery</td>\n",
       "      <td>Dog Walkers</td>\n",
       "      <td>Bar</td>\n",
       "      <td>Pizza Place</td>\n",
       "      <td>Liquor Store</td>\n",
       "      <td>Farmers Market</td>\n",
       "      <td>Sandwich Place</td>\n",
       "      <td>Hotel</td>\n",
       "      <td>New American Restaurant</td>\n",
       "      <td>Asian Restaurant</td>\n",
       "    </tr>\n",
       "    <tr>\n",
       "      <th>1</th>\n",
       "      <td>55102</td>\n",
       "      <td>Bar</td>\n",
       "      <td>Italian Restaurant</td>\n",
       "      <td>American Restaurant</td>\n",
       "      <td>Park</td>\n",
       "      <td>Café</td>\n",
       "      <td>Veterinarians</td>\n",
       "      <td>Mexican Restaurant</td>\n",
       "      <td>Coffee Shop</td>\n",
       "      <td>French Restaurant</td>\n",
       "      <td>Theater</td>\n",
       "    </tr>\n",
       "    <tr>\n",
       "      <th>2</th>\n",
       "      <td>55103</td>\n",
       "      <td>Zoo Exhibit</td>\n",
       "      <td>Garden</td>\n",
       "      <td>Vietnamese Restaurant</td>\n",
       "      <td>Lake</td>\n",
       "      <td>Pet Training</td>\n",
       "      <td>Noodle House</td>\n",
       "      <td>Park</td>\n",
       "      <td>Theme Park</td>\n",
       "      <td>Liquor Store</td>\n",
       "      <td>Farmers Market</td>\n",
       "    </tr>\n",
       "    <tr>\n",
       "      <th>3</th>\n",
       "      <td>55104</td>\n",
       "      <td>Coffee Shop</td>\n",
       "      <td>Vietnamese Restaurant</td>\n",
       "      <td>Pet Sitting</td>\n",
       "      <td>Gym</td>\n",
       "      <td>Breakfast Spot</td>\n",
       "      <td>Korean Restaurant</td>\n",
       "      <td>Pizza Place</td>\n",
       "      <td>Brewery</td>\n",
       "      <td>Burger Joint</td>\n",
       "      <td>Café</td>\n",
       "    </tr>\n",
       "    <tr>\n",
       "      <th>4</th>\n",
       "      <td>55105</td>\n",
       "      <td>Coffee Shop</td>\n",
       "      <td>Bakery</td>\n",
       "      <td>Pizza Place</td>\n",
       "      <td>Liquor Store</td>\n",
       "      <td>Italian Restaurant</td>\n",
       "      <td>Ice Cream Shop</td>\n",
       "      <td>Pet Groomers</td>\n",
       "      <td>Pub</td>\n",
       "      <td>Café</td>\n",
       "      <td>Restaurant</td>\n",
       "    </tr>\n",
       "  </tbody>\n",
       "</table>\n",
       "</div>"
      ],
      "text/plain": [
       "   Zipcode 1st Most Common Venue  2nd Most Common Venue  \\\n",
       "0    55101               Brewery            Dog Walkers   \n",
       "1    55102                   Bar     Italian Restaurant   \n",
       "2    55103           Zoo Exhibit                 Garden   \n",
       "3    55104           Coffee Shop  Vietnamese Restaurant   \n",
       "4    55105           Coffee Shop                 Bakery   \n",
       "\n",
       "   3rd Most Common Venue 4th Most Common Venue 5th Most Common Venue  \\\n",
       "0                    Bar           Pizza Place          Liquor Store   \n",
       "1    American Restaurant                  Park                  Café   \n",
       "2  Vietnamese Restaurant                  Lake          Pet Training   \n",
       "3            Pet Sitting                   Gym        Breakfast Spot   \n",
       "4            Pizza Place          Liquor Store    Italian Restaurant   \n",
       "\n",
       "  6th Most Common Venue 7th Most Common Venue 8th Most Common Venue  \\\n",
       "0        Farmers Market        Sandwich Place                 Hotel   \n",
       "1         Veterinarians    Mexican Restaurant           Coffee Shop   \n",
       "2          Noodle House                  Park            Theme Park   \n",
       "3     Korean Restaurant           Pizza Place               Brewery   \n",
       "4        Ice Cream Shop          Pet Groomers                   Pub   \n",
       "\n",
       "     9th Most Common Venue 10th Most Common Venue  \n",
       "0  New American Restaurant       Asian Restaurant  \n",
       "1        French Restaurant                Theater  \n",
       "2             Liquor Store         Farmers Market  \n",
       "3             Burger Joint                   Café  \n",
       "4                     Café             Restaurant  "
      ]
     },
     "execution_count": 67,
     "metadata": {},
     "output_type": "execute_result"
    }
   ],
   "source": [
    "num_top_venues = 10\n",
    "\n",
    "indicators = ['st', 'nd', 'rd']\n",
    "\n",
    "# create columns according to number of top venues\n",
    "columns = ['Zipcode']\n",
    "for ind in np.arange(num_top_venues):\n",
    "    try:\n",
    "        columns.append('{}{} Most Common Venue'.format(ind+1, indicators[ind]))\n",
    "    except:\n",
    "        columns.append('{}th Most Common Venue'.format(ind+1))\n",
    "\n",
    "# create a new dataframe\n",
    "neighborhoods_venues_sorted = pd.DataFrame(columns=columns)\n",
    "neighborhoods_venues_sorted['Zipcode'] = stpaul_grouped['Zipcode']\n",
    "\n",
    "for ind in np.arange(stpaul_grouped.shape[0]):\n",
    "    neighborhoods_venues_sorted.iloc[ind, 1:] = return_most_common_venues(stpaul_grouped.iloc[ind, :], num_top_venues)\n",
    "\n",
    "neighborhoods_venues_sorted.head()"
   ]
  },
  {
   "cell_type": "markdown",
   "metadata": {},
   "source": [
    "#### Cluster Neighborhoods"
   ]
  },
  {
   "cell_type": "markdown",
   "metadata": {},
   "source": [
    "After combining them, let's start with running multiple K values to find the optimal number of clusters for this particular dataset: "
   ]
  },
  {
   "cell_type": "code",
   "execution_count": 79,
   "metadata": {},
   "outputs": [
    {
     "data": {
      "image/png": "[encoded data removed]",
      "text/plain": [
       "<Figure size 720x360 with 1 Axes>"
      ]
     },
     "metadata": {
      "needs_background": "light"
     },
     "output_type": "display_data"
    }
   ],
   "source": [
    "stpaul_grouped_clustering = stpaul_grouped.drop('Zipcode', 1)\n",
    "\n",
    "\n",
    "K = range(1, 14)\n",
    "kmeans_per_k = [KMeans(n_clusters=k, random_state=42).fit(stpaul_grouped_clustering)\n",
    "                for k in K]\n",
    "Sum_of_squared_distances = [model.inertia_ for model in kmeans_per_k]\n",
    "\n",
    "# plot the K\n",
    "optimal_k= pd.DataFrame(data= Sum_of_squared_distances, columns = ['Sum_of_squared_distances'], index = K)\n",
    "optimal_k.rename_axis('K', axis = 'columns', inplace = True)\n",
    "optimal_k.plot(kind = 'line', figsize = (10, 5), marker = '.')\n",
    "plt.annotate('Elbow',\n",
    "             xy=(5, Sum_of_squared_distances[4]),\n",
    "             xytext=(0.55, 0.55),\n",
    "             textcoords='figure fraction',\n",
    "             arrowprops=dict(facecolor='black', shrink=0.1)\n",
    "            )\n",
    "plt.xlabel('$k$')\n",
    "plt.ylabel('Sum_of_squared_distances')\n",
    "plt.title('Elbow Method For Optimal k')\n",
    "plt.show()"
   ]
  },
  {
   "cell_type": "markdown",
   "metadata": {},
   "source": [
    "Another approach is to use _silhouette score_ (mean of the _silhouette coefficient_ over all the instances). "
   ]
  },
  {
   "cell_type": "code",
   "execution_count": 73,
   "metadata": {},
   "outputs": [],
   "source": [
    "silhouette_scores = [silhouette_score(stpaul_grouped_clustering,\n",
    "                                      model.labels_)\n",
    "                     for model in kmeans_per_k[1:]]"
   ]
  },
  {
   "cell_type": "code",
   "execution_count": 84,
   "metadata": {},
   "outputs": [
    {
     "data": {
      "image/png": "[encoded data removed]",
      "text/plain": [
       "<Figure size 576x216 with 1 Axes>"
      ]
     },
     "metadata": {
      "needs_background": "light"
     },
     "output_type": "display_data"
    }
   ],
   "source": [
    "plt.figure(figsize=(8, 3))\n",
    "plt.plot(range(2, 14), silhouette_scores, \"bo-\")\n",
    "plt.xlabel(\"$k$\", fontsize=14)\n",
    "plt.ylabel(\"Silhouette score\", fontsize=14)\n",
    "plt.axis([1.8, 7.5, 0.03, 0.25])\n",
    "plt.show()"
   ]
  },
  {
   "cell_type": "markdown",
   "metadata": {},
   "source": [
    "The best K value seems to be 5 for our datasets.  \n",
    "\n",
    "Run the k-means into 5 clusters:"
   ]
  },
  {
   "cell_type": "code",
   "execution_count": 85,
   "metadata": {},
   "outputs": [],
   "source": [
    "# set number of clusters\n",
    "kclusters = 5\n",
    "\n",
    "stpaul_grouped_clustering = stpaul_grouped.drop('Zipcode', 1)\n",
    "\n",
    "# run k-means clustering\n",
    "kmeans = KMeans(n_clusters=kclusters, random_state=0).fit(stpaul_grouped_clustering)"
   ]
  },
  {
   "cell_type": "code",
   "execution_count": 87,
   "metadata": {},
   "outputs": [],
   "source": [
    "neighborhoods_venues_sorted['Zipcode']=neighborhoods_venues_sorted['Zipcode'].astype(int)\n",
    "stpaul_merged = zipStPaul\n",
    "stpaul_merged['zipcode']=stpaul_merged['zipcode'].astype(int)"
   ]
  },
  {
   "cell_type": "code",
   "execution_count": 88,
   "metadata": {},
   "outputs": [
    {
     "data": {
      "text/html": [
       "<div>\n",
       "<style scoped>\n",
       "    .dataframe tbody tr th:only-of-type {\n",
       "        vertical-align: middle;\n",
       "    }\n",
       "\n",
       "    .dataframe tbody tr th {\n",
       "        vertical-align: top;\n",
       "    }\n",
       "\n",
       "    .dataframe thead th {\n",
       "        text-align: right;\n",
       "    }\n",
       "</style>\n",
       "<table border=\"1\" class=\"dataframe\">\n",
       "  <thead>\n",
       "    <tr style=\"text-align: right;\">\n",
       "      <th></th>\n",
       "      <th>zipcode</th>\n",
       "      <th>med_income</th>\n",
       "      <th>latitude</th>\n",
       "      <th>longitude</th>\n",
       "      <th>Cluster Labels</th>\n",
       "      <th>1st Most Common Venue</th>\n",
       "      <th>2nd Most Common Venue</th>\n",
       "      <th>3rd Most Common Venue</th>\n",
       "      <th>4th Most Common Venue</th>\n",
       "      <th>5th Most Common Venue</th>\n",
       "      <th>6th Most Common Venue</th>\n",
       "      <th>7th Most Common Venue</th>\n",
       "      <th>8th Most Common Venue</th>\n",
       "      <th>9th Most Common Venue</th>\n",
       "      <th>10th Most Common Venue</th>\n",
       "    </tr>\n",
       "  </thead>\n",
       "  <tbody>\n",
       "    <tr>\n",
       "      <th>0</th>\n",
       "      <td>55101</td>\n",
       "      <td>40300</td>\n",
       "      <td>44.95</td>\n",
       "      <td>-93.09</td>\n",
       "      <td>1</td>\n",
       "      <td>Brewery</td>\n",
       "      <td>Dog Walkers</td>\n",
       "      <td>Bar</td>\n",
       "      <td>Pizza Place</td>\n",
       "      <td>Liquor Store</td>\n",
       "      <td>Farmers Market</td>\n",
       "      <td>Sandwich Place</td>\n",
       "      <td>Hotel</td>\n",
       "      <td>New American Restaurant</td>\n",
       "      <td>Asian Restaurant</td>\n",
       "    </tr>\n",
       "    <tr>\n",
       "      <th>1</th>\n",
       "      <td>55102</td>\n",
       "      <td>46255</td>\n",
       "      <td>44.93</td>\n",
       "      <td>-93.12</td>\n",
       "      <td>1</td>\n",
       "      <td>Bar</td>\n",
       "      <td>Italian Restaurant</td>\n",
       "      <td>American Restaurant</td>\n",
       "      <td>Park</td>\n",
       "      <td>Café</td>\n",
       "      <td>Veterinarians</td>\n",
       "      <td>Mexican Restaurant</td>\n",
       "      <td>Coffee Shop</td>\n",
       "      <td>French Restaurant</td>\n",
       "      <td>Theater</td>\n",
       "    </tr>\n",
       "    <tr>\n",
       "      <th>2</th>\n",
       "      <td>55103</td>\n",
       "      <td>28899</td>\n",
       "      <td>44.97</td>\n",
       "      <td>-93.13</td>\n",
       "      <td>4</td>\n",
       "      <td>Zoo Exhibit</td>\n",
       "      <td>Garden</td>\n",
       "      <td>Vietnamese Restaurant</td>\n",
       "      <td>Lake</td>\n",
       "      <td>Pet Training</td>\n",
       "      <td>Noodle House</td>\n",
       "      <td>Park</td>\n",
       "      <td>Theme Park</td>\n",
       "      <td>Liquor Store</td>\n",
       "      <td>Farmers Market</td>\n",
       "    </tr>\n",
       "    <tr>\n",
       "      <th>3</th>\n",
       "      <td>55104</td>\n",
       "      <td>44629</td>\n",
       "      <td>44.96</td>\n",
       "      <td>-93.17</td>\n",
       "      <td>1</td>\n",
       "      <td>Coffee Shop</td>\n",
       "      <td>Vietnamese Restaurant</td>\n",
       "      <td>Pet Sitting</td>\n",
       "      <td>Gym</td>\n",
       "      <td>Breakfast Spot</td>\n",
       "      <td>Korean Restaurant</td>\n",
       "      <td>Pizza Place</td>\n",
       "      <td>Brewery</td>\n",
       "      <td>Burger Joint</td>\n",
       "      <td>Café</td>\n",
       "    </tr>\n",
       "    <tr>\n",
       "      <th>4</th>\n",
       "      <td>55105</td>\n",
       "      <td>76472</td>\n",
       "      <td>44.93</td>\n",
       "      <td>-93.16</td>\n",
       "      <td>1</td>\n",
       "      <td>Coffee Shop</td>\n",
       "      <td>Bakery</td>\n",
       "      <td>Pizza Place</td>\n",
       "      <td>Liquor Store</td>\n",
       "      <td>Italian Restaurant</td>\n",
       "      <td>Ice Cream Shop</td>\n",
       "      <td>Pet Groomers</td>\n",
       "      <td>Pub</td>\n",
       "      <td>Café</td>\n",
       "      <td>Restaurant</td>\n",
       "    </tr>\n",
       "  </tbody>\n",
       "</table>\n",
       "</div>"
      ],
      "text/plain": [
       "   zipcode med_income  latitude  longitude  Cluster Labels  \\\n",
       "0    55101      40300     44.95     -93.09               1   \n",
       "1    55102      46255     44.93     -93.12               1   \n",
       "2    55103      28899     44.97     -93.13               4   \n",
       "3    55104      44629     44.96     -93.17               1   \n",
       "4    55105      76472     44.93     -93.16               1   \n",
       "\n",
       "  1st Most Common Venue  2nd Most Common Venue  3rd Most Common Venue  \\\n",
       "0               Brewery            Dog Walkers                    Bar   \n",
       "1                   Bar     Italian Restaurant    American Restaurant   \n",
       "2           Zoo Exhibit                 Garden  Vietnamese Restaurant   \n",
       "3           Coffee Shop  Vietnamese Restaurant            Pet Sitting   \n",
       "4           Coffee Shop                 Bakery            Pizza Place   \n",
       "\n",
       "  4th Most Common Venue 5th Most Common Venue 6th Most Common Venue  \\\n",
       "0           Pizza Place          Liquor Store        Farmers Market   \n",
       "1                  Park                  Café         Veterinarians   \n",
       "2                  Lake          Pet Training          Noodle House   \n",
       "3                   Gym        Breakfast Spot     Korean Restaurant   \n",
       "4          Liquor Store    Italian Restaurant        Ice Cream Shop   \n",
       "\n",
       "  7th Most Common Venue 8th Most Common Venue    9th Most Common Venue  \\\n",
       "0        Sandwich Place                 Hotel  New American Restaurant   \n",
       "1    Mexican Restaurant           Coffee Shop        French Restaurant   \n",
       "2                  Park            Theme Park             Liquor Store   \n",
       "3           Pizza Place               Brewery             Burger Joint   \n",
       "4          Pet Groomers                   Pub                     Café   \n",
       "\n",
       "  10th Most Common Venue  \n",
       "0       Asian Restaurant  \n",
       "1                Theater  \n",
       "2         Farmers Market  \n",
       "3                   Café  \n",
       "4             Restaurant  "
      ]
     },
     "execution_count": 88,
     "metadata": {},
     "output_type": "execute_result"
    }
   ],
   "source": [
    "# add clustering labels\n",
    "neighborhoods_venues_sorted.insert(0, 'Cluster Labels', kmeans.labels_)\n",
    "\n",
    "# merge zipStPaul with neighborhoods_venues to add latitude/longitude for each neighborhood\n",
    "stpaul_merged = stpaul_merged.join(neighborhoods_venues_sorted.set_index('Zipcode'), on='zipcode')\n",
    "\n",
    "stpaul_merged.head() "
   ]
  },
  {
   "cell_type": "markdown",
   "metadata": {},
   "source": [
    "Visualizing the clusters:"
   ]
  },
  {
   "cell_type": "code",
   "execution_count": 89,
   "metadata": {},
   "outputs": [
    {
     "data": {
      "text/html": [
       "<div style=\"width:100%;\"><div style=\"position:relative;width:100%;height:0;padding-bottom:60%;\"><iframe src=\"data:text/html;charset=utf-8;base64,PCFET0NUWVBFIGh0bWw+CjxoZWFkPiAgICAKICAgIDxtZXRhIGh0dHAtZXF1aXY9ImNvbnRlbnQtdHlwZSIgY29udGVudD0idGV4dC9odG1sOyBjaGFyc2V0PVVURi04IiAvPgogICAgCiAgICAgICAgPHNjcmlwdD4KICAgICAgICAgICAgTF9OT19UT1VDSCA9IGZhbHNlOwogICAgICAgICAgICBMX0RJU0FCTEVfM0QgPSBmYWxzZTsKICAgICAgICA8L3NjcmlwdD4KICAgIAogICAgPHNjcmlwdCBzcmM9Imh0dHBzOi8vY2RuLmpzZGVsaXZyLm5ldC9ucG0vbGVhZmxldEAxLjUuMS9kaXN0L2xlYWZsZXQuanMiPjwvc2NyaXB0PgogICAgPHNjcmlwdCBzcmM9Imh0dHBzOi8vY29kZS5qcXVlcnkuY29tL2pxdWVyeS0xLjEyLjQubWluLmpzIj48L3NjcmlwdD4KICAgIDxzY3JpcHQgc3JjPSJodHRwczovL21heGNkbi5ib290c3RyYXBjZG4uY29tL2Jvb3RzdHJhcC8zLjIuMC9qcy9ib290c3RyYXAubWluLmpzIj48L3NjcmlwdD4KICAgIDxzY3JpcHQgc3JjPSJodHRwczovL2NkbmpzLmNsb3VkZmxhcmUuY29tL2FqYXgvbGlicy9MZWFmbGV0LmF3ZXNvbWUtbWFya2Vycy8yLjAuMi9sZWFmbGV0LmF3ZXNvbWUtbWFya2Vycy5qcyI+PC9zY3JpcHQ+CiAgICA8bGluayByZWw9InN0eWxlc2hlZXQiIGhyZWY9Imh0dHBzOi8vY2RuLmpzZGVsaXZyLm5ldC9ucG0vbGVhZmxldEAxLjUuMS9kaXN0L2xlYWZsZXQuY3NzIi8+CiAgICA8bGluayByZWw9InN0eWxlc2hlZXQiIGhyZWY9Imh0dHBzOi8vbWF4Y2RuLmJvb3RzdHJhcGNkbi5jb20vYm9vdHN0cmFwLzMuMi4wL2Nzcy9ib290c3RyYXAubWluLmNzcyIvPgogICAgPGxpbmsgcmVsPSJzdHlsZXNoZWV0IiBocmVmPSJodHRwczovL21heGNkbi5ib290c3RyYXBjZG4uY29tL2Jvb3RzdHJhcC8zLjIuMC9jc3MvYm9vdHN0cmFwLXRoZW1lLm1pbi5jc3MiLz4KICAgIDxsaW5rIHJlbD0ic3R5bGVzaGVldCIgaHJlZj0iaHR0cHM6Ly9tYXhjZG4uYm9vdHN0cmFwY2RuLmNvbS9mb250LWF3ZXNvbWUvNC42LjMvY3NzL2ZvbnQtYXdlc29tZS5taW4uY3NzIi8+CiAgICA8bGluayByZWw9InN0eWxlc2hlZXQiIGhyZWY9Imh0dHBzOi8vY2RuanMuY2xvdWRmbGFyZS5jb20vYWpheC9saWJzL0xlYWZsZXQuYXdlc29tZS1tYXJrZXJzLzIuMC4yL2xlYWZsZXQuYXdlc29tZS1tYXJrZXJzLmNzcyIvPgogICAgPGxpbmsgcmVsPSJzdHlsZXNoZWV0IiBocmVmPSJodHRwczovL3Jhd2Nkbi5naXRoYWNrLmNvbS9weXRob24tdmlzdWFsaXphdGlvbi9mb2xpdW0vbWFzdGVyL2ZvbGl1bS90ZW1wbGF0ZXMvbGVhZmxldC5hd2Vzb21lLnJvdGF0ZS5jc3MiLz4KICAgIDxzdHlsZT5odG1sLCBib2R5IHt3aWR0aDogMTAwJTtoZWlnaHQ6IDEwMCU7bWFyZ2luOiAwO3BhZGRpbmc6IDA7fTwvc3R5bGU+CiAgICA8c3R5bGU+I21hcCB7cG9zaXRpb246YWJzb2x1dGU7dG9wOjA7Ym90dG9tOjA7cmlnaHQ6MDtsZWZ0OjA7fTwvc3R5bGU+CiAgICAKICAgICAgICAgICAgPG1ldGEgbmFtZT0idmlld3BvcnQiIGNvbnRlbnQ9IndpZHRoPWRldmljZS13aWR0aCwKICAgICAgICAgICAgICAgIGluaXRpYWwtc2NhbGU9MS4wLCBtYXhpbXVtLXNjYWxlPTEuMCwgdXNlci1zY2FsYWJsZT1ubyIgLz4KICAgICAgICAgICAgPHN0eWxlPgogICAgICAgICAgICAgICAgI21hcF8xNDMyMGNmZjhkZDQ0MTdjOTQ4ZmVlMjFiMWY3ZDc4OSB7CiAgICAgICAgICAgICAgICAgICAgcG9zaXRpb246IHJlbGF0aXZlOwogICAgICAgICAgICAgICAgICAgIHdpZHRoOiAxMDAuMCU7CiAgICAgICAgICAgICAgICAgICAgaGVpZ2h0OiAxMDAuMCU7CiAgICAgICAgICAgICAgICAgICAgbGVmdDogMC4wJTsKICAgICAgICAgICAgICAgICAgICB0b3A6IDAuMCU7CiAgICAgICAgICAgICAgICB9CiAgICAgICAgICAgIDwvc3R5bGU+CiAgICAgICAgCjwvaGVhZD4KPGJvZHk+ICAgIAogICAgCiAgICAgICAgICAgIDxkaXYgY2xhc3M9ImZvbGl1bS1tYXAiIGlkPSJtYXBfMTQzMjBjZmY4ZGQ0NDE3Yzk0OGZlZTIxYjFmN2Q3ODkiID48L2Rpdj4KICAgICAgICAKPC9ib2R5Pgo8c2NyaXB0PiAgICAKICAgIAogICAgICAgICAgICB2YXIgbWFwXzE0MzIwY2ZmOGRkNDQxN2M5NDhmZWUyMWIxZjdkNzg5ID0gTC5tYXAoCiAgICAgICAgICAgICAgICAibWFwXzE0MzIwY2ZmOGRkNDQxN2M5NDhmZWUyMWIxZjdkNzg5IiwKICAgICAgICAgICAgICAgIHsKICAgICAgICAgICAgICAgICAgICBjZW50ZXI6IFs0NC45NTA0MDM3LCAtOTMuMTAxNTAyNl0sCiAgICAgICAgICAgICAgICAgICAgY3JzOiBMLkNSUy5FUFNHMzg1NywKICAgICAgICAgICAgICAgICAgICB6b29tOiAxMSwKICAgICAgICAgICAgICAgICAgICB6b29tQ29udHJvbDogdHJ1ZSwKICAgICAgICAgICAgICAgICAgICBwcmVmZXJDYW52YXM6IGZhbHNlLAogICAgICAgICAgICAgICAgfQogICAgICAgICAgICApOwoKICAgICAgICAgICAgCgogICAgICAgIAogICAgCiAgICAgICAgICAgIHZhciB0aWxlX2xheWVyXzc3Y2UxZTRhMWM5MzQ4NWM5Yjc2NDYxN2U4MWVhNTRmID0gTC50aWxlTGF5ZXIoCiAgICAgICAgICAgICAgICAiaHR0cHM6Ly97c30udGlsZS5vcGVuc3RyZWV0bWFwLm9yZy97en0ve3h9L3t5fS5wbmciLAogICAgICAgICAgICAgICAgeyJhdHRyaWJ1dGlvbiI6ICJEYXRhIGJ5IFx1MDAyNmNvcHk7IFx1MDAzY2EgaHJlZj1cImh0dHA6Ly9vcGVuc3RyZWV0bWFwLm9yZ1wiXHUwMDNlT3BlblN0cmVldE1hcFx1MDAzYy9hXHUwMDNlLCB1bmRlciBcdTAwM2NhIGhyZWY9XCJodHRwOi8vd3d3Lm9wZW5zdHJlZXRtYXAub3JnL2NvcHlyaWdodFwiXHUwMDNlT0RiTFx1MDAzYy9hXHUwMDNlLiIsICJkZXRlY3RSZXRpbmEiOiBmYWxzZSwgIm1heE5hdGl2ZVpvb20iOiAxOCwgIm1heFpvb20iOiAxOCwgIm1pblpvb20iOiAwLCAibm9XcmFwIjogZmFsc2UsICJvcGFjaXR5IjogMSwgInN1YmRvbWFpbnMiOiAiYWJjIiwgInRtcyI6IGZhbHNlfQogICAgICAgICAgICApLmFkZFRvKG1hcF8xNDMyMGNmZjhkZDQ0MTdjOTQ4ZmVlMjFiMWY3ZDc4OSk7CiAgICAgICAgCiAgICAKICAgICAgICAgICAgdmFyIGNpcmNsZV9tYXJrZXJfNzQwM2Q1NzFhMTMwNDMwZDk1MDliOTVhNDZlMjgzOTcgPSBMLmNpcmNsZU1hcmtlcigKICAgICAgICAgICAgICAgIFs0NC45NSwgLTkzLjA5XSwKICAgICAgICAgICAgICAgIHsiYnViYmxpbmdNb3VzZUV2ZW50cyI6IHRydWUsICJjb2xvciI6ICIjODAwMGZmIiwgImRhc2hBcnJheSI6IG51bGwsICJkYXNoT2Zmc2V0IjogbnVsbCwgImZpbGwiOiB0cnVlLCAiZmlsbENvbG9yIjogIiM4MDAwZmYiLCAiZmlsbE9wYWNpdHkiOiAwLjcsICJmaWxsUnVsZSI6ICJldmVub2RkIiwgImxpbmVDYXAiOiAicm91bmQiLCAibGluZUpvaW4iOiAicm91bmQiLCAib3BhY2l0eSI6IDEuMCwgInJhZGl1cyI6IDUsICJzdHJva2UiOiB0cnVlLCAid2VpZ2h0IjogM30KICAgICAgICAgICAgKS5hZGRUbyhtYXBfMTQzMjBjZmY4ZGQ0NDE3Yzk0OGZlZTIxYjFmN2Q3ODkpOwogICAgICAgIAogICAgCiAgICAgICAgdmFyIHBvcHVwX2M4NGJmZjk0NThmNDQ1ZTY4MGIzMWM3ZjBkZTAyODk0ID0gTC5wb3B1cCh7Im1heFdpZHRoIjogIjEwMCUifSk7CgogICAgICAgIAogICAgICAgICAgICB2YXIgaHRtbF81MDcxMzE1ZGM3ZWI0MTE4OGQ4OTJhODVjZTE1MTU1OSA9ICQoYDxkaXYgaWQ9Imh0bWxfNTA3MTMxNWRjN2ViNDExODhkODkyYTg1Y2UxNTE1NTkiIHN0eWxlPSJ3aWR0aDogMTAwLjAlOyBoZWlnaHQ6IDEwMC4wJTsiPjU1MTAxIENsdXN0ZXIgMjwvZGl2PmApWzBdOwogICAgICAgICAgICBwb3B1cF9jODRiZmY5NDU4ZjQ0NWU2ODBiMzFjN2YwZGUwMjg5NC5zZXRDb250ZW50KGh0bWxfNTA3MTMxNWRjN2ViNDExODhkODkyYTg1Y2UxNTE1NTkpOwogICAgICAgIAoKICAgICAgICBjaXJjbGVfbWFya2VyXzc0MDNkNTcxYTEzMDQzMGQ5NTA5Yjk1YTQ2ZTI4Mzk3LmJpbmRQb3B1cChwb3B1cF9jODRiZmY5NDU4ZjQ0NWU2ODBiMzFjN2YwZGUwMjg5NCkKICAgICAgICA7CgogICAgICAgIAogICAgCiAgICAKICAgICAgICAgICAgdmFyIGNpcmNsZV9tYXJrZXJfZWQ4NDE0YTBiYTE3NGU3ZGIzYmY4MjJlMjQxMDI4MWQgPSBMLmNpcmNsZU1hcmtlcigKICAgICAgICAgICAgICAgIFs0NC45MywgLTkzLjEyXSwKICAgICAgICAgICAgICAgIHsiYnViYmxpbmdNb3VzZUV2ZW50cyI6IHRydWUsICJjb2xvciI6ICIjODAwMGZmIiwgImRhc2hBcnJheSI6IG51bGwsICJkYXNoT2Zmc2V0IjogbnVsbCwgImZpbGwiOiB0cnVlLCAiZmlsbENvbG9yIjogIiM4MDAwZmYiLCAiZmlsbE9wYWNpdHkiOiAwLjcsICJmaWxsUnVsZSI6ICJldmVub2RkIiwgImxpbmVDYXAiOiAicm91bmQiLCAibGluZUpvaW4iOiAicm91bmQiLCAib3BhY2l0eSI6IDEuMCwgInJhZGl1cyI6IDUsICJzdHJva2UiOiB0cnVlLCAid2VpZ2h0IjogM30KICAgICAgICAgICAgKS5hZGRUbyhtYXBfMTQzMjBjZmY4ZGQ0NDE3Yzk0OGZlZTIxYjFmN2Q3ODkpOwogICAgICAgIAogICAgCiAgICAgICAgdmFyIHBvcHVwX2Q2Mjc3YmVmZjcyNDRkNGZhYjI4MWNlMjFiNTBjOGM1ID0gTC5wb3B1cCh7Im1heFdpZHRoIjogIjEwMCUifSk7CgogICAgICAgIAogICAgICAgICAgICB2YXIgaHRtbF9kM2I5MzcxMzhjNmE0OTk1OTNlNTVkY2E4Y2NjNzJhOCA9ICQoYDxkaXYgaWQ9Imh0bWxfZDNiOTM3MTM4YzZhNDk5NTkzZTU1ZGNhOGNjYzcyYTgiIHN0eWxlPSJ3aWR0aDogMTAwLjAlOyBoZWlnaHQ6IDEwMC4wJTsiPjU1MTAyIENsdXN0ZXIgMjwvZGl2PmApWzBdOwogICAgICAgICAgICBwb3B1cF9kNjI3N2JlZmY3MjQ0ZDRmYWIyODFjZTIxYjUwYzhjNS5zZXRDb250ZW50KGh0bWxfZDNiOTM3MTM4YzZhNDk5NTkzZTU1ZGNhOGNjYzcyYTgpOwogICAgICAgIAoKICAgICAgICBjaXJjbGVfbWFya2VyX2VkODQxNGEwYmExNzRlN2RiM2JmODIyZTI0MTAyODFkLmJpbmRQb3B1cChwb3B1cF9kNjI3N2JlZmY3MjQ0ZDRmYWIyODFjZTIxYjUwYzhjNSkKICAgICAgICA7CgogICAgICAgIAogICAgCiAgICAKICAgICAgICAgICAgdmFyIGNpcmNsZV9tYXJrZXJfNmMxYzU3MjcyNThiNDJjYTg4ODVmZGJhNWUwZDc5MDUgPSBMLmNpcmNsZU1hcmtlcigKICAgICAgICAgICAgICAgIFs0NC45NywgLTkzLjEzXSwKICAgICAgICAgICAgICAgIHsiYnViYmxpbmdNb3VzZUV2ZW50cyI6IHRydWUsICJjb2xvciI6ICIjZmZiMzYwIiwgImRhc2hBcnJheSI6IG51bGwsICJkYXNoT2Zmc2V0IjogbnVsbCwgImZpbGwiOiB0cnVlLCAiZmlsbENvbG9yIjogIiNmZmIzNjAiLCAiZmlsbE9wYWNpdHkiOiAwLjcsICJmaWxsUnVsZSI6ICJldmVub2RkIiwgImxpbmVDYXAiOiAicm91bmQiLCAibGluZUpvaW4iOiAicm91bmQiLCAib3BhY2l0eSI6IDEuMCwgInJhZGl1cyI6IDUsICJzdHJva2UiOiB0cnVlLCAid2VpZ2h0IjogM30KICAgICAgICAgICAgKS5hZGRUbyhtYXBfMTQzMjBjZmY4ZGQ0NDE3Yzk0OGZlZTIxYjFmN2Q3ODkpOwogICAgICAgIAogICAgCiAgICAgICAgdmFyIHBvcHVwX2ViZmJlZGM4NGYyOTQ0YmI4MzljOTI3MjlhMDQzN2Y3ID0gTC5wb3B1cCh7Im1heFdpZHRoIjogIjEwMCUifSk7CgogICAgICAgIAogICAgICAgICAgICB2YXIgaHRtbF9hNzQxYWM4MGQ4NjQ0Y2Q2OWU3ZjQ4YWFmZWY3OGIwZiA9ICQoYDxkaXYgaWQ9Imh0bWxfYTc0MWFjODBkODY0NGNkNjllN2Y0OGFhZmVmNzhiMGYiIHN0eWxlPSJ3aWR0aDogMTAwLjAlOyBoZWlnaHQ6IDEwMC4wJTsiPjU1MTAzIENsdXN0ZXIgNTwvZGl2PmApWzBdOwogICAgICAgICAgICBwb3B1cF9lYmZiZWRjODRmMjk0NGJiODM5YzkyNzI5YTA0MzdmNy5zZXRDb250ZW50KGh0bWxfYTc0MWFjODBkODY0NGNkNjllN2Y0OGFhZmVmNzhiMGYpOwogICAgICAgIAoKICAgICAgICBjaXJjbGVfbWFya2VyXzZjMWM1NzI3MjU4YjQyY2E4ODg1ZmRiYTVlMGQ3OTA1LmJpbmRQb3B1cChwb3B1cF9lYmZiZWRjODRmMjk0NGJiODM5YzkyNzI5YTA0MzdmNykKICAgICAgICA7CgogICAgICAgIAogICAgCiAgICAKICAgICAgICAgICAgdmFyIGNpcmNsZV9tYXJrZXJfOGE3YWQ2Zjg1YWQ1NDU1ZmFjYmMzZTk4NDJhNDQ3MjkgPSBMLmNpcmNsZU1hcmtlcigKICAgICAgICAgICAgICAgIFs0NC45NiwgLTkzLjE3XSwKICAgICAgICAgICAgICAgIHsiYnViYmxpbmdNb3VzZUV2ZW50cyI6IHRydWUsICJjb2xvciI6ICIjODAwMGZmIiwgImRhc2hBcnJheSI6IG51bGwsICJkYXNoT2Zmc2V0IjogbnVsbCwgImZpbGwiOiB0cnVlLCAiZmlsbENvbG9yIjogIiM4MDAwZmYiLCAiZmlsbE9wYWNpdHkiOiAwLjcsICJmaWxsUnVsZSI6ICJldmVub2RkIiwgImxpbmVDYXAiOiAicm91bmQiLCAibGluZUpvaW4iOiAicm91bmQiLCAib3BhY2l0eSI6IDEuMCwgInJhZGl1cyI6IDUsICJzdHJva2UiOiB0cnVlLCAid2VpZ2h0IjogM30KICAgICAgICAgICAgKS5hZGRUbyhtYXBfMTQzMjBjZmY4ZGQ0NDE3Yzk0OGZlZTIxYjFmN2Q3ODkpOwogICAgICAgIAogICAgCiAgICAgICAgdmFyIHBvcHVwXzNhMTVmZTIwZDA5YzRjZjc5ZWVkYzU0ODkxOTkxYWVjID0gTC5wb3B1cCh7Im1heFdpZHRoIjogIjEwMCUifSk7CgogICAgICAgIAogICAgICAgICAgICB2YXIgaHRtbF9iMDIwNGY0OTI2YzQ0M2IzODA3MDAxZmI3ZWRmMmJiNCA9ICQoYDxkaXYgaWQ9Imh0bWxfYjAyMDRmNDkyNmM0NDNiMzgwNzAwMWZiN2VkZjJiYjQiIHN0eWxlPSJ3aWR0aDogMTAwLjAlOyBoZWlnaHQ6IDEwMC4wJTsiPjU1MTA0IENsdXN0ZXIgMjwvZGl2PmApWzBdOwogICAgICAgICAgICBwb3B1cF8zYTE1ZmUyMGQwOWM0Y2Y3OWVlZGM1NDg5MTk5MWFlYy5zZXRDb250ZW50KGh0bWxfYjAyMDRmNDkyNmM0NDNiMzgwNzAwMWZiN2VkZjJiYjQpOwogICAgICAgIAoKICAgICAgICBjaXJjbGVfbWFya2VyXzhhN2FkNmY4NWFkNTQ1NWZhY2JjM2U5ODQyYTQ0NzI5LmJpbmRQb3B1cChwb3B1cF8zYTE1ZmUyMGQwOWM0Y2Y3OWVlZGM1NDg5MTk5MWFlYykKICAgICAgICA7CgogICAgICAgIAogICAgCiAgICAKICAgICAgICAgICAgdmFyIGNpcmNsZV9tYXJrZXJfOTMwZDcwZDUyNzE5NGI5NDgxZDAwZDNkNzlkOWVjZDMgPSBMLmNpcmNsZU1hcmtlcigKICAgICAgICAgICAgICAgIFs0NC45MywgLTkzLjE2XSwKICAgICAgICAgICAgICAgIHsiYnViYmxpbmdNb3VzZUV2ZW50cyI6IHRydWUsICJjb2xvciI6ICIjODAwMGZmIiwgImRhc2hBcnJheSI6IG51bGwsICJkYXNoT2Zmc2V0IjogbnVsbCwgImZpbGwiOiB0cnVlLCAiZmlsbENvbG9yIjogIiM4MDAwZmYiLCAiZmlsbE9wYWNpdHkiOiAwLjcsICJmaWxsUnVsZSI6ICJldmVub2RkIiwgImxpbmVDYXAiOiAicm91bmQiLCAibGluZUpvaW4iOiAicm91bmQiLCAib3BhY2l0eSI6IDEuMCwgInJhZGl1cyI6IDUsICJzdHJva2UiOiB0cnVlLCAid2VpZ2h0IjogM30KICAgICAgICAgICAgKS5hZGRUbyhtYXBfMTQzMjBjZmY4ZGQ0NDE3Yzk0OGZlZTIxYjFmN2Q3ODkpOwogICAgICAgIAogICAgCiAgICAgICAgdmFyIHBvcHVwX2JjODExMzAzMjk4ZDRlNmM4YjYwMDc3ZmYxMmJhNGNiID0gTC5wb3B1cCh7Im1heFdpZHRoIjogIjEwMCUifSk7CgogICAgICAgIAogICAgICAgICAgICB2YXIgaHRtbF82ZjQ0NmUyZTAzNTQ0NWY2YWU1YjAxNGUxMDhiZTFlNSA9ICQoYDxkaXYgaWQ9Imh0bWxfNmY0NDZlMmUwMzU0NDVmNmFlNWIwMTRlMTA4YmUxZTUiIHN0eWxlPSJ3aWR0aDogMTAwLjAlOyBoZWlnaHQ6IDEwMC4wJTsiPjU1MTA1IENsdXN0ZXIgMjwvZGl2PmApWzBdOwogICAgICAgICAgICBwb3B1cF9iYzgxMTMwMzI5OGQ0ZTZjOGI2MDA3N2ZmMTJiYTRjYi5zZXRDb250ZW50KGh0bWxfNmY0NDZlMmUwMzU0NDVmNmFlNWIwMTRlMTA4YmUxZTUpOwogICAgICAgIAoKICAgICAgICBjaXJjbGVfbWFya2VyXzkzMGQ3MGQ1MjcxOTRiOTQ4MWQwMGQzZDc5ZDllY2QzLmJpbmRQb3B1cChwb3B1cF9iYzgxMTMwMzI5OGQ0ZTZjOGI2MDA3N2ZmMTJiYTRjYikKICAgICAgICA7CgogICAgICAgIAogICAgCiAgICAKICAgICAgICAgICAgdmFyIGNpcmNsZV9tYXJrZXJfMzk1MGJmMjQwNTU2NDM4ZmFjMzdjNWFhMTBiZjY4YjEgPSBMLmNpcmNsZU1hcmtlcigKICAgICAgICAgICAgICAgIFs0NC45NCwgLTkzLjA1XSwKICAgICAgICAgICAgICAgIHsiYnViYmxpbmdNb3VzZUV2ZW50cyI6IHRydWUsICJjb2xvciI6ICIjODAwMGZmIiwgImRhc2hBcnJheSI6IG51bGwsICJkYXNoT2Zmc2V0IjogbnVsbCwgImZpbGwiOiB0cnVlLCAiZmlsbENvbG9yIjogIiM4MDAwZmYiLCAiZmlsbE9wYWNpdHkiOiAwLjcsICJmaWxsUnVsZSI6ICJldmVub2RkIiwgImxpbmVDYXAiOiAicm91bmQiLCAibGluZUpvaW4iOiAicm91bmQiLCAib3BhY2l0eSI6IDEuMCwgInJhZGl1cyI6IDUsICJzdHJva2UiOiB0cnVlLCAid2VpZ2h0IjogM30KICAgICAgICAgICAgKS5hZGRUbyhtYXBfMTQzMjBjZmY4ZGQ0NDE3Yzk0OGZlZTIxYjFmN2Q3ODkpOwogICAgICAgIAogICAgCiAgICAgICAgdmFyIHBvcHVwXzUwNWQwYzY3MzZmYjQwNTg4ZWNmY2JlMjY2OWYxNDk0ID0gTC5wb3B1cCh7Im1heFdpZHRoIjogIjEwMCUifSk7CgogICAgICAgIAogICAgICAgICAgICB2YXIgaHRtbF8xMDFjY2Q0ZTUyMWQ0ZTQ5OWFjYWY4NTJkNDgyODRhOSA9ICQoYDxkaXYgaWQ9Imh0bWxfMTAxY2NkNGU1MjFkNGU0OTlhY2FmODUyZDQ4Mjg0YTkiIHN0eWxlPSJ3aWR0aDogMTAwLjAlOyBoZWlnaHQ6IDEwMC4wJTsiPjU1MTA2IENsdXN0ZXIgMjwvZGl2PmApWzBdOwogICAgICAgICAgICBwb3B1cF81MDVkMGM2NzM2ZmI0MDU4OGVjZmNiZTI2NjlmMTQ5NC5zZXRDb250ZW50KGh0bWxfMTAxY2NkNGU1MjFkNGU0OTlhY2FmODUyZDQ4Mjg0YTkpOwogICAgICAgIAoKICAgICAgICBjaXJjbGVfbWFya2VyXzM5NTBiZjI0MDU1NjQzOGZhYzM3YzVhYTEwYmY2OGIxLmJpbmRQb3B1cChwb3B1cF81MDVkMGM2NzM2ZmI0MDU4OGVjZmNiZTI2NjlmMTQ5NCkKICAgICAgICA7CgogICAgICAgIAogICAgCiAgICAKICAgICAgICAgICAgdmFyIGNpcmNsZV9tYXJrZXJfZDgyNjBiYzc4ZTk4NDQ2ODhjNTdmMWQ3MGI3Y2M3YTMgPSBMLmNpcmNsZU1hcmtlcigKICAgICAgICAgICAgICAgIFs0NC45MywgLTkzLjA5XSwKICAgICAgICAgICAgICAgIHsiYnViYmxpbmdNb3VzZUV2ZW50cyI6IHRydWUsICJjb2xvciI6ICIjODBmZmI0IiwgImRhc2hBcnJheSI6IG51bGwsICJkYXNoT2Zmc2V0IjogbnVsbCwgImZpbGwiOiB0cnVlLCAiZmlsbENvbG9yIjogIiM4MGZmYjQiLCAiZmlsbE9wYWNpdHkiOiAwLjcsICJmaWxsUnVsZSI6ICJldmVub2RkIiwgImxpbmVDYXAiOiAicm91bmQiLCAibGluZUpvaW4iOiAicm91bmQiLCAib3BhY2l0eSI6IDEuMCwgInJhZGl1cyI6IDUsICJzdHJva2UiOiB0cnVlLCAid2VpZ2h0IjogM30KICAgICAgICAgICAgKS5hZGRUbyhtYXBfMTQzMjBjZmY4ZGQ0NDE3Yzk0OGZlZTIxYjFmN2Q3ODkpOwogICAgICAgIAogICAgCiAgICAgICAgdmFyIHBvcHVwX2M3OTc2ZWQwYjk3MTQ5YzA5YjhjOTk5OGY3ZjI3ZWVmID0gTC5wb3B1cCh7Im1heFdpZHRoIjogIjEwMCUifSk7CgogICAgICAgIAogICAgICAgICAgICB2YXIgaHRtbF8yOWU3MDBiYWU5YzQ0NTdmYWU2NzNhYjNmMWY5MGMzYiA9ICQoYDxkaXYgaWQ9Imh0bWxfMjllNzAwYmFlOWM0NDU3ZmFlNjczYWIzZjFmOTBjM2IiIHN0eWxlPSJ3aWR0aDogMTAwLjAlOyBoZWlnaHQ6IDEwMC4wJTsiPjU1MTA3IENsdXN0ZXIgNDwvZGl2PmApWzBdOwogICAgICAgICAgICBwb3B1cF9jNzk3NmVkMGI5NzE0OWMwOWI4Yzk5OThmN2YyN2VlZi5zZXRDb250ZW50KGh0bWxfMjllNzAwYmFlOWM0NDU3ZmFlNjczYWIzZjFmOTBjM2IpOwogICAgICAgIAoKICAgICAgICBjaXJjbGVfbWFya2VyX2Q4MjYwYmM3OGU5ODQ0Njg4YzU3ZjFkNzBiN2NjN2EzLmJpbmRQb3B1cChwb3B1cF9jNzk3NmVkMGI5NzE0OWMwOWI4Yzk5OThmN2YyN2VlZikKICAgICAgICA7CgogICAgICAgIAogICAgCiAgICAKICAgICAgICAgICAgdmFyIGNpcmNsZV9tYXJrZXJfMzQyZDYyOTE3Y2M4NGE5NDhhMWE3ZGI0NzdhZjQxYTQgPSBMLmNpcmNsZU1hcmtlcigKICAgICAgICAgICAgICAgIFs0NC45OCwgLTkzLjE4XSwKICAgICAgICAgICAgICAgIHsiYnViYmxpbmdNb3VzZUV2ZW50cyI6IHRydWUsICJjb2xvciI6ICIjODAwMGZmIiwgImRhc2hBcnJheSI6IG51bGwsICJkYXNoT2Zmc2V0IjogbnVsbCwgImZpbGwiOiB0cnVlLCAiZmlsbENvbG9yIjogIiM4MDAwZmYiLCAiZmlsbE9wYWNpdHkiOiAwLjcsICJmaWxsUnVsZSI6ICJldmVub2RkIiwgImxpbmVDYXAiOiAicm91bmQiLCAibGluZUpvaW4iOiAicm91bmQiLCAib3BhY2l0eSI6IDEuMCwgInJhZGl1cyI6IDUsICJzdHJva2UiOiB0cnVlLCAid2VpZ2h0IjogM30KICAgICAgICAgICAgKS5hZGRUbyhtYXBfMTQzMjBjZmY4ZGQ0NDE3Yzk0OGZlZTIxYjFmN2Q3ODkpOwogICAgICAgIAogICAgCiAgICAgICAgdmFyIHBvcHVwXzBhOTI2YmNmYzNjMzQyOWQ4MjAxMDZmNzQ0NDcyZTVhID0gTC5wb3B1cCh7Im1heFdpZHRoIjogIjEwMCUifSk7CgogICAgICAgIAogICAgICAgICAgICB2YXIgaHRtbF9mNmE1MGYxNDY3NGI0Y2U5YTlkMGY0YjczOGE0NDE3NiA9ICQoYDxkaXYgaWQ9Imh0bWxfZjZhNTBmMTQ2NzRiNGNlOWE5ZDBmNGI3MzhhNDQxNzYiIHN0eWxlPSJ3aWR0aDogMTAwLjAlOyBoZWlnaHQ6IDEwMC4wJTsiPjU1MTA4IENsdXN0ZXIgMjwvZGl2PmApWzBdOwogICAgICAgICAgICBwb3B1cF8wYTkyNmJjZmMzYzM0MjlkODIwMTA2Zjc0NDQ3MmU1YS5zZXRDb250ZW50KGh0bWxfZjZhNTBmMTQ2NzRiNGNlOWE5ZDBmNGI3MzhhNDQxNzYpOwogICAgICAgIAoKICAgICAgICBjaXJjbGVfbWFya2VyXzM0MmQ2MjkxN2NjODRhOTQ4YTFhN2RiNDc3YWY0MWE0LmJpbmRQb3B1cChwb3B1cF8wYTkyNmJjZmMzYzM0MjlkODIwMTA2Zjc0NDQ3MmU1YSkKICAgICAgICA7CgogICAgICAgIAogICAgCiAgICAKICAgICAgICAgICAgdmFyIGNpcmNsZV9tYXJrZXJfNzQzNzBlMWE0Yzk2NGQ0N2I2NzMxYTc1MzlmMDJhMDUgPSBMLmNpcmNsZU1hcmtlcigKICAgICAgICAgICAgICAgIFs0NS4wMSwgLTkzLjE2XSwKICAgICAgICAgICAgICAgIHsiYnViYmxpbmdNb3VzZUV2ZW50cyI6IHRydWUsICJjb2xvciI6ICIjODAwMGZmIiwgImRhc2hBcnJheSI6IG51bGwsICJkYXNoT2Zmc2V0IjogbnVsbCwgImZpbGwiOiB0cnVlLCAiZmlsbENvbG9yIjogIiM4MDAwZmYiLCAiZmlsbE9wYWNpdHkiOiAwLjcsICJmaWxsUnVsZSI6ICJldmVub2RkIiwgImxpbmVDYXAiOiAicm91bmQiLCAibGluZUpvaW4iOiAicm91bmQiLCAib3BhY2l0eSI6IDEuMCwgInJhZGl1cyI6IDUsICJzdHJva2UiOiB0cnVlLCAid2VpZ2h0IjogM30KICAgICAgICAgICAgKS5hZGRUbyhtYXBfMTQzMjBjZmY4ZGQ0NDE3Yzk0OGZlZTIxYjFmN2Q3ODkpOwogICAgICAgIAogICAgCiAgICAgICAgdmFyIHBvcHVwXzZmN2U4MGNkOGM2MDQxZjRhMGNlYTdjYWIwYmYzMWRhID0gTC5wb3B1cCh7Im1heFdpZHRoIjogIjEwMCUifSk7CgogICAgICAgIAogICAgICAgICAgICB2YXIgaHRtbF81ZjUzYjRjMTU0MTk0MmQzOWNlMjFjZjM4ZTZmYzIxMyA9ICQoYDxkaXYgaWQ9Imh0bWxfNWY1M2I0YzE1NDE5NDJkMzljZTIxY2YzOGU2ZmMyMTMiIHN0eWxlPSJ3aWR0aDogMTAwLjAlOyBoZWlnaHQ6IDEwMC4wJTsiPjU1MTEzIENsdXN0ZXIgMjwvZGl2PmApWzBdOwogICAgICAgICAgICBwb3B1cF82ZjdlODBjZDhjNjA0MWY0YTBjZWE3Y2FiMGJmMzFkYS5zZXRDb250ZW50KGh0bWxfNWY1M2I0YzE1NDE5NDJkMzljZTIxY2YzOGU2ZmMyMTMpOwogICAgICAgIAoKICAgICAgICBjaXJjbGVfbWFya2VyXzc0MzcwZTFhNGM5NjRkNDdiNjczMWE3NTM5ZjAyYTA1LmJpbmRQb3B1cChwb3B1cF82ZjdlODBjZDhjNjA0MWY0YTBjZWE3Y2FiMGJmMzFkYSkKICAgICAgICA7CgogICAgICAgIAogICAgCiAgICAKICAgICAgICAgICAgdmFyIGNpcmNsZV9tYXJrZXJfMGI4Yjg1NmE2MmMzNGYzYmEwNmM4NTkxNGZmYjAwZDkgPSBMLmNpcmNsZU1hcmtlcigKICAgICAgICAgICAgICAgIFs0NC45NywgLTkzLjJdLAogICAgICAgICAgICAgICAgeyJidWJibGluZ01vdXNlRXZlbnRzIjogdHJ1ZSwgImNvbG9yIjogIiNmZjAwMDAiLCAiZGFzaEFycmF5IjogbnVsbCwgImRhc2hPZmZzZXQiOiBudWxsLCAiZmlsbCI6IHRydWUsICJmaWxsQ29sb3IiOiAiI2ZmMDAwMCIsICJmaWxsT3BhY2l0eSI6IDAuNywgImZpbGxSdWxlIjogImV2ZW5vZGQiLCAibGluZUNhcCI6ICJyb3VuZCIsICJsaW5lSm9pbiI6ICJyb3VuZCIsICJvcGFjaXR5IjogMS4wLCAicmFkaXVzIjogNSwgInN0cm9rZSI6IHRydWUsICJ3ZWlnaHQiOiAzfQogICAgICAgICAgICApLmFkZFRvKG1hcF8xNDMyMGNmZjhkZDQ0MTdjOTQ4ZmVlMjFiMWY3ZDc4OSk7CiAgICAgICAgCiAgICAKICAgICAgICB2YXIgcG9wdXBfMDVhOWJmNTNmMTg5NGEyNzhiOTdlMzAxY2Y0OWM5NmIgPSBMLnBvcHVwKHsibWF4V2lkdGgiOiAiMTAwJSJ9KTsKCiAgICAgICAgCiAgICAgICAgICAgIHZhciBodG1sX2FjMGE5NzZkZGYzMTQ0ZGQ4YWU1NTZjYTVmMmFkYjgwID0gJChgPGRpdiBpZD0iaHRtbF9hYzBhOTc2ZGRmMzE0NGRkOGFlNTU2Y2E1ZjJhZGI4MCIgc3R5bGU9IndpZHRoOiAxMDAuMCU7IGhlaWdodDogMTAwLjAlOyI+NTUxMTQgQ2x1c3RlciAxPC9kaXY+YClbMF07CiAgICAgICAgICAgIHBvcHVwXzA1YTliZjUzZjE4OTRhMjc4Yjk3ZTMwMWNmNDljOTZiLnNldENvbnRlbnQoaHRtbF9hYzBhOTc2ZGRmMzE0NGRkOGFlNTU2Y2E1ZjJhZGI4MCk7CiAgICAgICAgCgogICAgICAgIGNpcmNsZV9tYXJrZXJfMGI4Yjg1NmE2MmMzNGYzYmEwNmM4NTkxNGZmYjAwZDkuYmluZFBvcHVwKHBvcHVwXzA1YTliZjUzZjE4OTRhMjc4Yjk3ZTMwMWNmNDljOTZiKQogICAgICAgIDsKCiAgICAgICAgCiAgICAKICAgIAogICAgICAgICAgICB2YXIgY2lyY2xlX21hcmtlcl8yYzg3OWViYjFjNDk0YzAyYmUwY2IyNzAyMThhNTA1NSA9IEwuY2lyY2xlTWFya2VyKAogICAgICAgICAgICAgICAgWzQ0LjkxLCAtOTMuMTddLAogICAgICAgICAgICAgICAgeyJidWJibGluZ01vdXNlRXZlbnRzIjogdHJ1ZSwgImNvbG9yIjogIiM4MDAwZmYiLCAiZGFzaEFycmF5IjogbnVsbCwgImRhc2hPZmZzZXQiOiBudWxsLCAiZmlsbCI6IHRydWUsICJmaWxsQ29sb3IiOiAiIzgwMDBmZiIsICJmaWxsT3BhY2l0eSI6IDAuNywgImZpbGxSdWxlIjogImV2ZW5vZGQiLCAibGluZUNhcCI6ICJyb3VuZCIsICJsaW5lSm9pbiI6ICJyb3VuZCIsICJvcGFjaXR5IjogMS4wLCAicmFkaXVzIjogNSwgInN0cm9rZSI6IHRydWUsICJ3ZWlnaHQiOiAzfQogICAgICAgICAgICApLmFkZFRvKG1hcF8xNDMyMGNmZjhkZDQ0MTdjOTQ4ZmVlMjFiMWY3ZDc4OSk7CiAgICAgICAgCiAgICAKICAgICAgICB2YXIgcG9wdXBfZjZjYzYxYzkxZjE1NDNlZTg4MTNhMzQ4Yjk4MTc2ZjEgPSBMLnBvcHVwKHsibWF4V2lkdGgiOiAiMTAwJSJ9KTsKCiAgICAgICAgCiAgICAgICAgICAgIHZhciBodG1sX2E5NmQ0MmEzZWIxZjRiNDhhYWViNjhhOGVjNDUwOTAyID0gJChgPGRpdiBpZD0iaHRtbF9hOTZkNDJhM2ViMWY0YjQ4YWFlYjY4YThlYzQ1MDkwMiIgc3R5bGU9IndpZHRoOiAxMDAuMCU7IGhlaWdodDogMTAwLjAlOyI+NTUxMTYgQ2x1c3RlciAyPC9kaXY+YClbMF07CiAgICAgICAgICAgIHBvcHVwX2Y2Y2M2MWM5MWYxNTQzZWU4ODEzYTM0OGI5ODE3NmYxLnNldENvbnRlbnQoaHRtbF9hOTZkNDJhM2ViMWY0YjQ4YWFlYjY4YThlYzQ1MDkwMik7CiAgICAgICAgCgogICAgICAgIGNpcmNsZV9tYXJrZXJfMmM4NzllYmIxYzQ5NGMwMmJlMGNiMjcwMjE4YTUwNTUuYmluZFBvcHVwKHBvcHVwX2Y2Y2M2MWM5MWYxNTQzZWU4ODEzYTM0OGI5ODE3NmYxKQogICAgICAgIDsKCiAgICAgICAgCiAgICAKICAgIAogICAgICAgICAgICB2YXIgY2lyY2xlX21hcmtlcl84OTcwNDVmNmQ3Zjg0N2M5YTAxZjBhMTE4NTYyN2RhMSA9IEwuY2lyY2xlTWFya2VyKAogICAgICAgICAgICAgICAgWzQ1LjAsIC05My4xXSwKICAgICAgICAgICAgICAgIHsiYnViYmxpbmdNb3VzZUV2ZW50cyI6IHRydWUsICJjb2xvciI6ICIjODAwMGZmIiwgImRhc2hBcnJheSI6IG51bGwsICJkYXNoT2Zmc2V0IjogbnVsbCwgImZpbGwiOiB0cnVlLCAiZmlsbENvbG9yIjogIiM4MDAwZmYiLCAiZmlsbE9wYWNpdHkiOiAwLjcsICJmaWxsUnVsZSI6ICJldmVub2RkIiwgImxpbmVDYXAiOiAicm91bmQiLCAibGluZUpvaW4iOiAicm91bmQiLCAib3BhY2l0eSI6IDEuMCwgInJhZGl1cyI6IDUsICJzdHJva2UiOiB0cnVlLCAid2VpZ2h0IjogM30KICAgICAgICAgICAgKS5hZGRUbyhtYXBfMTQzMjBjZmY4ZGQ0NDE3Yzk0OGZlZTIxYjFmN2Q3ODkpOwogICAgICAgIAogICAgCiAgICAgICAgdmFyIHBvcHVwXzZkNDAxYjdmOWFlMTQ2ZjRhNGVkYjEyYThhMmVhMTNjID0gTC5wb3B1cCh7Im1heFdpZHRoIjogIjEwMCUifSk7CgogICAgICAgIAogICAgICAgICAgICB2YXIgaHRtbF9mNTZjZTM0NjliNjk0ZDE5YjNhY2ZiYjJlN2JhYzhkOCA9ICQoYDxkaXYgaWQ9Imh0bWxfZjU2Y2UzNDY5YjY5NGQxOWIzYWNmYmIyZTdiYWM4ZDgiIHN0eWxlPSJ3aWR0aDogMTAwLjAlOyBoZWlnaHQ6IDEwMC4wJTsiPjU1MTE3IENsdXN0ZXIgMjwvZGl2PmApWzBdOwogICAgICAgICAgICBwb3B1cF82ZDQwMWI3ZjlhZTE0NmY0YTRlZGIxMmE4YTJlYTEzYy5zZXRDb250ZW50KGh0bWxfZjU2Y2UzNDY5YjY5NGQxOWIzYWNmYmIyZTdiYWM4ZDgpOwogICAgICAgIAoKICAgICAgICBjaXJjbGVfbWFya2VyXzg5NzA0NWY2ZDdmODQ3YzlhMDFmMGExMTg1NjI3ZGExLmJpbmRQb3B1cChwb3B1cF82ZDQwMWI3ZjlhZTE0NmY0YTRlZGIxMmE4YTJlYTEzYykKICAgICAgICA7CgogICAgICAgIAogICAgCiAgICAKICAgICAgICAgICAgdmFyIGNpcmNsZV9tYXJrZXJfZjMwYzFlNzU3M2JlNGQwOGI5ZDkyZjhiMTQ5MzU2NjEgPSBMLmNpcmNsZU1hcmtlcigKICAgICAgICAgICAgICAgIFs0NC45NCwgLTkzLjAxXSwKICAgICAgICAgICAgICAgIHsiYnViYmxpbmdNb3VzZUV2ZW50cyI6IHRydWUsICJjb2xvciI6ICIjODAwMGZmIiwgImRhc2hBcnJheSI6IG51bGwsICJkYXNoT2Zmc2V0IjogbnVsbCwgImZpbGwiOiB0cnVlLCAiZmlsbENvbG9yIjogIiM4MDAwZmYiLCAiZmlsbE9wYWNpdHkiOiAwLjcsICJmaWxsUnVsZSI6ICJldmVub2RkIiwgImxpbmVDYXAiOiAicm91bmQiLCAibGluZUpvaW4iOiAicm91bmQiLCAib3BhY2l0eSI6IDEuMCwgInJhZGl1cyI6IDUsICJzdHJva2UiOiB0cnVlLCAid2VpZ2h0IjogM30KICAgICAgICAgICAgKS5hZGRUbyhtYXBfMTQzMjBjZmY4ZGQ0NDE3Yzk0OGZlZTIxYjFmN2Q3ODkpOwogICAgICAgIAogICAgCiAgICAgICAgdmFyIHBvcHVwX2MwNWU0MWQ2MjgzMzQ3YzE5MWQ4MDA1NDY0ZDI3MTAyID0gTC5wb3B1cCh7Im1heFdpZHRoIjogIjEwMCUifSk7CgogICAgICAgIAogICAgICAgICAgICB2YXIgaHRtbF9lZGQ3OWQ4MDI2YmM0NjMzYmExYTdkMmVjNDQxYTdhZCA9ICQoYDxkaXYgaWQ9Imh0bWxfZWRkNzlkODAyNmJjNDYzM2JhMWE3ZDJlYzQ0MWE3YWQiIHN0eWxlPSJ3aWR0aDogMTAwLjAlOyBoZWlnaHQ6IDEwMC4wJTsiPjU1MTE5IENsdXN0ZXIgMjwvZGl2PmApWzBdOwogICAgICAgICAgICBwb3B1cF9jMDVlNDFkNjI4MzM0N2MxOTFkODAwNTQ2NGQyNzEwMi5zZXRDb250ZW50KGh0bWxfZWRkNzlkODAyNmJjNDYzM2JhMWE3ZDJlYzQ0MWE3YWQpOwogICAgICAgIAoKICAgICAgICBjaXJjbGVfbWFya2VyX2YzMGMxZTc1NzNiZTRkMDhiOWQ5MmY4YjE0OTM1NjYxLmJpbmRQb3B1cChwb3B1cF9jMDVlNDFkNjI4MzM0N2MxOTFkODAwNTQ2NGQyNzEwMikKICAgICAgICA7CgogICAgICAgIAogICAgCiAgICAKICAgICAgICAgICAgdmFyIGNpcmNsZV9tYXJrZXJfZWZhZWE5ZDVmNGExNGJmMTk0ZmI0MTMwZjZmMTcyMmEgPSBMLmNpcmNsZU1hcmtlcigKICAgICAgICAgICAgICAgIFs0NC45NywgLTkzLjA5XSwKICAgICAgICAgICAgICAgIHsiYnViYmxpbmdNb3VzZUV2ZW50cyI6IHRydWUsICJjb2xvciI6ICIjMDBiNWViIiwgImRhc2hBcnJheSI6IG51bGwsICJkYXNoT2Zmc2V0IjogbnVsbCwgImZpbGwiOiB0cnVlLCAiZmlsbENvbG9yIjogIiMwMGI1ZWIiLCAiZmlsbE9wYWNpdHkiOiAwLjcsICJmaWxsUnVsZSI6ICJldmVub2RkIiwgImxpbmVDYXAiOiAicm91bmQiLCAibGluZUpvaW4iOiAicm91bmQiLCAib3BhY2l0eSI6IDEuMCwgInJhZGl1cyI6IDUsICJzdHJva2UiOiB0cnVlLCAid2VpZ2h0IjogM30KICAgICAgICAgICAgKS5hZGRUbyhtYXBfMTQzMjBjZmY4ZGQ0NDE3Yzk0OGZlZTIxYjFmN2Q3ODkpOwogICAgICAgIAogICAgCiAgICAgICAgdmFyIHBvcHVwXzgwZDY2YTM3OGY2ZjRlNGI5OWJiMWNjM2RkYWZhNWZlID0gTC5wb3B1cCh7Im1heFdpZHRoIjogIjEwMCUifSk7CgogICAgICAgIAogICAgICAgICAgICB2YXIgaHRtbF82NDI1NWViMjYwYzY0NzcwODViNDZkZDI0YmQxODI0YiA9ICQoYDxkaXYgaWQ9Imh0bWxfNjQyNTVlYjI2MGM2NDc3MDg1YjQ2ZGQyNGJkMTgyNGIiIHN0eWxlPSJ3aWR0aDogMTAwLjAlOyBoZWlnaHQ6IDEwMC4wJTsiPjU1MTMwIENsdXN0ZXIgMzwvZGl2PmApWzBdOwogICAgICAgICAgICBwb3B1cF84MGQ2NmEzNzhmNmY0ZTRiOTliYjFjYzNkZGFmYTVmZS5zZXRDb250ZW50KGh0bWxfNjQyNTVlYjI2MGM2NDc3MDg1YjQ2ZGQyNGJkMTgyNGIpOwogICAgICAgIAoKICAgICAgICBjaXJjbGVfbWFya2VyX2VmYWVhOWQ1ZjRhMTRiZjE5NGZiNDEzMGY2ZjE3MjJhLmJpbmRQb3B1cChwb3B1cF84MGQ2NmEzNzhmNmY0ZTRiOTliYjFjYzNkZGFmYTVmZSkKICAgICAgICA7CgogICAgICAgIAogICAgCjwvc2NyaXB0Pg==\" style=\"position:absolute;width:100%;height:100%;left:0;top:0;border:none !important;\" allowfullscreen webkitallowfullscreen mozallowfullscreen></iframe></div></div>"
      ],
      "text/plain": [
       "<folium.folium.Map at 0x1a20134518>"
      ]
     },
     "execution_count": 89,
     "metadata": {},
     "output_type": "execute_result"
    }
   ],
   "source": [
    "# create map\n",
    "map_clusters = folium.Map(location=[latitude, longitude], zoom_start=11)\n",
    "\n",
    "# set color scheme for the clusters\n",
    "x = np.arange(kclusters)\n",
    "ys = [i + x + (i*x)**2 for i in range(kclusters)]\n",
    "colors_array = cm.rainbow(np.linspace(0, 1, len(ys)))\n",
    "rainbow = [colors.rgb2hex(i) for i in colors_array]\n",
    "\n",
    "# add markers to the map\n",
    "markers_colors = []\n",
    "for lat, lon, poi, cluster in zip(stpaul_merged['latitude'], stpaul_merged['longitude'], stpaul_merged['zipcode'], stpaul_merged['Cluster Labels']):\n",
    "    label = folium.Popup(str(poi) + ' Cluster ' + str(cluster+1), parse_html=True)\n",
    "    folium.CircleMarker(\n",
    "        [lat, lon],\n",
    "        radius=5,\n",
    "        popup=label,\n",
    "        color=rainbow[cluster-1],\n",
    "        fill=True,\n",
    "        fill_color=rainbow[cluster-1],\n",
    "        fill_opacity=0.7).add_to(map_clusters)\n",
    "       \n",
    "map_clusters"
   ]
  },
  {
   "cell_type": "markdown",
   "metadata": {},
   "source": [
    "## Examine Clusters"
   ]
  },
  {
   "cell_type": "markdown",
   "metadata": {},
   "source": [
    "Now, you can examine each cluster and determine the discriminating venue categories that distinguish each cluster. Based on the defining categories, you can then assign a name to each cluster. I will leave this exercise to you."
   ]
  },
  {
   "cell_type": "markdown",
   "metadata": {},
   "source": [
    "#### Cluster 1"
   ]
  },
  {
   "cell_type": "code",
   "execution_count": 90,
   "metadata": {},
   "outputs": [
    {
     "data": {
      "text/html": [
       "<div>\n",
       "<style scoped>\n",
       "    .dataframe tbody tr th:only-of-type {\n",
       "        vertical-align: middle;\n",
       "    }\n",
       "\n",
       "    .dataframe tbody tr th {\n",
       "        vertical-align: top;\n",
       "    }\n",
       "\n",
       "    .dataframe thead th {\n",
       "        text-align: right;\n",
       "    }\n",
       "</style>\n",
       "<table border=\"1\" class=\"dataframe\">\n",
       "  <thead>\n",
       "    <tr style=\"text-align: right;\">\n",
       "      <th></th>\n",
       "      <th>zipcode</th>\n",
       "      <th>med_income</th>\n",
       "      <th>1st Most Common Venue</th>\n",
       "      <th>2nd Most Common Venue</th>\n",
       "      <th>3rd Most Common Venue</th>\n",
       "      <th>4th Most Common Venue</th>\n",
       "      <th>5th Most Common Venue</th>\n",
       "      <th>6th Most Common Venue</th>\n",
       "      <th>7th Most Common Venue</th>\n",
       "      <th>8th Most Common Venue</th>\n",
       "      <th>9th Most Common Venue</th>\n",
       "      <th>10th Most Common Venue</th>\n",
       "    </tr>\n",
       "  </thead>\n",
       "  <tbody>\n",
       "    <tr>\n",
       "      <th>13</th>\n",
       "      <td>55114</td>\n",
       "      <td>38861</td>\n",
       "      <td>Brewery</td>\n",
       "      <td>Coffee Shop</td>\n",
       "      <td>Record Shop</td>\n",
       "      <td>Trail</td>\n",
       "      <td>Breakfast Spot</td>\n",
       "      <td>Middle Eastern Restaurant</td>\n",
       "      <td>Music Store</td>\n",
       "      <td>Organic Grocery</td>\n",
       "      <td>Scenic Lookout</td>\n",
       "      <td>Bakery</td>\n",
       "    </tr>\n",
       "  </tbody>\n",
       "</table>\n",
       "</div>"
      ],
      "text/plain": [
       "    zipcode med_income 1st Most Common Venue 2nd Most Common Venue  \\\n",
       "13    55114      38861               Brewery           Coffee Shop   \n",
       "\n",
       "   3rd Most Common Venue 4th Most Common Venue 5th Most Common Venue  \\\n",
       "13           Record Shop                 Trail        Breakfast Spot   \n",
       "\n",
       "        6th Most Common Venue 7th Most Common Venue 8th Most Common Venue  \\\n",
       "13  Middle Eastern Restaurant           Music Store       Organic Grocery   \n",
       "\n",
       "   9th Most Common Venue 10th Most Common Venue  \n",
       "13        Scenic Lookout                 Bakery  "
      ]
     },
     "execution_count": 90,
     "metadata": {},
     "output_type": "execute_result"
    }
   ],
   "source": [
    "stpaul_merged.loc[stpaul_merged['Cluster Labels'] == 0, stpaul_merged.columns[\n",
    "    [0,1] + list(range(5, stpaul_merged.shape[1]))]]"
   ]
  },
  {
   "cell_type": "markdown",
   "metadata": {},
   "source": [
    "``Cluster 1`` is located in 55114 zipcode, which can be categorized as the [St. Anthony](https://www.unitedstateszipcodes.org/55114) neighborhood. It does not seem to be a good place to open a new pet store, with low median income value without any sign of other pet related categories in the 10 most common venues. "
   ]
  },
  {
   "cell_type": "markdown",
   "metadata": {},
   "source": [
    "#### Cluster 2"
   ]
  },
  {
   "cell_type": "code",
   "execution_count": 91,
   "metadata": {},
   "outputs": [
    {
     "data": {
      "text/html": [
       "<div>\n",
       "<style scoped>\n",
       "    .dataframe tbody tr th:only-of-type {\n",
       "        vertical-align: middle;\n",
       "    }\n",
       "\n",
       "    .dataframe tbody tr th {\n",
       "        vertical-align: top;\n",
       "    }\n",
       "\n",
       "    .dataframe thead th {\n",
       "        text-align: right;\n",
       "    }\n",
       "</style>\n",
       "<table border=\"1\" class=\"dataframe\">\n",
       "  <thead>\n",
       "    <tr style=\"text-align: right;\">\n",
       "      <th></th>\n",
       "      <th>zipcode</th>\n",
       "      <th>med_income</th>\n",
       "      <th>1st Most Common Venue</th>\n",
       "      <th>2nd Most Common Venue</th>\n",
       "      <th>3rd Most Common Venue</th>\n",
       "      <th>4th Most Common Venue</th>\n",
       "      <th>5th Most Common Venue</th>\n",
       "      <th>6th Most Common Venue</th>\n",
       "      <th>7th Most Common Venue</th>\n",
       "      <th>8th Most Common Venue</th>\n",
       "      <th>9th Most Common Venue</th>\n",
       "      <th>10th Most Common Venue</th>\n",
       "    </tr>\n",
       "  </thead>\n",
       "  <tbody>\n",
       "    <tr>\n",
       "      <th>0</th>\n",
       "      <td>55101</td>\n",
       "      <td>40300</td>\n",
       "      <td>Brewery</td>\n",
       "      <td>Dog Walkers</td>\n",
       "      <td>Bar</td>\n",
       "      <td>Pizza Place</td>\n",
       "      <td>Liquor Store</td>\n",
       "      <td>Farmers Market</td>\n",
       "      <td>Sandwich Place</td>\n",
       "      <td>Hotel</td>\n",
       "      <td>New American Restaurant</td>\n",
       "      <td>Asian Restaurant</td>\n",
       "    </tr>\n",
       "    <tr>\n",
       "      <th>1</th>\n",
       "      <td>55102</td>\n",
       "      <td>46255</td>\n",
       "      <td>Bar</td>\n",
       "      <td>Italian Restaurant</td>\n",
       "      <td>American Restaurant</td>\n",
       "      <td>Park</td>\n",
       "      <td>Café</td>\n",
       "      <td>Veterinarians</td>\n",
       "      <td>Mexican Restaurant</td>\n",
       "      <td>Coffee Shop</td>\n",
       "      <td>French Restaurant</td>\n",
       "      <td>Theater</td>\n",
       "    </tr>\n",
       "    <tr>\n",
       "      <th>3</th>\n",
       "      <td>55104</td>\n",
       "      <td>44629</td>\n",
       "      <td>Coffee Shop</td>\n",
       "      <td>Vietnamese Restaurant</td>\n",
       "      <td>Pet Sitting</td>\n",
       "      <td>Gym</td>\n",
       "      <td>Breakfast Spot</td>\n",
       "      <td>Korean Restaurant</td>\n",
       "      <td>Pizza Place</td>\n",
       "      <td>Brewery</td>\n",
       "      <td>Burger Joint</td>\n",
       "      <td>Café</td>\n",
       "    </tr>\n",
       "    <tr>\n",
       "      <th>4</th>\n",
       "      <td>55105</td>\n",
       "      <td>76472</td>\n",
       "      <td>Coffee Shop</td>\n",
       "      <td>Bakery</td>\n",
       "      <td>Pizza Place</td>\n",
       "      <td>Liquor Store</td>\n",
       "      <td>Italian Restaurant</td>\n",
       "      <td>Ice Cream Shop</td>\n",
       "      <td>Pet Groomers</td>\n",
       "      <td>Pub</td>\n",
       "      <td>Café</td>\n",
       "      <td>Restaurant</td>\n",
       "    </tr>\n",
       "    <tr>\n",
       "      <th>5</th>\n",
       "      <td>55106</td>\n",
       "      <td>42686</td>\n",
       "      <td>Mexican Restaurant</td>\n",
       "      <td>Park</td>\n",
       "      <td>Bar</td>\n",
       "      <td>Veterinarians</td>\n",
       "      <td>Chinese Restaurant</td>\n",
       "      <td>Pizza Place</td>\n",
       "      <td>Pet Groomers</td>\n",
       "      <td>Coffee Shop</td>\n",
       "      <td>Organic Grocery</td>\n",
       "      <td>Pet Sitting</td>\n",
       "    </tr>\n",
       "    <tr>\n",
       "      <th>7</th>\n",
       "      <td>55108</td>\n",
       "      <td>56994</td>\n",
       "      <td>American Restaurant</td>\n",
       "      <td>Snack Place</td>\n",
       "      <td>Sandwich Place</td>\n",
       "      <td>Italian Restaurant</td>\n",
       "      <td>Veterinarians</td>\n",
       "      <td>Coffee Shop</td>\n",
       "      <td>Park</td>\n",
       "      <td>Café</td>\n",
       "      <td>Campground</td>\n",
       "      <td>Scandinavian Restaurant</td>\n",
       "    </tr>\n",
       "    <tr>\n",
       "      <th>12</th>\n",
       "      <td>55113</td>\n",
       "      <td>61113</td>\n",
       "      <td>Veterinarians</td>\n",
       "      <td>Pizza Place</td>\n",
       "      <td>American Restaurant</td>\n",
       "      <td>Chinese Restaurant</td>\n",
       "      <td>Pet Stores</td>\n",
       "      <td>Sandwich Place</td>\n",
       "      <td>Park</td>\n",
       "      <td>Coffee Shop</td>\n",
       "      <td>Italian Restaurant</td>\n",
       "      <td>Bakery</td>\n",
       "    </tr>\n",
       "    <tr>\n",
       "      <th>15</th>\n",
       "      <td>55116</td>\n",
       "      <td>61142</td>\n",
       "      <td>Park</td>\n",
       "      <td>American Restaurant</td>\n",
       "      <td>Scenic Lookout</td>\n",
       "      <td>Veterinarians</td>\n",
       "      <td>Liquor Store</td>\n",
       "      <td>Mexican Restaurant</td>\n",
       "      <td>Trail</td>\n",
       "      <td>Coffee Shop</td>\n",
       "      <td>Italian Restaurant</td>\n",
       "      <td>Pet Store</td>\n",
       "    </tr>\n",
       "    <tr>\n",
       "      <th>16</th>\n",
       "      <td>55117</td>\n",
       "      <td>44040</td>\n",
       "      <td>Veterinarians</td>\n",
       "      <td>Sandwich Place</td>\n",
       "      <td>Fast Food Restaurant</td>\n",
       "      <td>Bar</td>\n",
       "      <td>Chinese Restaurant</td>\n",
       "      <td>American Restaurant</td>\n",
       "      <td>Grocery Store</td>\n",
       "      <td>Video Store</td>\n",
       "      <td>Gym / Fitness Center</td>\n",
       "      <td>Furniture / Home Store</td>\n",
       "    </tr>\n",
       "    <tr>\n",
       "      <th>18</th>\n",
       "      <td>55119</td>\n",
       "      <td>56275</td>\n",
       "      <td>Fast Food Restaurant</td>\n",
       "      <td>Video Store</td>\n",
       "      <td>Pizza Place</td>\n",
       "      <td>Hotel</td>\n",
       "      <td>Chinese Restaurant</td>\n",
       "      <td>Veterinarians</td>\n",
       "      <td>Coffee Shop</td>\n",
       "      <td>ATM</td>\n",
       "      <td>Department Store</td>\n",
       "      <td>Shoe Store</td>\n",
       "    </tr>\n",
       "  </tbody>\n",
       "</table>\n",
       "</div>"
      ],
      "text/plain": [
       "    zipcode med_income 1st Most Common Venue  2nd Most Common Venue  \\\n",
       "0     55101      40300               Brewery            Dog Walkers   \n",
       "1     55102      46255                   Bar     Italian Restaurant   \n",
       "3     55104      44629           Coffee Shop  Vietnamese Restaurant   \n",
       "4     55105      76472           Coffee Shop                 Bakery   \n",
       "5     55106      42686    Mexican Restaurant                   Park   \n",
       "7     55108      56994   American Restaurant            Snack Place   \n",
       "12    55113      61113         Veterinarians            Pizza Place   \n",
       "15    55116      61142                  Park    American Restaurant   \n",
       "16    55117      44040         Veterinarians         Sandwich Place   \n",
       "18    55119      56275  Fast Food Restaurant            Video Store   \n",
       "\n",
       "   3rd Most Common Venue 4th Most Common Venue 5th Most Common Venue  \\\n",
       "0                    Bar           Pizza Place          Liquor Store   \n",
       "1    American Restaurant                  Park                  Café   \n",
       "3            Pet Sitting                   Gym        Breakfast Spot   \n",
       "4            Pizza Place          Liquor Store    Italian Restaurant   \n",
       "5                    Bar         Veterinarians    Chinese Restaurant   \n",
       "7         Sandwich Place    Italian Restaurant         Veterinarians   \n",
       "12   American Restaurant    Chinese Restaurant            Pet Stores   \n",
       "15        Scenic Lookout         Veterinarians          Liquor Store   \n",
       "16  Fast Food Restaurant                   Bar    Chinese Restaurant   \n",
       "18           Pizza Place                 Hotel    Chinese Restaurant   \n",
       "\n",
       "   6th Most Common Venue 7th Most Common Venue 8th Most Common Venue  \\\n",
       "0         Farmers Market        Sandwich Place                 Hotel   \n",
       "1          Veterinarians    Mexican Restaurant           Coffee Shop   \n",
       "3      Korean Restaurant           Pizza Place               Brewery   \n",
       "4         Ice Cream Shop          Pet Groomers                   Pub   \n",
       "5            Pizza Place          Pet Groomers           Coffee Shop   \n",
       "7            Coffee Shop                  Park                  Café   \n",
       "12        Sandwich Place                  Park           Coffee Shop   \n",
       "15    Mexican Restaurant                 Trail           Coffee Shop   \n",
       "16   American Restaurant         Grocery Store           Video Store   \n",
       "18         Veterinarians           Coffee Shop                   ATM   \n",
       "\n",
       "      9th Most Common Venue   10th Most Common Venue  \n",
       "0   New American Restaurant         Asian Restaurant  \n",
       "1         French Restaurant                  Theater  \n",
       "3              Burger Joint                     Café  \n",
       "4                      Café               Restaurant  \n",
       "5           Organic Grocery              Pet Sitting  \n",
       "7                Campground  Scandinavian Restaurant  \n",
       "12       Italian Restaurant                   Bakery  \n",
       "15       Italian Restaurant                Pet Store  \n",
       "16     Gym / Fitness Center   Furniture / Home Store  \n",
       "18         Department Store               Shoe Store  "
      ]
     },
     "execution_count": 91,
     "metadata": {},
     "output_type": "execute_result"
    }
   ],
   "source": [
    "stpaul_merged.loc[stpaul_merged['Cluster Labels'] == 1, stpaul_merged.columns[\n",
    "    [0,1] + list(range(5, stpaul_merged.shape[1]))]]"
   ]
  },
  {
   "cell_type": "markdown",
   "metadata": {},
   "source": [
    "`Cluster 2` has Dog Walkers, Veterinarians, Pet Sitting, Pet Groomers, and Pet Stores as part of their top 10 most common categories. \n",
    "\n",
    "From the list, I can recommend opening up a new pet store from **55105** zip code, which is located in the [Macalester-Groveland neighborhood](https://www.unitedstateszipcodes.org/55105/). It has a high median income and there is no mention of pet store in the top 10 most common venues in the area. \n",
    "\n",
    "The second place that I would recommend is the **55108** zip code, which is located near the [Falcon Heights area](https://www.unitedstateszipcodes.org/55108/). It has a slightly lower median income, but there are already veterinarians as the top 10 most common venues in this neighborhood.\n",
    "\n",
    "The third place that I would recommend is the **55119** zip code, which is located in the [Battle Creek neighborhood](https://www.unitedstateszipcodes.org/55119/). It has a similar feature as the **55108** location."
   ]
  },
  {
   "cell_type": "markdown",
   "metadata": {},
   "source": [
    "#### Cluster 3"
   ]
  },
  {
   "cell_type": "code",
   "execution_count": 92,
   "metadata": {},
   "outputs": [
    {
     "data": {
      "text/html": [
       "<div>\n",
       "<style scoped>\n",
       "    .dataframe tbody tr th:only-of-type {\n",
       "        vertical-align: middle;\n",
       "    }\n",
       "\n",
       "    .dataframe tbody tr th {\n",
       "        vertical-align: top;\n",
       "    }\n",
       "\n",
       "    .dataframe thead th {\n",
       "        text-align: right;\n",
       "    }\n",
       "</style>\n",
       "<table border=\"1\" class=\"dataframe\">\n",
       "  <thead>\n",
       "    <tr style=\"text-align: right;\">\n",
       "      <th></th>\n",
       "      <th>zipcode</th>\n",
       "      <th>med_income</th>\n",
       "      <th>1st Most Common Venue</th>\n",
       "      <th>2nd Most Common Venue</th>\n",
       "      <th>3rd Most Common Venue</th>\n",
       "      <th>4th Most Common Venue</th>\n",
       "      <th>5th Most Common Venue</th>\n",
       "      <th>6th Most Common Venue</th>\n",
       "      <th>7th Most Common Venue</th>\n",
       "      <th>8th Most Common Venue</th>\n",
       "      <th>9th Most Common Venue</th>\n",
       "      <th>10th Most Common Venue</th>\n",
       "    </tr>\n",
       "  </thead>\n",
       "  <tbody>\n",
       "    <tr>\n",
       "      <th>29</th>\n",
       "      <td>55130</td>\n",
       "      <td>30092</td>\n",
       "      <td>American Restaurant</td>\n",
       "      <td>Liquor Store</td>\n",
       "      <td>Italian Restaurant</td>\n",
       "      <td>Pet Training</td>\n",
       "      <td>History Museum</td>\n",
       "      <td>Gastropub</td>\n",
       "      <td>Park</td>\n",
       "      <td>Pet Sitting</td>\n",
       "      <td>Dog Run</td>\n",
       "      <td>Restaurant</td>\n",
       "    </tr>\n",
       "  </tbody>\n",
       "</table>\n",
       "</div>"
      ],
      "text/plain": [
       "    zipcode med_income 1st Most Common Venue 2nd Most Common Venue  \\\n",
       "29    55130      30092   American Restaurant          Liquor Store   \n",
       "\n",
       "   3rd Most Common Venue 4th Most Common Venue 5th Most Common Venue  \\\n",
       "29    Italian Restaurant          Pet Training        History Museum   \n",
       "\n",
       "   6th Most Common Venue 7th Most Common Venue 8th Most Common Venue  \\\n",
       "29             Gastropub                  Park           Pet Sitting   \n",
       "\n",
       "   9th Most Common Venue 10th Most Common Venue  \n",
       "29               Dog Run             Restaurant  "
      ]
     },
     "execution_count": 92,
     "metadata": {},
     "output_type": "execute_result"
    }
   ],
   "source": [
    "stpaul_merged.loc[stpaul_merged['Cluster Labels'] == 2, stpaul_merged.columns[\n",
    "    [0,1] + list(range(5, stpaul_merged.shape[1]))]]"
   ]
  },
  {
   "cell_type": "markdown",
   "metadata": {},
   "source": [
    "``Cluster 3`` is located in 55130 zipcode, which can be categorized as the [Payne-Phalen](https://www.unitedstateszipcodes.org/55107) neighborhood. It does not seem to be a good place to open a new pet store, with low median income value and having Pet Training, Pet Sitting, and Dog Run already in the top 10 most common venue. They signal a saturated neighborhood to open a Pet Store."
   ]
  },
  {
   "cell_type": "markdown",
   "metadata": {},
   "source": [
    "#### Cluster 4"
   ]
  },
  {
   "cell_type": "code",
   "execution_count": 93,
   "metadata": {},
   "outputs": [
    {
     "data": {
      "text/html": [
       "<div>\n",
       "<style scoped>\n",
       "    .dataframe tbody tr th:only-of-type {\n",
       "        vertical-align: middle;\n",
       "    }\n",
       "\n",
       "    .dataframe tbody tr th {\n",
       "        vertical-align: top;\n",
       "    }\n",
       "\n",
       "    .dataframe thead th {\n",
       "        text-align: right;\n",
       "    }\n",
       "</style>\n",
       "<table border=\"1\" class=\"dataframe\">\n",
       "  <thead>\n",
       "    <tr style=\"text-align: right;\">\n",
       "      <th></th>\n",
       "      <th>zipcode</th>\n",
       "      <th>med_income</th>\n",
       "      <th>1st Most Common Venue</th>\n",
       "      <th>2nd Most Common Venue</th>\n",
       "      <th>3rd Most Common Venue</th>\n",
       "      <th>4th Most Common Venue</th>\n",
       "      <th>5th Most Common Venue</th>\n",
       "      <th>6th Most Common Venue</th>\n",
       "      <th>7th Most Common Venue</th>\n",
       "      <th>8th Most Common Venue</th>\n",
       "      <th>9th Most Common Venue</th>\n",
       "      <th>10th Most Common Venue</th>\n",
       "    </tr>\n",
       "  </thead>\n",
       "  <tbody>\n",
       "    <tr>\n",
       "      <th>6</th>\n",
       "      <td>55107</td>\n",
       "      <td>44913</td>\n",
       "      <td>Mexican Restaurant</td>\n",
       "      <td>Pet Groomers</td>\n",
       "      <td>Automotive Shop</td>\n",
       "      <td>Burrito Place</td>\n",
       "      <td>Taco Place</td>\n",
       "      <td>Park</td>\n",
       "      <td>Scenic Lookout</td>\n",
       "      <td>Brewery</td>\n",
       "      <td>Pet Training</td>\n",
       "      <td>Harbor / Marina</td>\n",
       "    </tr>\n",
       "  </tbody>\n",
       "</table>\n",
       "</div>"
      ],
      "text/plain": [
       "   zipcode med_income 1st Most Common Venue 2nd Most Common Venue  \\\n",
       "6    55107      44913    Mexican Restaurant          Pet Groomers   \n",
       "\n",
       "  3rd Most Common Venue 4th Most Common Venue 5th Most Common Venue  \\\n",
       "6       Automotive Shop         Burrito Place            Taco Place   \n",
       "\n",
       "  6th Most Common Venue 7th Most Common Venue 8th Most Common Venue  \\\n",
       "6                  Park        Scenic Lookout               Brewery   \n",
       "\n",
       "  9th Most Common Venue 10th Most Common Venue  \n",
       "6          Pet Training        Harbor / Marina  "
      ]
     },
     "execution_count": 93,
     "metadata": {},
     "output_type": "execute_result"
    }
   ],
   "source": [
    "stpaul_merged.loc[stpaul_merged['Cluster Labels'] == 3, stpaul_merged.columns[\n",
    "    [0,1] + list(range(5, stpaul_merged.shape[1]))]]"
   ]
  },
  {
   "cell_type": "markdown",
   "metadata": {},
   "source": [
    "``Cluster 4`` is located in 55107 zipcode, which can be categorized as the [West End](https://www.unitedstateszipcodes.org/55107) neighborhood. It does not seem to be a good place to open a new pet store, with having both Pet Training and Pet Groomers already in the top 10 most common venue. Pet Groomers usually sell similar items that are the same as Pet Stores on top of their grooming business."
   ]
  },
  {
   "cell_type": "markdown",
   "metadata": {},
   "source": [
    "#### Cluster 5"
   ]
  },
  {
   "cell_type": "code",
   "execution_count": 94,
   "metadata": {},
   "outputs": [
    {
     "data": {
      "text/html": [
       "<div>\n",
       "<style scoped>\n",
       "    .dataframe tbody tr th:only-of-type {\n",
       "        vertical-align: middle;\n",
       "    }\n",
       "\n",
       "    .dataframe tbody tr th {\n",
       "        vertical-align: top;\n",
       "    }\n",
       "\n",
       "    .dataframe thead th {\n",
       "        text-align: right;\n",
       "    }\n",
       "</style>\n",
       "<table border=\"1\" class=\"dataframe\">\n",
       "  <thead>\n",
       "    <tr style=\"text-align: right;\">\n",
       "      <th></th>\n",
       "      <th>zipcode</th>\n",
       "      <th>med_income</th>\n",
       "      <th>1st Most Common Venue</th>\n",
       "      <th>2nd Most Common Venue</th>\n",
       "      <th>3rd Most Common Venue</th>\n",
       "      <th>4th Most Common Venue</th>\n",
       "      <th>5th Most Common Venue</th>\n",
       "      <th>6th Most Common Venue</th>\n",
       "      <th>7th Most Common Venue</th>\n",
       "      <th>8th Most Common Venue</th>\n",
       "      <th>9th Most Common Venue</th>\n",
       "      <th>10th Most Common Venue</th>\n",
       "    </tr>\n",
       "  </thead>\n",
       "  <tbody>\n",
       "    <tr>\n",
       "      <th>2</th>\n",
       "      <td>55103</td>\n",
       "      <td>28899</td>\n",
       "      <td>Zoo Exhibit</td>\n",
       "      <td>Garden</td>\n",
       "      <td>Vietnamese Restaurant</td>\n",
       "      <td>Lake</td>\n",
       "      <td>Pet Training</td>\n",
       "      <td>Noodle House</td>\n",
       "      <td>Park</td>\n",
       "      <td>Theme Park</td>\n",
       "      <td>Liquor Store</td>\n",
       "      <td>Farmers Market</td>\n",
       "    </tr>\n",
       "  </tbody>\n",
       "</table>\n",
       "</div>"
      ],
      "text/plain": [
       "   zipcode med_income 1st Most Common Venue 2nd Most Common Venue  \\\n",
       "2    55103      28899           Zoo Exhibit                Garden   \n",
       "\n",
       "   3rd Most Common Venue 4th Most Common Venue 5th Most Common Venue  \\\n",
       "2  Vietnamese Restaurant                  Lake          Pet Training   \n",
       "\n",
       "  6th Most Common Venue 7th Most Common Venue 8th Most Common Venue  \\\n",
       "2          Noodle House                  Park            Theme Park   \n",
       "\n",
       "  9th Most Common Venue 10th Most Common Venue  \n",
       "2          Liquor Store         Farmers Market  "
      ]
     },
     "execution_count": 94,
     "metadata": {},
     "output_type": "execute_result"
    }
   ],
   "source": [
    "stpaul_merged.loc[stpaul_merged['Cluster Labels'] == 4, stpaul_merged.columns[\n",
    "    [0,1] + list(range(5, stpaul_merged.shape[1]))]]"
   ]
  },
  {
   "cell_type": "markdown",
   "metadata": {},
   "source": [
    "``Cluster 5`` is located in 55103 zipcode, which can be categorized as the [North End](https://www.unitedstateszipcodes.org/55103) neighborhood. It does not seem to be a good place to open a new pet store, with low median income."
   ]
  },
  {
   "cell_type": "markdown",
   "metadata": {},
   "source": [
    "### Dig deeper into the Three Clusters"
   ]
  },
  {
   "cell_type": "markdown",
   "metadata": {},
   "source": [
    "I picked: 55105, 55108, and 55119 as the three best zip codes to open a new pet store. Let's look at the data on what is available in the area. \n",
    "\n",
    "- 55105: [Macalester-Groveland neighborhood](https://www.unitedstateszipcodes.org/55105/)"
   ]
  },
  {
   "cell_type": "code",
   "execution_count": 96,
   "metadata": {
    "scrolled": true
   },
   "outputs": [
    {
     "data": {
      "text/html": [
       "<div>\n",
       "<style scoped>\n",
       "    .dataframe tbody tr th:only-of-type {\n",
       "        vertical-align: middle;\n",
       "    }\n",
       "\n",
       "    .dataframe tbody tr th {\n",
       "        vertical-align: top;\n",
       "    }\n",
       "\n",
       "    .dataframe thead th {\n",
       "        text-align: right;\n",
       "    }\n",
       "</style>\n",
       "<table border=\"1\" class=\"dataframe\">\n",
       "  <thead>\n",
       "    <tr style=\"text-align: right;\">\n",
       "      <th></th>\n",
       "      <th>Venue</th>\n",
       "      <th>Venue Zipcode</th>\n",
       "      <th>Venue Latitude</th>\n",
       "      <th>Venue Longitude</th>\n",
       "      <th>Venue Category</th>\n",
       "    </tr>\n",
       "  </thead>\n",
       "  <tbody>\n",
       "    <tr>\n",
       "      <th>252</th>\n",
       "      <td>Dog Days Daycare &amp; Boarding - Grand Ave</td>\n",
       "      <td>55105</td>\n",
       "      <td>44.939774</td>\n",
       "      <td>-93.174835</td>\n",
       "      <td>Pet Training</td>\n",
       "    </tr>\n",
       "    <tr>\n",
       "      <th>253</th>\n",
       "      <td>Animal Medical Clinic</td>\n",
       "      <td>55105</td>\n",
       "      <td>44.934563</td>\n",
       "      <td>-93.166825</td>\n",
       "      <td>Veterinarians</td>\n",
       "    </tr>\n",
       "    <tr>\n",
       "      <th>254</th>\n",
       "      <td>Grand Avenue Veterinary Center</td>\n",
       "      <td>55105</td>\n",
       "      <td>44.939693</td>\n",
       "      <td>-93.148247</td>\n",
       "      <td>Veterinarians</td>\n",
       "    </tr>\n",
       "    <tr>\n",
       "      <th>255</th>\n",
       "      <td>Grand Groomers</td>\n",
       "      <td>55105</td>\n",
       "      <td>44.939659</td>\n",
       "      <td>-93.140472</td>\n",
       "      <td>Pet Groomers</td>\n",
       "    </tr>\n",
       "    <tr>\n",
       "      <th>262</th>\n",
       "      <td>Bubbly Paws</td>\n",
       "      <td>55105</td>\n",
       "      <td>44.940280</td>\n",
       "      <td>-93.140160</td>\n",
       "      <td>Pet Groomers</td>\n",
       "    </tr>\n",
       "  </tbody>\n",
       "</table>\n",
       "</div>"
      ],
      "text/plain": [
       "                                       Venue  Venue Zipcode  Venue Latitude  \\\n",
       "252  Dog Days Daycare & Boarding - Grand Ave          55105       44.939774   \n",
       "253                    Animal Medical Clinic          55105       44.934563   \n",
       "254           Grand Avenue Veterinary Center          55105       44.939693   \n",
       "255                           Grand Groomers          55105       44.939659   \n",
       "262                              Bubbly Paws          55105       44.940280   \n",
       "\n",
       "     Venue Longitude Venue Category  \n",
       "252       -93.174835   Pet Training  \n",
       "253       -93.166825  Veterinarians  \n",
       "254       -93.148247  Veterinarians  \n",
       "255       -93.140472   Pet Groomers  \n",
       "262       -93.140160   Pet Groomers  "
      ]
     },
     "execution_count": 96,
     "metadata": {},
     "output_type": "execute_result"
    }
   ],
   "source": [
    "zipcode55105 = combined_df[combined_df['Venue Zipcode']==55105]\n",
    "zipcode55105[zipcode55105['Venue Category'].isin(catInt + list(set(catInt2) - set(catInt)))]"
   ]
  },
  {
   "cell_type": "markdown",
   "metadata": {},
   "source": [
    "Check on the grocery and supermarket in the area:"
   ]
  },
  {
   "cell_type": "code",
   "execution_count": 97,
   "metadata": {},
   "outputs": [
    {
     "data": {
      "text/html": [
       "<div>\n",
       "<style scoped>\n",
       "    .dataframe tbody tr th:only-of-type {\n",
       "        vertical-align: middle;\n",
       "    }\n",
       "\n",
       "    .dataframe tbody tr th {\n",
       "        vertical-align: top;\n",
       "    }\n",
       "\n",
       "    .dataframe thead th {\n",
       "        text-align: right;\n",
       "    }\n",
       "</style>\n",
       "<table border=\"1\" class=\"dataframe\">\n",
       "  <thead>\n",
       "    <tr style=\"text-align: right;\">\n",
       "      <th></th>\n",
       "      <th>Venue</th>\n",
       "      <th>Venue Zipcode</th>\n",
       "      <th>Venue Latitude</th>\n",
       "      <th>Venue Longitude</th>\n",
       "      <th>Venue Category</th>\n",
       "    </tr>\n",
       "  </thead>\n",
       "  <tbody>\n",
       "    <tr>\n",
       "      <th>190</th>\n",
       "      <td>Kowalski's Market</td>\n",
       "      <td>55105</td>\n",
       "      <td>44.940270</td>\n",
       "      <td>-93.153639</td>\n",
       "      <td>Grocery Store</td>\n",
       "    </tr>\n",
       "    <tr>\n",
       "      <th>228</th>\n",
       "      <td>Trader Joe's</td>\n",
       "      <td>55105</td>\n",
       "      <td>44.926666</td>\n",
       "      <td>-93.146004</td>\n",
       "      <td>Grocery Store</td>\n",
       "    </tr>\n",
       "  </tbody>\n",
       "</table>\n",
       "</div>"
      ],
      "text/plain": [
       "                 Venue  Venue Zipcode  Venue Latitude  Venue Longitude  \\\n",
       "190  Kowalski's Market          55105       44.940270       -93.153639   \n",
       "228       Trader Joe's          55105       44.926666       -93.146004   \n",
       "\n",
       "    Venue Category  \n",
       "190  Grocery Store  \n",
       "228  Grocery Store  "
      ]
     },
     "execution_count": 97,
     "metadata": {},
     "output_type": "execute_result"
    }
   ],
   "source": [
    "zipcode55105[zipcode55105['Venue Category'].isin(['Grocery Store','Supermarket'])]"
   ]
  },
  {
   "cell_type": "markdown",
   "metadata": {},
   "source": [
    "There is no pet store competitor for this area, with two veterinary center / animal medical center that might sell pet related items. Moreover, there are two grocery stores that do sell pet related items in their shelves. This area can be a very good location to open up a new pet store, if the type of items sold in the pet stores are different enough than the ones sold in grocery stores.\n",
    "- 55108: [Falcon Heights area](https://www.unitedstateszipcodes.org/55108/)\n"
   ]
  },
  {
   "cell_type": "code",
   "execution_count": 105,
   "metadata": {},
   "outputs": [
    {
     "data": {
      "text/html": [
       "<div>\n",
       "<style scoped>\n",
       "    .dataframe tbody tr th:only-of-type {\n",
       "        vertical-align: middle;\n",
       "    }\n",
       "\n",
       "    .dataframe tbody tr th {\n",
       "        vertical-align: top;\n",
       "    }\n",
       "\n",
       "    .dataframe thead th {\n",
       "        text-align: right;\n",
       "    }\n",
       "</style>\n",
       "<table border=\"1\" class=\"dataframe\">\n",
       "  <thead>\n",
       "    <tr style=\"text-align: right;\">\n",
       "      <th></th>\n",
       "      <th>Venue</th>\n",
       "      <th>Venue Zipcode</th>\n",
       "      <th>Venue Latitude</th>\n",
       "      <th>Venue Longitude</th>\n",
       "      <th>Venue Category</th>\n",
       "    </tr>\n",
       "  </thead>\n",
       "  <tbody>\n",
       "    <tr>\n",
       "      <th>346</th>\n",
       "      <td>Raptor Center</td>\n",
       "      <td>55108</td>\n",
       "      <td>44.982871</td>\n",
       "      <td>-93.181639</td>\n",
       "      <td>Veterinarians</td>\n",
       "    </tr>\n",
       "    <tr>\n",
       "      <th>347</th>\n",
       "      <td>Animal Humane Society - St. Paul</td>\n",
       "      <td>55108</td>\n",
       "      <td>44.974723</td>\n",
       "      <td>-93.154704</td>\n",
       "      <td>Animal Shelters</td>\n",
       "    </tr>\n",
       "    <tr>\n",
       "      <th>354</th>\n",
       "      <td>University of Minnesota Veterinary Medical Center</td>\n",
       "      <td>55108</td>\n",
       "      <td>44.982202</td>\n",
       "      <td>-93.181925</td>\n",
       "      <td>Veterinarians</td>\n",
       "    </tr>\n",
       "  </tbody>\n",
       "</table>\n",
       "</div>"
      ],
      "text/plain": [
       "                                                 Venue  Venue Zipcode  \\\n",
       "346                                      Raptor Center          55108   \n",
       "347                   Animal Humane Society - St. Paul          55108   \n",
       "354  University of Minnesota Veterinary Medical Center          55108   \n",
       "\n",
       "     Venue Latitude  Venue Longitude   Venue Category  \n",
       "346       44.982871       -93.181639    Veterinarians  \n",
       "347       44.974723       -93.154704  Animal Shelters  \n",
       "354       44.982202       -93.181925    Veterinarians  "
      ]
     },
     "execution_count": 105,
     "metadata": {},
     "output_type": "execute_result"
    }
   ],
   "source": [
    "zipcode55108 = combined_df[combined_df['Venue Zipcode']==55108]\n",
    "zipcode55108[zipcode55108['Venue Category'].isin(catInt + list(set(catInt2) - set(catInt)))]"
   ]
  },
  {
   "cell_type": "markdown",
   "metadata": {},
   "source": [
    "Check on the grocery and supermarket category:"
   ]
  },
  {
   "cell_type": "code",
   "execution_count": 106,
   "metadata": {},
   "outputs": [
    {
     "data": {
      "text/html": [
       "<div>\n",
       "<style scoped>\n",
       "    .dataframe tbody tr th:only-of-type {\n",
       "        vertical-align: middle;\n",
       "    }\n",
       "\n",
       "    .dataframe tbody tr th {\n",
       "        vertical-align: top;\n",
       "    }\n",
       "\n",
       "    .dataframe thead th {\n",
       "        text-align: right;\n",
       "    }\n",
       "</style>\n",
       "<table border=\"1\" class=\"dataframe\">\n",
       "  <thead>\n",
       "    <tr style=\"text-align: right;\">\n",
       "      <th></th>\n",
       "      <th>Venue</th>\n",
       "      <th>Venue Zipcode</th>\n",
       "      <th>Venue Latitude</th>\n",
       "      <th>Venue Longitude</th>\n",
       "      <th>Venue Category</th>\n",
       "    </tr>\n",
       "  </thead>\n",
       "  <tbody>\n",
       "    <tr>\n",
       "      <th>342</th>\n",
       "      <td>Tim &amp; Tom's Speedy Market</td>\n",
       "      <td>55108</td>\n",
       "      <td>44.981728</td>\n",
       "      <td>-93.195084</td>\n",
       "      <td>Grocery Store</td>\n",
       "    </tr>\n",
       "  </tbody>\n",
       "</table>\n",
       "</div>"
      ],
      "text/plain": [
       "                         Venue  Venue Zipcode  Venue Latitude  \\\n",
       "342  Tim & Tom's Speedy Market          55108       44.981728   \n",
       "\n",
       "     Venue Longitude Venue Category  \n",
       "342       -93.195084  Grocery Store  "
      ]
     },
     "execution_count": 106,
     "metadata": {},
     "output_type": "execute_result"
    }
   ],
   "source": [
    "zipcode55108[zipcode55108['Venue Category'].isin(['Grocery Store','Supermarket'])]"
   ]
  },
  {
   "cell_type": "markdown",
   "metadata": {},
   "source": [
    "We did not see any pet store in this zip code. Plus, the [Tim & Tom's Speedy Market](https://timandtomsspeedymarket.com/) is a specialty grocery store that do not sell pet related items. A close contender in terms of a good location to open up a new pet store.  \n",
    "\n",
    "- 55119: [Battle Creek neighborhood](https://www.unitedstateszipcodes.org/55119/)"
   ]
  },
  {
   "cell_type": "code",
   "execution_count": 103,
   "metadata": {
    "scrolled": true
   },
   "outputs": [
    {
     "data": {
      "text/html": [
       "<div>\n",
       "<style scoped>\n",
       "    .dataframe tbody tr th:only-of-type {\n",
       "        vertical-align: middle;\n",
       "    }\n",
       "\n",
       "    .dataframe tbody tr th {\n",
       "        vertical-align: top;\n",
       "    }\n",
       "\n",
       "    .dataframe thead th {\n",
       "        text-align: right;\n",
       "    }\n",
       "</style>\n",
       "<table border=\"1\" class=\"dataframe\">\n",
       "  <thead>\n",
       "    <tr style=\"text-align: right;\">\n",
       "      <th></th>\n",
       "      <th>Venue</th>\n",
       "      <th>Venue Zipcode</th>\n",
       "      <th>Venue Latitude</th>\n",
       "      <th>Venue Longitude</th>\n",
       "      <th>Venue Category</th>\n",
       "    </tr>\n",
       "  </thead>\n",
       "  <tbody>\n",
       "    <tr>\n",
       "      <th>591</th>\n",
       "      <td>Scenic Hills Animal Hospital</td>\n",
       "      <td>55119</td>\n",
       "      <td>44.948980</td>\n",
       "      <td>-93.018270</td>\n",
       "      <td>Veterinarians</td>\n",
       "    </tr>\n",
       "    <tr>\n",
       "      <th>592</th>\n",
       "      <td>Funtastic K9 Training</td>\n",
       "      <td>55119</td>\n",
       "      <td>44.949660</td>\n",
       "      <td>-93.017220</td>\n",
       "      <td>Pet Training</td>\n",
       "    </tr>\n",
       "    <tr>\n",
       "      <th>593</th>\n",
       "      <td>Century Animal Clinic</td>\n",
       "      <td>55119</td>\n",
       "      <td>44.966652</td>\n",
       "      <td>-92.985361</td>\n",
       "      <td>Veterinarians</td>\n",
       "    </tr>\n",
       "    <tr>\n",
       "      <th>600</th>\n",
       "      <td>Battle Creek Dog Park</td>\n",
       "      <td>55119</td>\n",
       "      <td>44.939410</td>\n",
       "      <td>-93.001641</td>\n",
       "      <td>Dog Run</td>\n",
       "    </tr>\n",
       "  </tbody>\n",
       "</table>\n",
       "</div>"
      ],
      "text/plain": [
       "                            Venue  Venue Zipcode  Venue Latitude  \\\n",
       "591  Scenic Hills Animal Hospital          55119       44.948980   \n",
       "592         Funtastic K9 Training          55119       44.949660   \n",
       "593         Century Animal Clinic          55119       44.966652   \n",
       "600         Battle Creek Dog Park          55119       44.939410   \n",
       "\n",
       "     Venue Longitude Venue Category  \n",
       "591       -93.018270  Veterinarians  \n",
       "592       -93.017220   Pet Training  \n",
       "593       -92.985361  Veterinarians  \n",
       "600       -93.001641        Dog Run  "
      ]
     },
     "execution_count": 103,
     "metadata": {},
     "output_type": "execute_result"
    }
   ],
   "source": [
    "zipcode55119 = combined_df[combined_df['Venue Zipcode']==55119]\n",
    "zipcode55119[zipcode55119['Venue Category'].isin(catInt + list(set(catInt2) - set(catInt)))]"
   ]
  },
  {
   "cell_type": "markdown",
   "metadata": {},
   "source": [
    "Check on the grocery and supermarket category:"
   ]
  },
  {
   "cell_type": "code",
   "execution_count": 104,
   "metadata": {
    "scrolled": true
   },
   "outputs": [
    {
     "data": {
      "text/html": [
       "<div>\n",
       "<style scoped>\n",
       "    .dataframe tbody tr th:only-of-type {\n",
       "        vertical-align: middle;\n",
       "    }\n",
       "\n",
       "    .dataframe tbody tr th {\n",
       "        vertical-align: top;\n",
       "    }\n",
       "\n",
       "    .dataframe thead th {\n",
       "        text-align: right;\n",
       "    }\n",
       "</style>\n",
       "<table border=\"1\" class=\"dataframe\">\n",
       "  <thead>\n",
       "    <tr style=\"text-align: right;\">\n",
       "      <th></th>\n",
       "      <th>Venue</th>\n",
       "      <th>Venue Zipcode</th>\n",
       "      <th>Venue Latitude</th>\n",
       "      <th>Venue Longitude</th>\n",
       "      <th>Venue Category</th>\n",
       "    </tr>\n",
       "  </thead>\n",
       "  <tbody>\n",
       "    <tr>\n",
       "      <th>608</th>\n",
       "      <td>Aldi Food Market</td>\n",
       "      <td>55119</td>\n",
       "      <td>44.950548</td>\n",
       "      <td>-93.015737</td>\n",
       "      <td>Grocery Store</td>\n",
       "    </tr>\n",
       "  </tbody>\n",
       "</table>\n",
       "</div>"
      ],
      "text/plain": [
       "                Venue  Venue Zipcode  Venue Latitude  Venue Longitude  \\\n",
       "608  Aldi Food Market          55119       44.950548       -93.015737   \n",
       "\n",
       "    Venue Category  \n",
       "608  Grocery Store  "
      ]
     },
     "execution_count": 104,
     "metadata": {},
     "output_type": "execute_result"
    }
   ],
   "source": [
    "zipcode55119[zipcode55119['Venue Category'].isin(['Grocery Store','Supermarket'])]"
   ]
  },
  {
   "cell_type": "markdown",
   "metadata": {},
   "source": [
    "We did not see any pet store in this zip code, but there are two veterinarians hospitals, where they can potentially sell food and toys for their patients. They also have Aldi grocery store in their area. It is still a great area to have a pet store since the Battle Creek Dog Park is in this neighborhood. "
   ]
  },
  {
   "cell_type": "code",
   "execution_count": null,
   "metadata": {},
   "outputs": [],
   "source": []
  }
 ],
 "metadata": {
  "kernelspec": {
   "display_name": "Python 3",
   "language": "python",
   "name": "python3"
  },
  "language_info": {
   "codemirror_mode": {
    "name": "ipython",
    "version": 3
   },
   "file_extension": ".py",
   "mimetype": "text/x-python",
   "name": "python",
   "nbconvert_exporter": "python",
   "pygments_lexer": "ipython3",
   "version": "3.7.6"
  }
 },
 "nbformat": 4,
 "nbformat_minor": 2
}
