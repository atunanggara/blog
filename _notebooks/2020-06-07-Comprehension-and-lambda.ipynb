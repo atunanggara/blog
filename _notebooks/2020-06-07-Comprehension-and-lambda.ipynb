{
 "cells": [
  {
   "cell_type": "markdown",
   "metadata": {},
   "source": [
    "# Understanding Comprehension and Lambda  \n",
    "> Trying to understand comprehension and lambda    \n",
    "\n",
    "- toc: true  \n",
    "- badges: true  \n",
    "- categories: [Python]  \n",
    "- hide: true"
   ]
  },
  {
   "cell_type": "markdown",
   "metadata": {},
   "source": [
    "# Summary  \n",
    "\n",
    "Explaining comprehension and lambda to my old self.  "
   ]
  },
  {
   "cell_type": "markdown",
   "metadata": {},
   "source": [
    "# Introduction  "
   ]
  },
  {
   "cell_type": "markdown",
   "metadata": {},
   "source": [
    "First, I want to address  events that occurred around 30 minutes away from where I live. In trying to comprehend the situation, I ended up pondering on this quote that was posted from [Chris Damian's blog post](https://chrisdamian.net/2020/05/29/reflections-on-a-second-night-of-fires/):    \n",
    "\n",
    "> “Let me say as I’ve always said, and I will always continue to say, that riots are socially destructive and self-defeating. … But in the final analysis, a riot is the language of the unheard. And what is it that America has failed to hear? It has failed to hear that the plight of the Negro poor has worsened over the last few years. It has failed to hear that the promises of freedom and justice have not been met. And it has failed to hear that large segments of white society are more concerned about tranquility and the status quo than about justice, equality, and humanity. And so in a real sense our nation’s summers of riots are caused by our nation’s winters of delay. And as long as America postpones justice, we stand in the position of having these recurrences of violence and riots over and over again.”\n",
    "\n",
    "Excerpt from Martin Luther King Jr.’s speech “The Other America,” 1967 at Stanford University.  \n",
    "\n",
    "Curious on the context of the quote, I ended up listening to the whole speech on YouTube:  \n",
    "\n",
    ">youtube: https://www.youtube.com/watch?v=dOWDtDUKz-U&t=1s  \n",
    "\n",
    "I hope that the words of MLK Jr. provides a context on the institutional racism that pervades the society in which we live in. May we have a more just and kind society at the end of the day.  "
   ]
  },
  {
   "cell_type": "markdown",
   "metadata": {},
   "source": []
  },
  {
   "cell_type": "code",
   "execution_count": null,
   "metadata": {},
   "outputs": [],
   "source": []
  }
 ],
 "metadata": {
  "kernelspec": {
   "display_name": "Python 3",
   "language": "python",
   "name": "python3"
  },
  "language_info": {
   "codemirror_mode": {
    "name": "ipython",
    "version": 3
   },
   "file_extension": ".py",
   "mimetype": "text/x-python",
   "name": "python",
   "nbconvert_exporter": "python",
   "pygments_lexer": "ipython3",
   "version": "3.7.6"
  }
 },
 "nbformat": 4,
 "nbformat_minor": 2
}
